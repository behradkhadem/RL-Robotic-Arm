{
 "cells": [
  {
   "cell_type": "code",
   "execution_count": 1,
   "metadata": {},
   "outputs": [
    {
     "name": "stderr",
     "output_type": "stream",
     "text": [
      "pybullet build time: May 20 2022 19:45:31\n"
     ]
    }
   ],
   "source": [
    "from urdfenvs.robots.generic_urdf import GenericUrdfReacher\n",
    "from urdfenvs.sensors.full_sensor import FullSensor\n",
    "from urdfenvs.urdf_common import UrdfEnv\n",
    "import os"
   ]
  },
  {
   "cell_type": "code",
   "execution_count": 2,
   "metadata": {},
   "outputs": [],
   "source": [
    "from object import movable_obstacle"
   ]
  },
  {
   "cell_type": "code",
   "execution_count": 3,
   "metadata": {},
   "outputs": [
    {
     "name": "stdout",
     "output_type": "stream",
     "text": [
      "startThreads creating 1 threads.\n",
      "starting thread 0\n",
      "started thread 0 \n",
      "argc=2\n",
      "argv[0] = --unused\n",
      "argv[1] = --start_demo_name=Physics Server\n",
      "ExampleBrowserThreadFunc started\n",
      "X11 functions dynamically loaded using dlopen/dlsym OK!\n",
      "X11 functions dynamically loaded using dlopen/dlsym OK!\n",
      "Creating context\n",
      "Created GL 3.3 context\n",
      "Direct GLX rendering context obtained\n",
      "Making context current\n",
      "GL_VENDOR=Microsoft Corporation\n",
      "GL_RENDERER=D3D12 (NVIDIA GeForce RTX 3050 Ti Laptop GPU)\n",
      "GL_VERSION=3.3 (Core Profile) Mesa 21.2.6\n",
      "GL_SHADING_LANGUAGE_VERSION=3.30\n",
      "pthread_getconcurrency()=0\n",
      "Version = 3.3 (Core Profile) Mesa 21.2.6\n",
      "Vendor = Microsoft Corporation\n",
      "Renderer = D3D12 (NVIDIA GeForce RTX 3050 Ti Laptop GPU)\n",
      "b3Printf: Selected demo: Physics Server\n",
      "startThreads creating 1 threads.\n",
      "starting thread 0\n",
      "started thread 0 \n",
      "MotionThreadFunc thread started\n",
      "ven = Microsoft Corporation\n",
      "ven = Microsoft Corporation\n"
     ]
    },
    {
     "name": "stderr",
     "output_type": "stream",
     "text": [
      "GL error 0x500 detected in glGenBuffers\n"
     ]
    }
   ],
   "source": [
    "robots = [\n",
    "    GenericUrdfReacher(urdf=\"panda_with_gripper.urdf\", mode=\"vel\"),\n",
    "]\n",
    "\n",
    "render: bool = True\n",
    "\n",
    "env = UrdfEnv(render=render, robots=robots)"
   ]
  },
  {
   "cell_type": "code",
   "execution_count": 4,
   "metadata": {},
   "outputs": [
    {
     "name": "stderr",
     "output_type": "stream",
     "text": [
      "/home/behradx/anaconda3/envs/SB3/lib/python3.9/site-packages/gymnasium/spaces/box.py:130: UserWarning: \u001b[33mWARN: Box bound precision lowered by casting to float64\u001b[0m\n",
      "  gym.logger.warn(f\"Box bound precision lowered by casting to {self.dtype}\")\n"
     ]
    }
   ],
   "source": [
    "from reward import DistanceReward\n",
    "\n",
    "sensor = FullSensor(['position'], ['position', 'size'], variance=0.0)\n",
    "env.add_sensor(sensor, [0])\n",
    "env.add_obstacle(movable_obstacle)\n",
    "env.set_reward_calculator(DistanceReward())\n",
    "\n",
    "env.set_spaces()\n",
    "\n",
    "ob, *_ = env.reset()"
   ]
  },
  {
   "cell_type": "code",
   "execution_count": 5,
   "metadata": {},
   "outputs": [],
   "source": [
    "# Stable baselines 3\n",
    "from stable_baselines3 import SAC\n",
    "from stable_baselines3.common.noise import NormalActionNoise\n",
    "\n",
    "from gymnasium.wrappers import FlattenObservation\n"
   ]
  },
  {
   "cell_type": "code",
   "execution_count": 6,
   "metadata": {},
   "outputs": [],
   "source": [
    "env = FlattenObservation(env)"
   ]
  },
  {
   "cell_type": "code",
   "execution_count": 7,
   "metadata": {},
   "outputs": [],
   "source": [
    "from urdfenvs.wrappers.sb3_float32_action_wrapper import SB3Float32ActionWrapper\n",
    "\n",
    "env = SB3Float32ActionWrapper(env)"
   ]
  },
  {
   "cell_type": "code",
   "execution_count": 9,
   "metadata": {},
   "outputs": [],
   "source": [
    "from normalize_action import MapActionWrapper\n",
    "\n",
    "env = MapActionWrapper(env)"
   ]
  },
  {
   "cell_type": "code",
   "execution_count": 10,
   "metadata": {},
   "outputs": [
    {
     "data": {
      "text/plain": [
       "<bound method Box.is_bounded of Box(-1.0, 1.0, (9,), float32)>"
      ]
     },
     "execution_count": 10,
     "metadata": {},
     "output_type": "execute_result"
    }
   ],
   "source": [
    "env.action_space.is_bounded"
   ]
  },
  {
   "cell_type": "code",
   "execution_count": 11,
   "metadata": {},
   "outputs": [],
   "source": [
    "from gymnasium.wrappers import TimeLimit\n",
    "\n",
    "env = TimeLimit(env=env, max_episode_steps= 500)"
   ]
  },
  {
   "cell_type": "code",
   "execution_count": 12,
   "metadata": {},
   "outputs": [
    {
     "name": "stdout",
     "output_type": "stream",
     "text": [
      "Link with name world does not has a parent. Link name is skipped.\n",
      "Link with name world does not has a parent. Link name is skipped.\n",
      "🎁 Reward: 15.579964418045888\n"
     ]
    },
    {
     "name": "stderr",
     "output_type": "stream",
     "text": [
      "Unknown tag \"inertial\" in /robot[@name='panda']\n",
      "Unknown tag \"inertial\" in /robot[@name='panda']\n"
     ]
    },
    {
     "ename": "AssertionError",
     "evalue": "The observation returned by the `step()` method does not match the upper bound of the given observation space Box([-5.     -5.     -5.      0.      0.      0.     -2.8973 -1.7628 -2.8973\n -3.0718 -2.8973 -0.0175 -2.8973  0.      0.     -2.175  -2.175  -2.175\n -2.175  -2.61   -2.61   -2.61   -0.2    -0.2   ], [5.     5.     5.     5.     5.     5.     2.8973 1.7628 2.8973 0.0698\n 2.8973 3.7525 2.8973 0.04   0.04   2.175  2.175  2.175  2.175  2.61\n 2.61   2.61   0.2    0.2   ], (24,), float64). Expected: obs <= 5.0, actual max value: 1.8659414844230822 at index 11",
     "output_type": "error",
     "traceback": [
      "\u001b[0;31m---------------------------------------------------------------------------\u001b[0m",
      "\u001b[0;31mAssertionError\u001b[0m                            Traceback (most recent call last)",
      "\u001b[0;32m/tmp/ipykernel_2704/3480571458.py\u001b[0m in \u001b[0;36m<module>\u001b[0;34m\u001b[0m\n\u001b[1;32m      1\u001b[0m \u001b[0;32mfrom\u001b[0m \u001b[0mstable_baselines3\u001b[0m\u001b[0;34m.\u001b[0m\u001b[0mcommon\u001b[0m\u001b[0;34m.\u001b[0m\u001b[0menv_checker\u001b[0m \u001b[0;32mimport\u001b[0m \u001b[0mcheck_env\u001b[0m\u001b[0;34m\u001b[0m\u001b[0;34m\u001b[0m\u001b[0m\n\u001b[1;32m      2\u001b[0m \u001b[0;34m\u001b[0m\u001b[0m\n\u001b[0;32m----> 3\u001b[0;31m \u001b[0mcheck_env\u001b[0m\u001b[0;34m(\u001b[0m\u001b[0menv\u001b[0m\u001b[0;34m,\u001b[0m \u001b[0mwarn\u001b[0m\u001b[0;34m=\u001b[0m\u001b[0;32mTrue\u001b[0m\u001b[0;34m)\u001b[0m\u001b[0;34m\u001b[0m\u001b[0;34m\u001b[0m\u001b[0m\n\u001b[0m",
      "\u001b[0;32m~/anaconda3/envs/SB3/lib/python3.9/site-packages/stable_baselines3/common/env_checker.py\u001b[0m in \u001b[0;36mcheck_env\u001b[0;34m(env, warn, skip_render_check)\u001b[0m\n\u001b[1;32m    436\u001b[0m \u001b[0;34m\u001b[0m\u001b[0m\n\u001b[1;32m    437\u001b[0m     \u001b[0;31m# ============ Check the returned values ===============\u001b[0m\u001b[0;34m\u001b[0m\u001b[0;34m\u001b[0m\u001b[0m\n\u001b[0;32m--> 438\u001b[0;31m     \u001b[0m_check_returned_values\u001b[0m\u001b[0;34m(\u001b[0m\u001b[0menv\u001b[0m\u001b[0;34m,\u001b[0m \u001b[0mobservation_space\u001b[0m\u001b[0;34m,\u001b[0m \u001b[0maction_space\u001b[0m\u001b[0;34m)\u001b[0m\u001b[0;34m\u001b[0m\u001b[0;34m\u001b[0m\u001b[0m\n\u001b[0m\u001b[1;32m    439\u001b[0m \u001b[0;34m\u001b[0m\u001b[0m\n\u001b[1;32m    440\u001b[0m     \u001b[0;31m# ==== Check the render method and the declared render modes ====\u001b[0m\u001b[0;34m\u001b[0m\u001b[0;34m\u001b[0m\u001b[0m\n",
      "\u001b[0;32m~/anaconda3/envs/SB3/lib/python3.9/site-packages/stable_baselines3/common/env_checker.py\u001b[0m in \u001b[0;36m_check_returned_values\u001b[0;34m(env, observation_space, action_space)\u001b[0m\n\u001b[1;32m    310\u001b[0m \u001b[0;34m\u001b[0m\u001b[0m\n\u001b[1;32m    311\u001b[0m     \u001b[0;32melse\u001b[0m\u001b[0;34m:\u001b[0m\u001b[0;34m\u001b[0m\u001b[0;34m\u001b[0m\u001b[0m\n\u001b[0;32m--> 312\u001b[0;31m         \u001b[0m_check_obs\u001b[0m\u001b[0;34m(\u001b[0m\u001b[0mobs\u001b[0m\u001b[0;34m,\u001b[0m \u001b[0mobservation_space\u001b[0m\u001b[0;34m,\u001b[0m \u001b[0;34m\"step\"\u001b[0m\u001b[0;34m)\u001b[0m\u001b[0;34m\u001b[0m\u001b[0;34m\u001b[0m\u001b[0m\n\u001b[0m\u001b[1;32m    313\u001b[0m \u001b[0;34m\u001b[0m\u001b[0m\n\u001b[1;32m    314\u001b[0m     \u001b[0;31m# We also allow int because the reward will be cast to float\u001b[0m\u001b[0;34m\u001b[0m\u001b[0;34m\u001b[0m\u001b[0m\n",
      "\u001b[0;32m~/anaconda3/envs/SB3/lib/python3.9/site-packages/stable_baselines3/common/env_checker.py\u001b[0m in \u001b[0;36m_check_obs\u001b[0;34m(obs, observation_space, method_name)\u001b[0m\n\u001b[1;32m    210\u001b[0m                 \u001b[0;34mf\"actual min value: {np.min(obs)} at index {np.argmin(obs)}\"\u001b[0m\u001b[0;34m\u001b[0m\u001b[0;34m\u001b[0m\u001b[0m\n\u001b[1;32m    211\u001b[0m             )\n\u001b[0;32m--> 212\u001b[0;31m             assert np.all(obs <= observation_space.high), (\n\u001b[0m\u001b[1;32m    213\u001b[0m                 \u001b[0;34mf\"The observation returned by the `{method_name}()` method does not match the upper bound \"\u001b[0m\u001b[0;34m\u001b[0m\u001b[0;34m\u001b[0m\u001b[0m\n\u001b[1;32m    214\u001b[0m                 \u001b[0;34mf\"of the given observation space {observation_space}. \"\u001b[0m\u001b[0;34m\u001b[0m\u001b[0;34m\u001b[0m\u001b[0m\n",
      "\u001b[0;31mAssertionError\u001b[0m: The observation returned by the `step()` method does not match the upper bound of the given observation space Box([-5.     -5.     -5.      0.      0.      0.     -2.8973 -1.7628 -2.8973\n -3.0718 -2.8973 -0.0175 -2.8973  0.      0.     -2.175  -2.175  -2.175\n -2.175  -2.61   -2.61   -2.61   -0.2    -0.2   ], [5.     5.     5.     5.     5.     5.     2.8973 1.7628 2.8973 0.0698\n 2.8973 3.7525 2.8973 0.04   0.04   2.175  2.175  2.175  2.175  2.61\n 2.61   2.61   0.2    0.2   ], (24,), float64). Expected: obs <= 5.0, actual max value: 1.8659414844230822 at index 11"
     ]
    }
   ],
   "source": [
    "# from stable_baselines3.common.env_checker import check_env\n",
    "\n",
    "# check_env(env, warn=True)"
   ]
  },
  {
   "cell_type": "code",
   "execution_count": 13,
   "metadata": {},
   "outputs": [
    {
     "name": "stderr",
     "output_type": "stream",
     "text": [
      "Unknown tag \"inertial\" in /robot[@name='panda']\n",
      "Unknown tag \"inertial\" in /robot[@name='panda']\n",
      "Unknown tag \"inertial\" in /robot[@name='panda']\n",
      "Unknown tag \"inertial\" in /robot[@name='panda']\n",
      "Unknown tag \"inertial\" in /robot[@name='panda']\n",
      "Unknown tag \"inertial\" in /robot[@name='panda']\n"
     ]
    },
    {
     "name": "stdout",
     "output_type": "stream",
     "text": [
      "Link with name world does not has a parent. Link name is skipped.\n",
      "Link with name world does not has a parent. Link name is skipped.\n",
      "🎁 Reward: 15.581590186507249\n",
      "Link with name world does not has a parent. Link name is skipped.\n",
      "Link with name world does not has a parent. Link name is skipped.\n",
      "🎁 Reward: 15.582725541638041\n",
      "Link with name world does not has a parent. Link name is skipped.\n",
      "Link with name world does not has a parent. Link name is skipped.\n",
      "🎁 Reward: 15.583870531657695\n"
     ]
    },
    {
     "name": "stderr",
     "output_type": "stream",
     "text": [
      "Unknown tag \"inertial\" in /robot[@name='panda']\n",
      "Unknown tag \"inertial\" in /robot[@name='panda']\n",
      "Unknown tag \"inertial\" in /robot[@name='panda']\n",
      "Unknown tag \"inertial\" in /robot[@name='panda']\n",
      "Unknown tag \"inertial\" in /robot[@name='panda']\n",
      "Unknown tag \"inertial\" in /robot[@name='panda']\n"
     ]
    },
    {
     "name": "stdout",
     "output_type": "stream",
     "text": [
      "Link with name world does not has a parent. Link name is skipped.\n",
      "Link with name world does not has a parent. Link name is skipped.\n",
      "🎁 Reward: 15.585024498033585\n",
      "Link with name world does not has a parent. Link name is skipped.\n",
      "Link with name world does not has a parent. Link name is skipped.\n",
      "🎁 Reward: 15.586188626289912\n",
      "Link with name world does not has a parent. Link name is skipped.\n",
      "Link with name world does not has a parent. Link name is skipped.\n",
      "🎁 Reward: 15.587361647402814\n"
     ]
    },
    {
     "name": "stderr",
     "output_type": "stream",
     "text": [
      "Unknown tag \"inertial\" in /robot[@name='panda']\n",
      "Unknown tag \"inertial\" in /robot[@name='panda']\n",
      "Unknown tag \"inertial\" in /robot[@name='panda']\n",
      "Unknown tag \"inertial\" in /robot[@name='panda']\n",
      "Unknown tag \"inertial\" in /robot[@name='panda']\n",
      "Unknown tag \"inertial\" in /robot[@name='panda']\n"
     ]
    },
    {
     "name": "stdout",
     "output_type": "stream",
     "text": [
      "Link with name world does not has a parent. Link name is skipped.\n",
      "Link with name world does not has a parent. Link name is skipped.\n",
      "🎁 Reward: 15.588544176356146\n",
      "Link with name world does not has a parent. Link name is skipped.\n",
      "Link with name world does not has a parent. Link name is skipped.\n",
      "🎁 Reward: 15.589736768166702\n",
      "Link with name world does not has a parent. Link name is skipped.\n",
      "Link with name world does not has a parent. Link name is skipped.\n",
      "🎁 Reward: 15.590938155791301\n"
     ]
    },
    {
     "name": "stderr",
     "output_type": "stream",
     "text": [
      "Unknown tag \"inertial\" in /robot[@name='panda']\n",
      "Unknown tag \"inertial\" in /robot[@name='panda']\n",
      "Unknown tag \"inertial\" in /robot[@name='panda']\n",
      "Unknown tag \"inertial\" in /robot[@name='panda']\n",
      "Unknown tag \"inertial\" in /robot[@name='panda']\n",
      "Unknown tag \"inertial\" in /robot[@name='panda']\n"
     ]
    },
    {
     "name": "stdout",
     "output_type": "stream",
     "text": [
      "Link with name world does not has a parent. Link name is skipped.\n",
      "Link with name world does not has a parent. Link name is skipped.\n",
      "🎁 Reward: 15.592149578780738\n",
      "Link with name world does not has a parent. Link name is skipped.\n",
      "Link with name world does not has a parent. Link name is skipped.\n",
      "🎁 Reward: 15.593369709606296\n",
      "Link with name world does not has a parent. Link name is skipped.\n",
      "Link with name world does not has a parent. Link name is skipped.\n",
      "🎁 Reward: 15.594599159588096\n"
     ]
    },
    {
     "name": "stderr",
     "output_type": "stream",
     "text": [
      "Unknown tag \"inertial\" in /robot[@name='panda']\n",
      "Unknown tag \"inertial\" in /robot[@name='panda']\n",
      "Unknown tag \"inertial\" in /robot[@name='panda']\n",
      "Unknown tag \"inertial\" in /robot[@name='panda']\n",
      "Unknown tag \"inertial\" in /robot[@name='panda']\n",
      "Unknown tag \"inertial\" in /robot[@name='panda']\n"
     ]
    },
    {
     "name": "stdout",
     "output_type": "stream",
     "text": [
      "Link with name world does not has a parent. Link name is skipped.\n",
      "Link with name world does not has a parent. Link name is skipped.\n",
      "🎁 Reward: 15.595838539397397\n",
      "Link with name world does not has a parent. Link name is skipped.\n",
      "Link with name world does not has a parent. Link name is skipped.\n",
      "🎁 Reward: 15.597086519109478\n",
      "Link with name world does not has a parent. Link name is skipped.\n",
      "Link with name world does not has a parent. Link name is skipped.\n",
      "🎁 Reward: 15.598344333537044\n"
     ]
    },
    {
     "name": "stderr",
     "output_type": "stream",
     "text": [
      "Unknown tag \"inertial\" in /robot[@name='panda']\n",
      "Unknown tag \"inertial\" in /robot[@name='panda']\n",
      "Unknown tag \"inertial\" in /robot[@name='panda']\n",
      "Unknown tag \"inertial\" in /robot[@name='panda']\n",
      "Unknown tag \"inertial\" in /robot[@name='panda']\n",
      "Unknown tag \"inertial\" in /robot[@name='panda']\n"
     ]
    },
    {
     "name": "stdout",
     "output_type": "stream",
     "text": [
      "Link with name world does not has a parent. Link name is skipped.\n",
      "Link with name world does not has a parent. Link name is skipped.\n",
      "🎁 Reward: 15.59961071375889\n",
      "Link with name world does not has a parent. Link name is skipped.\n",
      "Link with name world does not has a parent. Link name is skipped.\n",
      "🎁 Reward: 15.60088620446031\n",
      "Link with name world does not has a parent. Link name is skipped.\n",
      "Link with name world does not has a parent. Link name is skipped.\n",
      "🎁 Reward: 15.602171411765905\n"
     ]
    },
    {
     "name": "stderr",
     "output_type": "stream",
     "text": [
      "Unknown tag \"inertial\" in /robot[@name='panda']\n",
      "Unknown tag \"inertial\" in /robot[@name='panda']\n",
      "Unknown tag \"inertial\" in /robot[@name='panda']\n",
      "Unknown tag \"inertial\" in /robot[@name='panda']\n",
      "Unknown tag \"inertial\" in /robot[@name='panda']\n",
      "Unknown tag \"inertial\" in /robot[@name='panda']\n"
     ]
    },
    {
     "name": "stdout",
     "output_type": "stream",
     "text": [
      "Link with name world does not has a parent. Link name is skipped.\n",
      "Link with name world does not has a parent. Link name is skipped.\n",
      "🎁 Reward: 15.603465065366798\n",
      "Link with name world does not has a parent. Link name is skipped.\n",
      "Link with name world does not has a parent. Link name is skipped.\n",
      "🎁 Reward: 15.604768330877903\n",
      "Link with name world does not has a parent. Link name is skipped.\n",
      "Link with name world does not has a parent. Link name is skipped.\n",
      "🎁 Reward: 15.606079936462946\n"
     ]
    },
    {
     "name": "stderr",
     "output_type": "stream",
     "text": [
      "Unknown tag \"inertial\" in /robot[@name='panda']\n",
      "Unknown tag \"inertial\" in /robot[@name='panda']\n",
      "Unknown tag \"inertial\" in /robot[@name='panda']\n",
      "Unknown tag \"inertial\" in /robot[@name='panda']\n",
      "Unknown tag \"inertial\" in /robot[@name='panda']\n",
      "Unknown tag \"inertial\" in /robot[@name='panda']\n"
     ]
    },
    {
     "name": "stdout",
     "output_type": "stream",
     "text": [
      "Link with name world does not has a parent. Link name is skipped.\n",
      "Link with name world does not has a parent. Link name is skipped.\n",
      "🎁 Reward: 15.607400485317712\n",
      "Link with name world does not has a parent. Link name is skipped.\n",
      "Link with name world does not has a parent. Link name is skipped.\n",
      "🎁 Reward: 15.608730513169\n",
      "Link with name world does not has a parent. Link name is skipped.\n",
      "Link with name world does not has a parent. Link name is skipped.\n",
      "🎁 Reward: 15.61006874638762\n"
     ]
    },
    {
     "name": "stderr",
     "output_type": "stream",
     "text": [
      "Unknown tag \"inertial\" in /robot[@name='panda']\n",
      "Unknown tag \"inertial\" in /robot[@name='panda']\n",
      "Unknown tag \"inertial\" in /robot[@name='panda']\n",
      "Unknown tag \"inertial\" in /robot[@name='panda']\n",
      "Unknown tag \"inertial\" in /robot[@name='panda']\n",
      "Unknown tag \"inertial\" in /robot[@name='panda']\n"
     ]
    },
    {
     "name": "stdout",
     "output_type": "stream",
     "text": [
      "Link with name world does not has a parent. Link name is skipped.\n",
      "Link with name world does not has a parent. Link name is skipped.\n",
      "🎁 Reward: 15.611416409281714\n",
      "Link with name world does not has a parent. Link name is skipped.\n",
      "Link with name world does not has a parent. Link name is skipped.\n",
      "🎁 Reward: 15.61277215996306\n",
      "Link with name world does not has a parent. Link name is skipped.\n",
      "Link with name world does not has a parent. Link name is skipped.\n",
      "🎁 Reward: 15.614136595684922\n",
      "Link with name world does not has a parent. Link name is skipped.\n",
      "Link with name world does not has a parent. Link name is skipped.\n",
      "🎁 Reward: 15.615510312515124\n",
      "Link with name world does not has a parent. Link name is skipped.\n",
      "Link with name world does not has a parent. Link name is skipped.\n",
      "🎁 Reward: 15.616891964981928\n",
      "Link with name world does not has a parent. Link name is skipped.\n",
      "Link with name world does not has a parent. Link name is skipped.\n"
     ]
    },
    {
     "name": "stderr",
     "output_type": "stream",
     "text": [
      "Unknown tag \"inertial\" in /robot[@name='panda']\n",
      "Unknown tag \"inertial\" in /robot[@name='panda']\n",
      "Unknown tag \"inertial\" in /robot[@name='panda']\n",
      "Unknown tag \"inertial\" in /robot[@name='panda']\n",
      "Unknown tag \"inertial\" in /robot[@name='panda']\n",
      "Unknown tag \"inertial\" in /robot[@name='panda']\n"
     ]
    },
    {
     "name": "stdout",
     "output_type": "stream",
     "text": [
      "🎁 Reward: 15.618282770207498\n",
      "Link with name world does not has a parent. Link name is skipped.\n",
      "Link with name world does not has a parent. Link name is skipped.\n",
      "🎁 Reward: 15.619681426543343\n",
      "Link with name world does not has a parent. Link name is skipped.\n",
      "Link with name world does not has a parent. Link name is skipped.\n",
      "🎁 Reward: 15.621088525478026\n"
     ]
    },
    {
     "name": "stderr",
     "output_type": "stream",
     "text": [
      "Unknown tag \"inertial\" in /robot[@name='panda']\n",
      "Unknown tag \"inertial\" in /robot[@name='panda']\n",
      "Unknown tag \"inertial\" in /robot[@name='panda']\n",
      "Unknown tag \"inertial\" in /robot[@name='panda']\n",
      "Unknown tag \"inertial\" in /robot[@name='panda']\n",
      "Unknown tag \"inertial\" in /robot[@name='panda']\n",
      "Unknown tag \"inertial\" in /robot[@name='panda']\n",
      "Unknown tag \"inertial\" in /robot[@name='panda']\n"
     ]
    },
    {
     "name": "stdout",
     "output_type": "stream",
     "text": [
      "Link with name world does not has a parent. Link name is skipped.\n",
      "Link with name world does not has a parent. Link name is skipped.\n",
      "🎁 Reward: 15.622504586010978\n",
      "Link with name world does not has a parent. Link name is skipped.\n",
      "Link with name world does not has a parent. Link name is skipped.\n",
      "🎁 Reward: 15.62392832689065\n",
      "Link with name world does not has a parent. Link name is skipped.\n",
      "Link with name world does not has a parent. Link name is skipped.\n",
      "🎁 Reward: 15.625360958218247\n"
     ]
    },
    {
     "name": "stderr",
     "output_type": "stream",
     "text": [
      "Unknown tag \"inertial\" in /robot[@name='panda']\n",
      "Unknown tag \"inertial\" in /robot[@name='panda']\n",
      "Unknown tag \"inertial\" in /robot[@name='panda']\n",
      "Unknown tag \"inertial\" in /robot[@name='panda']\n",
      "Unknown tag \"inertial\" in /robot[@name='panda']\n",
      "Unknown tag \"inertial\" in /robot[@name='panda']\n"
     ]
    },
    {
     "name": "stdout",
     "output_type": "stream",
     "text": [
      "Link with name world does not has a parent. Link name is skipped.\n",
      "Link with name world does not has a parent. Link name is skipped.\n",
      "🎁 Reward: 15.626801125347464\n",
      "Link with name world does not has a parent. Link name is skipped.\n",
      "Link with name world does not has a parent. Link name is skipped.\n",
      "🎁 Reward: 15.628249412371536\n",
      "Link with name world does not has a parent. Link name is skipped.\n",
      "Link with name world does not has a parent. Link name is skipped.\n",
      "🎁 Reward: 15.62970640186334\n",
      "Link with name world does not has a parent. Link name is skipped.\n",
      "Link with name world does not has a parent. Link name is skipped.\n",
      "🎁 Reward: 15.631170734934\n"
     ]
    },
    {
     "name": "stderr",
     "output_type": "stream",
     "text": [
      "Unknown tag \"inertial\" in /robot[@name='panda']\n",
      "Unknown tag \"inertial\" in /robot[@name='panda']\n",
      "Unknown tag \"inertial\" in /robot[@name='panda']\n",
      "Unknown tag \"inertial\" in /robot[@name='panda']\n",
      "Unknown tag \"inertial\" in /robot[@name='panda']\n",
      "Unknown tag \"inertial\" in /robot[@name='panda']\n",
      "Unknown tag \"inertial\" in /robot[@name='panda']\n",
      "Unknown tag \"inertial\" in /robot[@name='panda']\n"
     ]
    },
    {
     "name": "stdout",
     "output_type": "stream",
     "text": [
      "Link with name world does not has a parent. Link name is skipped.\n",
      "Link with name world does not has a parent. Link name is skipped.\n",
      "🎁 Reward: 15.632643787459275\n",
      "Link with name world does not has a parent. Link name is skipped.\n",
      "Link with name world does not has a parent. Link name is skipped.\n",
      "🎁 Reward: 15.63412695464623\n",
      "Link with name world does not has a parent. Link name is skipped.\n",
      "Link with name world does not has a parent. Link name is skipped.\n",
      "🎁 Reward: 15.635617788523406\n",
      "Link with name world does not has a parent. Link name is skipped.\n",
      "Link with name world does not has a parent. Link name is skipped.\n"
     ]
    },
    {
     "name": "stderr",
     "output_type": "stream",
     "text": [
      "Unknown tag \"inertial\" in /robot[@name='panda']\n",
      "Unknown tag \"inertial\" in /robot[@name='panda']\n",
      "Unknown tag \"inertial\" in /robot[@name='panda']\n",
      "Unknown tag \"inertial\" in /robot[@name='panda']\n",
      "Unknown tag \"inertial\" in /robot[@name='panda']\n",
      "Unknown tag \"inertial\" in /robot[@name='panda']\n",
      "Unknown tag \"inertial\" in /robot[@name='panda']\n",
      "Unknown tag \"inertial\" in /robot[@name='panda']\n"
     ]
    },
    {
     "name": "stdout",
     "output_type": "stream",
     "text": [
      "🎁 Reward: 15.637116970447495\n",
      "Link with name world does not has a parent. Link name is skipped.\n",
      "Link with name world does not has a parent. Link name is skipped.\n",
      "🎁 Reward: 15.638623210993734\n",
      "Link with name world does not has a parent. Link name is skipped.\n",
      "Link with name world does not has a parent. Link name is skipped.\n",
      "🎁 Reward: 15.640137626947444\n",
      "Link with name world does not has a parent. Link name is skipped.\n",
      "Link with name world does not has a parent. Link name is skipped.\n"
     ]
    },
    {
     "name": "stderr",
     "output_type": "stream",
     "text": [
      "Unknown tag \"inertial\" in /robot[@name='panda']\n",
      "Unknown tag \"inertial\" in /robot[@name='panda']\n",
      "Unknown tag \"inertial\" in /robot[@name='panda']\n",
      "Unknown tag \"inertial\" in /robot[@name='panda']\n",
      "Unknown tag \"inertial\" in /robot[@name='panda']\n",
      "Unknown tag \"inertial\" in /robot[@name='panda']\n",
      "Unknown tag \"inertial\" in /robot[@name='panda']\n",
      "Unknown tag \"inertial\" in /robot[@name='panda']\n"
     ]
    },
    {
     "name": "stdout",
     "output_type": "stream",
     "text": [
      "🎁 Reward: 15.641658925053557\n",
      "Link with name world does not has a parent. Link name is skipped.\n",
      "Link with name world does not has a parent. Link name is skipped.\n",
      "🎁 Reward: 15.643187674073301\n",
      "Link with name world does not has a parent. Link name is skipped.\n",
      "Link with name world does not has a parent. Link name is skipped.\n",
      "🎁 Reward: 15.644724362900794\n",
      "Link with name world does not has a parent. Link name is skipped.\n",
      "Link with name world does not has a parent. Link name is skipped.\n",
      "🎁 Reward: 15.646267694900484\n"
     ]
    },
    {
     "name": "stderr",
     "output_type": "stream",
     "text": [
      "Unknown tag \"inertial\" in /robot[@name='panda']\n",
      "Unknown tag \"inertial\" in /robot[@name='panda']\n",
      "Unknown tag \"inertial\" in /robot[@name='panda']\n",
      "Unknown tag \"inertial\" in /robot[@name='panda']\n",
      "Unknown tag \"inertial\" in /robot[@name='panda']\n",
      "Unknown tag \"inertial\" in /robot[@name='panda']\n"
     ]
    },
    {
     "name": "stdout",
     "output_type": "stream",
     "text": [
      "Link with name world does not has a parent. Link name is skipped.\n",
      "Link with name world does not has a parent. Link name is skipped.\n",
      "🎁 Reward: 15.647818853577615\n",
      "Link with name world does not has a parent. Link name is skipped.\n",
      "Link with name world does not has a parent. Link name is skipped.\n",
      "🎁 Reward: 15.649376461471732\n",
      "Link with name world does not has a parent. Link name is skipped.\n",
      "Link with name world does not has a parent. Link name is skipped.\n",
      "🎁 Reward: 15.650941078169547\n"
     ]
    },
    {
     "name": "stderr",
     "output_type": "stream",
     "text": [
      "Unknown tag \"inertial\" in /robot[@name='panda']\n",
      "Unknown tag \"inertial\" in /robot[@name='panda']\n",
      "Unknown tag \"inertial\" in /robot[@name='panda']\n",
      "Unknown tag \"inertial\" in /robot[@name='panda']\n",
      "Unknown tag \"inertial\" in /robot[@name='panda']\n",
      "Unknown tag \"inertial\" in /robot[@name='panda']\n"
     ]
    },
    {
     "name": "stdout",
     "output_type": "stream",
     "text": [
      "Link with name world does not has a parent. Link name is skipped.\n",
      "Link with name world does not has a parent. Link name is skipped.\n",
      "🎁 Reward: 15.65251326128844\n",
      "Link with name world does not has a parent. Link name is skipped.\n",
      "Link with name world does not has a parent. Link name is skipped.\n",
      "🎁 Reward: 15.654091628408178\n",
      "Link with name world does not has a parent. Link name is skipped.\n",
      "Link with name world does not has a parent. Link name is skipped.\n",
      "🎁 Reward: 15.65567735251404\n"
     ]
    },
    {
     "name": "stderr",
     "output_type": "stream",
     "text": [
      "Unknown tag \"inertial\" in /robot[@name='panda']\n",
      "Unknown tag \"inertial\" in /robot[@name='panda']\n",
      "Unknown tag \"inertial\" in /robot[@name='panda']\n",
      "Unknown tag \"inertial\" in /robot[@name='panda']\n",
      "Unknown tag \"inertial\" in /robot[@name='panda']\n",
      "Unknown tag \"inertial\" in /robot[@name='panda']\n"
     ]
    },
    {
     "name": "stdout",
     "output_type": "stream",
     "text": [
      "Link with name world does not has a parent. Link name is skipped.\n",
      "Link with name world does not has a parent. Link name is skipped.\n",
      "🎁 Reward: 15.657269129002252\n",
      "Link with name world does not has a parent. Link name is skipped.\n",
      "Link with name world does not has a parent. Link name is skipped.\n",
      "🎁 Reward: 15.658867427027419\n",
      "Link with name world does not has a parent. Link name is skipped.\n",
      "Link with name world does not has a parent. Link name is skipped.\n",
      "🎁 Reward: 15.660472794376547\n"
     ]
    },
    {
     "name": "stderr",
     "output_type": "stream",
     "text": [
      "Unknown tag \"inertial\" in /robot[@name='panda']\n",
      "Unknown tag \"inertial\" in /robot[@name='panda']\n",
      "Unknown tag \"inertial\" in /robot[@name='panda']\n",
      "Unknown tag \"inertial\" in /robot[@name='panda']\n",
      "Unknown tag \"inertial\" in /robot[@name='panda']\n",
      "Unknown tag \"inertial\" in /robot[@name='panda']\n"
     ]
    },
    {
     "name": "stdout",
     "output_type": "stream",
     "text": [
      "Link with name world does not has a parent. Link name is skipped.\n",
      "Link with name world does not has a parent. Link name is skipped.\n",
      "🎁 Reward: 15.662083922623447\n",
      "Link with name world does not has a parent. Link name is skipped.\n",
      "Link with name world does not has a parent. Link name is skipped.\n",
      "🎁 Reward: 15.663701891602443\n",
      "Link with name world does not has a parent. Link name is skipped.\n",
      "Link with name world does not has a parent. Link name is skipped.\n",
      "🎁 Reward: 15.665325389835154\n",
      "Link with name world does not has a parent. Link name is skipped.\n",
      "Link with name world does not has a parent. Link name is skipped.\n",
      "🎁 Reward: 15.666954958345087\n",
      "Link with name world does not has a parent. Link name is skipped.\n",
      "Link with name world does not has a parent. Link name is skipped.\n",
      "🎁 Reward: 15.668591051208795\n",
      "Link with name world does not has a parent. Link name is skipped.\n",
      "Link with name world does not has a parent. Link name is skipped.\n",
      "🎁 Reward: 15.670232352933107\n"
     ]
    },
    {
     "name": "stderr",
     "output_type": "stream",
     "text": [
      "Unknown tag \"inertial\" in /robot[@name='panda']\n",
      "Unknown tag \"inertial\" in /robot[@name='panda']\n",
      "Unknown tag \"inertial\" in /robot[@name='panda']\n",
      "Unknown tag \"inertial\" in /robot[@name='panda']\n",
      "Unknown tag \"inertial\" in /robot[@name='panda']\n",
      "Unknown tag \"inertial\" in /robot[@name='panda']\n",
      "Unknown tag \"inertial\" in /robot[@name='panda']\n",
      "Unknown tag \"inertial\" in /robot[@name='panda']\n"
     ]
    },
    {
     "name": "stdout",
     "output_type": "stream",
     "text": [
      "Link with name world does not has a parent. Link name is skipped.\n",
      "Link with name world does not has a parent. Link name is skipped.\n",
      "🎁 Reward: 15.671879986586546\n",
      "Link with name world does not has a parent. Link name is skipped.\n",
      "Link with name world does not has a parent. Link name is skipped.\n",
      "🎁 Reward: 15.673532634362841\n",
      "Link with name world does not has a parent. Link name is skipped.\n",
      "Link with name world does not has a parent. Link name is skipped.\n",
      "🎁 Reward: 15.67519074106456\n"
     ]
    },
    {
     "name": "stderr",
     "output_type": "stream",
     "text": [
      "Unknown tag \"inertial\" in /robot[@name='panda']\n",
      "Unknown tag \"inertial\" in /robot[@name='panda']\n",
      "Unknown tag \"inertial\" in /robot[@name='panda']\n",
      "Unknown tag \"inertial\" in /robot[@name='panda']\n",
      "Unknown tag \"inertial\" in /robot[@name='panda']\n",
      "Unknown tag \"inertial\" in /robot[@name='panda']\n"
     ]
    },
    {
     "name": "stdout",
     "output_type": "stream",
     "text": [
      "Link with name world does not has a parent. Link name is skipped.\n",
      "Link with name world does not has a parent. Link name is skipped.\n",
      "🎁 Reward: 15.676854834213694\n",
      "Link with name world does not has a parent. Link name is skipped.\n",
      "Link with name world does not has a parent. Link name is skipped.\n",
      "🎁 Reward: 15.678523591798044\n",
      "Link with name world does not has a parent. Link name is skipped.\n",
      "Link with name world does not has a parent. Link name is skipped.\n",
      "🎁 Reward: 15.680198066431918\n"
     ]
    },
    {
     "name": "stderr",
     "output_type": "stream",
     "text": [
      "Unknown tag \"inertial\" in /robot[@name='panda']\n",
      "Unknown tag \"inertial\" in /robot[@name='panda']\n",
      "Unknown tag \"inertial\" in /robot[@name='panda']\n",
      "Unknown tag \"inertial\" in /robot[@name='panda']\n",
      "Unknown tag \"inertial\" in /robot[@name='panda']\n",
      "Unknown tag \"inertial\" in /robot[@name='panda']\n"
     ]
    },
    {
     "name": "stdout",
     "output_type": "stream",
     "text": [
      "Link with name world does not has a parent. Link name is skipped.\n",
      "Link with name world does not has a parent. Link name is skipped.\n",
      "🎁 Reward: 15.68187693282777\n",
      "Link with name world does not has a parent. Link name is skipped.\n",
      "Link with name world does not has a parent. Link name is skipped.\n",
      "🎁 Reward: 15.683560711019487\n",
      "Link with name world does not has a parent. Link name is skipped.\n",
      "Link with name world does not has a parent. Link name is skipped.\n",
      "🎁 Reward: 15.685249829636362\n"
     ]
    },
    {
     "name": "stderr",
     "output_type": "stream",
     "text": [
      "Unknown tag \"inertial\" in /robot[@name='panda']\n",
      "Unknown tag \"inertial\" in /robot[@name='panda']\n",
      "Unknown tag \"inertial\" in /robot[@name='panda']\n",
      "Unknown tag \"inertial\" in /robot[@name='panda']\n",
      "Unknown tag \"inertial\" in /robot[@name='panda']\n",
      "Unknown tag \"inertial\" in /robot[@name='panda']\n"
     ]
    },
    {
     "name": "stdout",
     "output_type": "stream",
     "text": [
      "Link with name world does not has a parent. Link name is skipped.\n",
      "Link with name world does not has a parent. Link name is skipped.\n",
      "🎁 Reward: 15.686942959024616\n",
      "Link with name world does not has a parent. Link name is skipped.\n",
      "Link with name world does not has a parent. Link name is skipped.\n",
      "🎁 Reward: 15.677835450166366\n",
      "Link with name world does not has a parent. Link name is skipped.\n",
      "Link with name world does not has a parent. Link name is skipped.\n",
      "🎁 Reward: 15.669076739404389\n"
     ]
    },
    {
     "name": "stderr",
     "output_type": "stream",
     "text": [
      "Unknown tag \"inertial\" in /robot[@name='panda']\n",
      "Unknown tag \"inertial\" in /robot[@name='panda']\n",
      "Unknown tag \"inertial\" in /robot[@name='panda']\n",
      "Unknown tag \"inertial\" in /robot[@name='panda']\n",
      "Unknown tag \"inertial\" in /robot[@name='panda']\n",
      "Unknown tag \"inertial\" in /robot[@name='panda']\n",
      "Unknown tag \"inertial\" in /robot[@name='panda']\n",
      "Unknown tag \"inertial\" in /robot[@name='panda']\n"
     ]
    },
    {
     "name": "stdout",
     "output_type": "stream",
     "text": [
      "Link with name world does not has a parent. Link name is skipped.\n",
      "Link with name world does not has a parent. Link name is skipped.\n",
      "🎁 Reward: 15.65984928458218\n",
      "Link with name world does not has a parent. Link name is skipped.\n",
      "Link with name world does not has a parent. Link name is skipped.\n",
      "🎁 Reward: 15.650325927408348\n",
      "Link with name world does not has a parent. Link name is skipped.\n",
      "Link with name world does not has a parent. Link name is skipped.\n"
     ]
    },
    {
     "name": "stderr",
     "output_type": "stream",
     "text": [
      "Unknown tag \"inertial\" in /robot[@name='panda']\n",
      "Unknown tag \"inertial\" in /robot[@name='panda']\n",
      "Unknown tag \"inertial\" in /robot[@name='panda']\n",
      "Unknown tag \"inertial\" in /robot[@name='panda']\n",
      "Unknown tag \"inertial\" in /robot[@name='panda']\n",
      "Unknown tag \"inertial\" in /robot[@name='panda']\n"
     ]
    },
    {
     "name": "stdout",
     "output_type": "stream",
     "text": [
      "🎁 Reward: 15.640565733218844\n",
      "Link with name world does not has a parent. Link name is skipped.\n",
      "Link with name world does not has a parent. Link name is skipped.\n",
      "🎁 Reward: 15.630639343504352\n",
      "Link with name world does not has a parent. Link name is skipped.\n",
      "Link with name world does not has a parent. Link name is skipped.\n",
      "🎁 Reward: 15.620622304047734\n",
      "Link with name world does not has a parent. Link name is skipped.\n",
      "Link with name world does not has a parent. Link name is skipped.\n"
     ]
    },
    {
     "name": "stderr",
     "output_type": "stream",
     "text": [
      "Unknown tag \"inertial\" in /robot[@name='panda']\n",
      "Unknown tag \"inertial\" in /robot[@name='panda']\n",
      "Unknown tag \"inertial\" in /robot[@name='panda']\n",
      "Unknown tag \"inertial\" in /robot[@name='panda']\n",
      "Unknown tag \"inertial\" in /robot[@name='panda']\n",
      "Unknown tag \"inertial\" in /robot[@name='panda']\n",
      "Unknown tag \"inertial\" in /robot[@name='panda']\n",
      "Unknown tag \"inertial\" in /robot[@name='panda']\n"
     ]
    },
    {
     "name": "stdout",
     "output_type": "stream",
     "text": [
      "🎁 Reward: 15.61059705439661\n",
      "Link with name world does not has a parent. Link name is skipped.\n",
      "Link with name world does not has a parent. Link name is skipped.\n",
      "🎁 Reward: 15.612327081752168\n",
      "Link with name world does not has a parent. Link name is skipped.\n",
      "Link with name world does not has a parent. Link name is skipped.\n",
      "🎁 Reward: 15.614504259262466\n",
      "Link with name world does not has a parent. Link name is skipped.\n",
      "Link with name world does not has a parent. Link name is skipped.\n",
      "🎁 Reward: 15.61669257471732\n",
      "Link with name world does not has a parent. Link name is skipped.\n",
      "Link with name world does not has a parent. Link name is skipped.\n",
      "🎁 Reward: 15.618890704123732\n",
      "Link with name world does not has a parent. Link name is skipped.\n",
      "Link with name world does not has a parent. Link name is skipped.\n",
      "🎁 Reward: 15.621099191098148\n",
      "Link with name world does not has a parent. Link name is skipped.\n",
      "Link with name world does not has a parent. Link name is skipped.\n"
     ]
    },
    {
     "name": "stderr",
     "output_type": "stream",
     "text": [
      "Unknown tag \"inertial\" in /robot[@name='panda']\n",
      "Unknown tag \"inertial\" in /robot[@name='panda']\n",
      "Unknown tag \"inertial\" in /robot[@name='panda']\n",
      "Unknown tag \"inertial\" in /robot[@name='panda']\n",
      "Unknown tag \"inertial\" in /robot[@name='panda']\n",
      "Unknown tag \"inertial\" in /robot[@name='panda']\n",
      "Unknown tag \"inertial\" in /robot[@name='panda']\n",
      "Unknown tag \"inertial\" in /robot[@name='panda']\n"
     ]
    },
    {
     "name": "stdout",
     "output_type": "stream",
     "text": [
      "🎁 Reward: 15.623318488409518\n",
      "Link with name world does not has a parent. Link name is skipped.\n",
      "Link with name world does not has a parent. Link name is skipped.\n",
      "🎁 Reward: 15.625547264533921\n",
      "Link with name world does not has a parent. Link name is skipped.\n",
      "Link with name world does not has a parent. Link name is skipped.\n",
      "🎁 Reward: 15.62778667555741\n",
      "Link with name world does not has a parent. Link name is skipped.\n",
      "Link with name world does not has a parent. Link name is skipped.\n",
      "🎁 Reward: 15.630035296396187\n"
     ]
    },
    {
     "name": "stderr",
     "output_type": "stream",
     "text": [
      "Unknown tag \"inertial\" in /robot[@name='panda']\n",
      "Unknown tag \"inertial\" in /robot[@name='panda']\n",
      "Unknown tag \"inertial\" in /robot[@name='panda']\n",
      "Unknown tag \"inertial\" in /robot[@name='panda']\n",
      "Unknown tag \"inertial\" in /robot[@name='panda']\n",
      "Unknown tag \"inertial\" in /robot[@name='panda']\n",
      "Unknown tag \"inertial\" in /robot[@name='panda']\n",
      "Unknown tag \"inertial\" in /robot[@name='panda']\n"
     ]
    },
    {
     "name": "stdout",
     "output_type": "stream",
     "text": [
      "Link with name world does not has a parent. Link name is skipped.\n",
      "Link with name world does not has a parent. Link name is skipped.\n",
      "🎁 Reward: 15.632293653760259\n",
      "Link with name world does not has a parent. Link name is skipped.\n",
      "Link with name world does not has a parent. Link name is skipped.\n",
      "🎁 Reward: 15.627882781016606\n",
      "Link with name world does not has a parent. Link name is skipped.\n",
      "Link with name world does not has a parent. Link name is skipped.\n",
      "🎁 Reward: 15.624999455955056\n",
      "Link with name world does not has a parent. Link name is skipped.\n",
      "Link with name world does not has a parent. Link name is skipped.\n",
      "🎁 Reward: 15.622007854587572\n"
     ]
    },
    {
     "name": "stderr",
     "output_type": "stream",
     "text": [
      "Unknown tag \"inertial\" in /robot[@name='panda']\n",
      "Unknown tag \"inertial\" in /robot[@name='panda']\n",
      "Unknown tag \"inertial\" in /robot[@name='panda']\n",
      "Unknown tag \"inertial\" in /robot[@name='panda']\n",
      "Unknown tag \"inertial\" in /robot[@name='panda']\n",
      "Unknown tag \"inertial\" in /robot[@name='panda']\n",
      "Unknown tag \"inertial\" in /robot[@name='panda']\n",
      "Unknown tag \"inertial\" in /robot[@name='panda']\n"
     ]
    },
    {
     "name": "stdout",
     "output_type": "stream",
     "text": [
      "Link with name world does not has a parent. Link name is skipped.\n",
      "Link with name world does not has a parent. Link name is skipped.\n",
      "🎁 Reward: 15.619161406173752\n",
      "Link with name world does not has a parent. Link name is skipped.\n",
      "Link with name world does not has a parent. Link name is skipped.\n",
      "🎁 Reward: 15.616462409645766\n",
      "Link with name world does not has a parent. Link name is skipped.\n",
      "Link with name world does not has a parent. Link name is skipped.\n",
      "🎁 Reward: 15.613012948477442\n"
     ]
    },
    {
     "name": "stderr",
     "output_type": "stream",
     "text": [
      "Unknown tag \"inertial\" in /robot[@name='panda']\n",
      "Unknown tag \"inertial\" in /robot[@name='panda']\n",
      "Unknown tag \"inertial\" in /robot[@name='panda']\n",
      "Unknown tag \"inertial\" in /robot[@name='panda']\n",
      "Unknown tag \"inertial\" in /robot[@name='panda']\n",
      "Unknown tag \"inertial\" in /robot[@name='panda']\n"
     ]
    },
    {
     "name": "stdout",
     "output_type": "stream",
     "text": [
      "Link with name world does not has a parent. Link name is skipped.\n",
      "Link with name world does not has a parent. Link name is skipped.\n",
      "🎁 Reward: 15.609762944165412\n",
      "Link with name world does not has a parent. Link name is skipped.\n",
      "Link with name world does not has a parent. Link name is skipped.\n",
      "🎁 Reward: 15.606736103146535\n",
      "Link with name world does not has a parent. Link name is skipped.\n",
      "Link with name world does not has a parent. Link name is skipped.\n",
      "🎁 Reward: 15.609033481131725\n",
      "Link with name world does not has a parent. Link name is skipped.\n",
      "Link with name world does not has a parent. Link name is skipped.\n",
      "🎁 Reward: 15.6115011378718\n"
     ]
    },
    {
     "name": "stderr",
     "output_type": "stream",
     "text": [
      "Unknown tag \"inertial\" in /robot[@name='panda']\n",
      "Unknown tag \"inertial\" in /robot[@name='panda']\n",
      "Unknown tag \"inertial\" in /robot[@name='panda']\n",
      "Unknown tag \"inertial\" in /robot[@name='panda']\n",
      "Unknown tag \"inertial\" in /robot[@name='panda']\n",
      "Unknown tag \"inertial\" in /robot[@name='panda']\n",
      "Unknown tag \"inertial\" in /robot[@name='panda']\n",
      "Unknown tag \"inertial\" in /robot[@name='panda']\n"
     ]
    },
    {
     "name": "stdout",
     "output_type": "stream",
     "text": [
      "Link with name world does not has a parent. Link name is skipped.\n",
      "Link with name world does not has a parent. Link name is skipped.\n",
      "🎁 Reward: 15.61398208858311\n",
      "Link with name world does not has a parent. Link name is skipped.\n",
      "Link with name world does not has a parent. Link name is skipped.\n",
      "🎁 Reward: 15.616474908976619\n",
      "Link with name world does not has a parent. Link name is skipped.\n",
      "Link with name world does not has a parent. Link name is skipped.\n",
      "🎁 Reward: 15.618980755562626\n"
     ]
    },
    {
     "name": "stderr",
     "output_type": "stream",
     "text": [
      "Unknown tag \"inertial\" in /robot[@name='panda']\n",
      "Unknown tag \"inertial\" in /robot[@name='panda']\n",
      "Unknown tag \"inertial\" in /robot[@name='panda']\n",
      "Unknown tag \"inertial\" in /robot[@name='panda']\n",
      "Unknown tag \"inertial\" in /robot[@name='panda']\n",
      "Unknown tag \"inertial\" in /robot[@name='panda']\n",
      "Unknown tag \"inertial\" in /robot[@name='panda']\n",
      "Unknown tag \"inertial\" in /robot[@name='panda']\n"
     ]
    },
    {
     "name": "stdout",
     "output_type": "stream",
     "text": [
      "Link with name world does not has a parent. Link name is skipped.\n",
      "Link with name world does not has a parent. Link name is skipped.\n",
      "🎁 Reward: 15.621498286901746\n",
      "Link with name world does not has a parent. Link name is skipped.\n",
      "Link with name world does not has a parent. Link name is skipped.\n",
      "🎁 Reward: 15.624027936414077\n",
      "Link with name world does not has a parent. Link name is skipped.\n",
      "Link with name world does not has a parent. Link name is skipped.\n",
      "🎁 Reward: 15.626570223635287\n"
     ]
    },
    {
     "name": "stderr",
     "output_type": "stream",
     "text": [
      "Unknown tag \"inertial\" in /robot[@name='panda']\n",
      "Unknown tag \"inertial\" in /robot[@name='panda']\n",
      "Unknown tag \"inertial\" in /robot[@name='panda']\n",
      "Unknown tag \"inertial\" in /robot[@name='panda']\n",
      "Unknown tag \"inertial\" in /robot[@name='panda']\n",
      "Unknown tag \"inertial\" in /robot[@name='panda']\n"
     ]
    },
    {
     "name": "stdout",
     "output_type": "stream",
     "text": [
      "Link with name world does not has a parent. Link name is skipped.\n",
      "Link with name world does not has a parent. Link name is skipped.\n",
      "🎁 Reward: 15.629123796071942\n",
      "Link with name world does not has a parent. Link name is skipped.\n",
      "Link with name world does not has a parent. Link name is skipped.\n",
      "🎁 Reward: 15.631689694043947\n",
      "Link with name world does not has a parent. Link name is skipped.\n",
      "Link with name world does not has a parent. Link name is skipped.\n",
      "🎁 Reward: 15.634266556643304\n"
     ]
    },
    {
     "name": "stderr",
     "output_type": "stream",
     "text": [
      "Unknown tag \"inertial\" in /robot[@name='panda']\n",
      "Unknown tag \"inertial\" in /robot[@name='panda']\n",
      "Unknown tag \"inertial\" in /robot[@name='panda']\n",
      "Unknown tag \"inertial\" in /robot[@name='panda']\n",
      "Unknown tag \"inertial\" in /robot[@name='panda']\n",
      "Unknown tag \"inertial\" in /robot[@name='panda']\n"
     ]
    },
    {
     "name": "stdout",
     "output_type": "stream",
     "text": [
      "Link with name world does not has a parent. Link name is skipped.\n",
      "Link with name world does not has a parent. Link name is skipped.\n",
      "🎁 Reward: 15.636854886422384\n",
      "Link with name world does not has a parent. Link name is skipped.\n",
      "Link with name world does not has a parent. Link name is skipped.\n",
      "🎁 Reward: 15.638643664508189\n",
      "Link with name world does not has a parent. Link name is skipped.\n",
      "Link with name world does not has a parent. Link name is skipped.\n",
      "🎁 Reward: 15.639761462117841\n"
     ]
    },
    {
     "name": "stderr",
     "output_type": "stream",
     "text": [
      "Unknown tag \"inertial\" in /robot[@name='panda']\n",
      "Unknown tag \"inertial\" in /robot[@name='panda']\n",
      "Unknown tag \"inertial\" in /robot[@name='panda']\n",
      "Unknown tag \"inertial\" in /robot[@name='panda']\n",
      "Unknown tag \"inertial\" in /robot[@name='panda']\n",
      "Unknown tag \"inertial\" in /robot[@name='panda']\n"
     ]
    },
    {
     "name": "stdout",
     "output_type": "stream",
     "text": [
      "Link with name world does not has a parent. Link name is skipped.\n",
      "Link with name world does not has a parent. Link name is skipped.\n",
      "🎁 Reward: 15.641258454036224\n",
      "Link with name world does not has a parent. Link name is skipped.\n",
      "Link with name world does not has a parent. Link name is skipped.\n",
      "🎁 Reward: 15.6442892522829\n",
      "Link with name world does not has a parent. Link name is skipped.\n",
      "Link with name world does not has a parent. Link name is skipped.\n",
      "🎁 Reward: 15.647378320144103\n",
      "Link with name world does not has a parent. Link name is skipped.\n",
      "Link with name world does not has a parent. Link name is skipped.\n",
      "🎁 Reward: 15.650049514919816\n",
      "Link with name world does not has a parent. Link name is skipped.\n",
      "Link with name world does not has a parent. Link name is skipped.\n",
      "🎁 Reward: 15.652716635680038\n",
      "Link with name world does not has a parent. Link name is skipped.\n",
      "Link with name world does not has a parent. Link name is skipped.\n"
     ]
    },
    {
     "name": "stderr",
     "output_type": "stream",
     "text": [
      "Unknown tag \"inertial\" in /robot[@name='panda']\n",
      "Unknown tag \"inertial\" in /robot[@name='panda']\n",
      "Unknown tag \"inertial\" in /robot[@name='panda']\n",
      "Unknown tag \"inertial\" in /robot[@name='panda']\n",
      "Unknown tag \"inertial\" in /robot[@name='panda']\n",
      "Unknown tag \"inertial\" in /robot[@name='panda']\n"
     ]
    },
    {
     "name": "stdout",
     "output_type": "stream",
     "text": [
      "🎁 Reward: 15.655394615882752\n",
      "Link with name world does not has a parent. Link name is skipped.\n",
      "Link with name world does not has a parent. Link name is skipped.\n",
      "🎁 Reward: 15.658082054091922\n"
     ]
    },
    {
     "name": "stderr",
     "output_type": "stream",
     "text": [
      "Unknown tag \"inertial\" in /robot[@name='panda']\n",
      "Unknown tag \"inertial\" in /robot[@name='panda']\n",
      "Unknown tag \"inertial\" in /robot[@name='panda']\n",
      "Unknown tag \"inertial\" in /robot[@name='panda']\n",
      "Unknown tag \"inertial\" in /robot[@name='panda']\n",
      "Unknown tag \"inertial\" in /robot[@name='panda']\n",
      "Unknown tag \"inertial\" in /robot[@name='panda']\n",
      "Unknown tag \"inertial\" in /robot[@name='panda']\n"
     ]
    },
    {
     "name": "stdout",
     "output_type": "stream",
     "text": [
      "Link with name world does not has a parent. Link name is skipped.\n",
      "Link with name world does not has a parent. Link name is skipped.\n",
      "🎁 Reward: 15.660779302152564\n",
      "Link with name world does not has a parent. Link name is skipped.\n",
      "Link with name world does not has a parent. Link name is skipped.\n",
      "🎁 Reward: 15.663486805983435\n",
      "Link with name world does not has a parent. Link name is skipped.\n",
      "Link with name world does not has a parent. Link name is skipped.\n",
      "🎁 Reward: 15.666203149576324\n"
     ]
    },
    {
     "name": "stderr",
     "output_type": "stream",
     "text": [
      "Unknown tag \"inertial\" in /robot[@name='panda']\n",
      "Unknown tag \"inertial\" in /robot[@name='panda']\n",
      "Unknown tag \"inertial\" in /robot[@name='panda']\n",
      "Unknown tag \"inertial\" in /robot[@name='panda']\n",
      "Unknown tag \"inertial\" in /robot[@name='panda']\n",
      "Unknown tag \"inertial\" in /robot[@name='panda']\n"
     ]
    },
    {
     "name": "stdout",
     "output_type": "stream",
     "text": [
      "Link with name world does not has a parent. Link name is skipped.\n",
      "Link with name world does not has a parent. Link name is skipped.\n",
      "🎁 Reward: 15.668929283772275\n",
      "Link with name world does not has a parent. Link name is skipped.\n",
      "Link with name world does not has a parent. Link name is skipped.\n",
      "🎁 Reward: 15.669827333265054\n",
      "Link with name world does not has a parent. Link name is skipped.\n",
      "Link with name world does not has a parent. Link name is skipped.\n",
      "🎁 Reward: 15.66775506620998\n"
     ]
    },
    {
     "name": "stderr",
     "output_type": "stream",
     "text": [
      "Unknown tag \"inertial\" in /robot[@name='panda']\n",
      "Unknown tag \"inertial\" in /robot[@name='panda']\n",
      "Unknown tag \"inertial\" in /robot[@name='panda']\n",
      "Unknown tag \"inertial\" in /robot[@name='panda']\n",
      "Unknown tag \"inertial\" in /robot[@name='panda']\n",
      "Unknown tag \"inertial\" in /robot[@name='panda']\n"
     ]
    },
    {
     "name": "stdout",
     "output_type": "stream",
     "text": [
      "Link with name world does not has a parent. Link name is skipped.\n",
      "Link with name world does not has a parent. Link name is skipped.\n",
      "🎁 Reward: 15.66667455203385\n",
      "Link with name world does not has a parent. Link name is skipped.\n",
      "Link with name world does not has a parent. Link name is skipped.\n",
      "🎁 Reward: 15.665595669361963\n",
      "Link with name world does not has a parent. Link name is skipped.\n",
      "Link with name world does not has a parent. Link name is skipped.\n",
      "🎁 Reward: 15.664572204429627\n"
     ]
    },
    {
     "name": "stderr",
     "output_type": "stream",
     "text": [
      "Unknown tag \"inertial\" in /robot[@name='panda']\n",
      "Unknown tag \"inertial\" in /robot[@name='panda']\n",
      "Unknown tag \"inertial\" in /robot[@name='panda']\n",
      "Unknown tag \"inertial\" in /robot[@name='panda']\n",
      "Unknown tag \"inertial\" in /robot[@name='panda']\n",
      "Unknown tag \"inertial\" in /robot[@name='panda']\n"
     ]
    },
    {
     "name": "stdout",
     "output_type": "stream",
     "text": [
      "Link with name world does not has a parent. Link name is skipped.\n",
      "Link with name world does not has a parent. Link name is skipped.\n",
      "🎁 Reward: 15.663620010217278\n",
      "Link with name world does not has a parent. Link name is skipped.\n",
      "Link with name world does not has a parent. Link name is skipped.\n",
      "🎁 Reward: 15.662755043327918\n",
      "Link with name world does not has a parent. Link name is skipped.\n",
      "Link with name world does not has a parent. Link name is skipped.\n",
      "🎁 Reward: 15.661991120594777\n"
     ]
    },
    {
     "name": "stderr",
     "output_type": "stream",
     "text": [
      "Unknown tag \"inertial\" in /robot[@name='panda']\n",
      "Unknown tag \"inertial\" in /robot[@name='panda']\n",
      "Unknown tag \"inertial\" in /robot[@name='panda']\n",
      "Unknown tag \"inertial\" in /robot[@name='panda']\n",
      "Unknown tag \"inertial\" in /robot[@name='panda']\n",
      "Unknown tag \"inertial\" in /robot[@name='panda']\n",
      "Unknown tag \"inertial\" in /robot[@name='panda']\n",
      "Unknown tag \"inertial\" in /robot[@name='panda']\n"
     ]
    },
    {
     "name": "stdout",
     "output_type": "stream",
     "text": [
      "Link with name world does not has a parent. Link name is skipped.\n",
      "Link with name world does not has a parent. Link name is skipped.\n",
      "🎁 Reward: 15.66133807905704\n",
      "Link with name world does not has a parent. Link name is skipped.\n",
      "Link with name world does not has a parent. Link name is skipped.\n",
      "🎁 Reward: 15.660806036943958\n",
      "Link with name world does not has a parent. Link name is skipped.\n",
      "Link with name world does not has a parent. Link name is skipped.\n",
      "🎁 Reward: 15.660400734509418\n",
      "Link with name world does not has a parent. Link name is skipped.\n",
      "Link with name world does not has a parent. Link name is skipped.\n",
      "🎁 Reward: 15.660127946506996\n"
     ]
    },
    {
     "name": "stderr",
     "output_type": "stream",
     "text": [
      "Unknown tag \"inertial\" in /robot[@name='panda']\n",
      "Unknown tag \"inertial\" in /robot[@name='panda']\n",
      "Unknown tag \"inertial\" in /robot[@name='panda']\n",
      "Unknown tag \"inertial\" in /robot[@name='panda']\n",
      "Unknown tag \"inertial\" in /robot[@name='panda']\n",
      "Unknown tag \"inertial\" in /robot[@name='panda']\n",
      "Unknown tag \"inertial\" in /robot[@name='panda']\n",
      "Unknown tag \"inertial\" in /robot[@name='panda']\n"
     ]
    },
    {
     "name": "stdout",
     "output_type": "stream",
     "text": [
      "Link with name world does not has a parent. Link name is skipped.\n",
      "Link with name world does not has a parent. Link name is skipped.\n",
      "🎁 Reward: 15.659991693872165\n",
      "Link with name world does not has a parent. Link name is skipped.\n",
      "Link with name world does not has a parent. Link name is skipped.\n",
      "🎁 Reward: 15.66312784042873\n",
      "Link with name world does not has a parent. Link name is skipped.\n",
      "Link with name world does not has a parent. Link name is skipped.\n",
      "🎁 Reward: 15.666342109722217\n",
      "Link with name world does not has a parent. Link name is skipped.\n",
      "Link with name world does not has a parent. Link name is skipped.\n",
      "🎁 Reward: 15.669572742835605\n"
     ]
    },
    {
     "name": "stderr",
     "output_type": "stream",
     "text": [
      "Unknown tag \"inertial\" in /robot[@name='panda']\n",
      "Unknown tag \"inertial\" in /robot[@name='panda']\n",
      "Unknown tag \"inertial\" in /robot[@name='panda']\n",
      "Unknown tag \"inertial\" in /robot[@name='panda']\n",
      "Unknown tag \"inertial\" in /robot[@name='panda']\n",
      "Unknown tag \"inertial\" in /robot[@name='panda']\n",
      "Unknown tag \"inertial\" in /robot[@name='panda']\n",
      "Unknown tag \"inertial\" in /robot[@name='panda']\n"
     ]
    },
    {
     "name": "stdout",
     "output_type": "stream",
     "text": [
      "Link with name world does not has a parent. Link name is skipped.\n",
      "Link with name world does not has a parent. Link name is skipped.\n",
      "🎁 Reward: 15.67282020668788\n",
      "Link with name world does not has a parent. Link name is skipped.\n",
      "Link with name world does not has a parent. Link name is skipped.\n",
      "🎁 Reward: 15.676084960094592\n",
      "Link with name world does not has a parent. Link name is skipped.\n",
      "Link with name world does not has a parent. Link name is skipped.\n",
      "🎁 Reward: 15.679365474192629\n",
      "Link with name world does not has a parent. Link name is skipped.\n",
      "Link with name world does not has a parent. Link name is skipped.\n",
      "🎁 Reward: 15.682662813545726\n"
     ]
    },
    {
     "name": "stderr",
     "output_type": "stream",
     "text": [
      "Unknown tag \"inertial\" in /robot[@name='panda']\n",
      "Unknown tag \"inertial\" in /robot[@name='panda']\n",
      "Unknown tag \"inertial\" in /robot[@name='panda']\n",
      "Unknown tag \"inertial\" in /robot[@name='panda']\n",
      "Unknown tag \"inertial\" in /robot[@name='panda']\n",
      "Unknown tag \"inertial\" in /robot[@name='panda']\n"
     ]
    },
    {
     "name": "stdout",
     "output_type": "stream",
     "text": [
      "Link with name world does not has a parent. Link name is skipped.\n",
      "Link with name world does not has a parent. Link name is skipped.\n",
      "🎁 Reward: 15.685941785094553\n",
      "Link with name world does not has a parent. Link name is skipped.\n",
      "Link with name world does not has a parent. Link name is skipped.\n",
      "🎁 Reward: 15.688766959615032\n",
      "Link with name world does not has a parent. Link name is skipped.\n",
      "Link with name world does not has a parent. Link name is skipped.\n",
      "🎁 Reward: 15.691614306632502\n"
     ]
    },
    {
     "name": "stderr",
     "output_type": "stream",
     "text": [
      "Unknown tag \"inertial\" in /robot[@name='panda']\n",
      "Unknown tag \"inertial\" in /robot[@name='panda']\n",
      "Unknown tag \"inertial\" in /robot[@name='panda']\n",
      "Unknown tag \"inertial\" in /robot[@name='panda']\n",
      "Unknown tag \"inertial\" in /robot[@name='panda']\n",
      "Unknown tag \"inertial\" in /robot[@name='panda']\n",
      "Unknown tag \"inertial\" in /robot[@name='panda']\n",
      "Unknown tag \"inertial\" in /robot[@name='panda']\n"
     ]
    },
    {
     "name": "stdout",
     "output_type": "stream",
     "text": [
      "Link with name world does not has a parent. Link name is skipped.\n",
      "Link with name world does not has a parent. Link name is skipped.\n",
      "🎁 Reward: 15.69448503809993\n",
      "Link with name world does not has a parent. Link name is skipped.\n",
      "Link with name world does not has a parent. Link name is skipped.\n",
      "🎁 Reward: 15.697379938952562\n",
      "Link with name world does not has a parent. Link name is skipped.\n",
      "Link with name world does not has a parent. Link name is skipped.\n",
      "🎁 Reward: 15.700297422944313\n",
      "Link with name world does not has a parent. Link name is skipped.\n",
      "Link with name world does not has a parent. Link name is skipped.\n",
      "🎁 Reward: 15.703699777624704\n"
     ]
    },
    {
     "name": "stderr",
     "output_type": "stream",
     "text": [
      "Unknown tag \"inertial\" in /robot[@name='panda']\n",
      "Unknown tag \"inertial\" in /robot[@name='panda']\n",
      "Unknown tag \"inertial\" in /robot[@name='panda']\n",
      "Unknown tag \"inertial\" in /robot[@name='panda']\n",
      "Unknown tag \"inertial\" in /robot[@name='panda']\n",
      "Unknown tag \"inertial\" in /robot[@name='panda']\n"
     ]
    },
    {
     "name": "stdout",
     "output_type": "stream",
     "text": [
      "Link with name world does not has a parent. Link name is skipped.\n",
      "Link with name world does not has a parent. Link name is skipped.\n",
      "🎁 Reward: 15.707119495013739\n",
      "Link with name world does not has a parent. Link name is skipped.\n",
      "Link with name world does not has a parent. Link name is skipped.\n",
      "🎁 Reward: 15.710553293456865\n",
      "Link with name world does not has a parent. Link name is skipped.\n",
      "Link with name world does not has a parent. Link name is skipped.\n",
      "🎁 Reward: 15.714001524869246\n"
     ]
    },
    {
     "name": "stderr",
     "output_type": "stream",
     "text": [
      "Unknown tag \"inertial\" in /robot[@name='panda']\n",
      "Unknown tag \"inertial\" in /robot[@name='panda']\n",
      "Unknown tag \"inertial\" in /robot[@name='panda']\n",
      "Unknown tag \"inertial\" in /robot[@name='panda']\n",
      "Unknown tag \"inertial\" in /robot[@name='panda']\n",
      "Unknown tag \"inertial\" in /robot[@name='panda']\n"
     ]
    },
    {
     "name": "stdout",
     "output_type": "stream",
     "text": [
      "Link with name world does not has a parent. Link name is skipped.\n",
      "Link with name world does not has a parent. Link name is skipped.\n",
      "🎁 Reward: 15.71746255342376\n",
      "Link with name world does not has a parent. Link name is skipped.\n",
      "Link with name world does not has a parent. Link name is skipped.\n",
      "🎁 Reward: 15.72092373056649\n",
      "Link with name world does not has a parent. Link name is skipped.\n",
      "Link with name world does not has a parent. Link name is skipped.\n",
      "🎁 Reward: 15.724397034162159\n"
     ]
    },
    {
     "name": "stderr",
     "output_type": "stream",
     "text": [
      "Unknown tag \"inertial\" in /robot[@name='panda']\n",
      "Unknown tag \"inertial\" in /robot[@name='panda']\n",
      "Unknown tag \"inertial\" in /robot[@name='panda']\n",
      "Unknown tag \"inertial\" in /robot[@name='panda']\n",
      "Unknown tag \"inertial\" in /robot[@name='panda']\n",
      "Unknown tag \"inertial\" in /robot[@name='panda']\n"
     ]
    },
    {
     "name": "stdout",
     "output_type": "stream",
     "text": [
      "Link with name world does not has a parent. Link name is skipped.\n",
      "Link with name world does not has a parent. Link name is skipped.\n",
      "🎁 Reward: 15.727882683307696\n",
      "Link with name world does not has a parent. Link name is skipped.\n",
      "Link with name world does not has a parent. Link name is skipped.\n",
      "🎁 Reward: 15.731394735432474\n",
      "Link with name world does not has a parent. Link name is skipped.\n",
      "Link with name world does not has a parent. Link name is skipped.\n",
      "🎁 Reward: 15.734918031565224\n"
     ]
    },
    {
     "name": "stderr",
     "output_type": "stream",
     "text": [
      "Unknown tag \"inertial\" in /robot[@name='panda']\n",
      "Unknown tag \"inertial\" in /robot[@name='panda']\n",
      "Unknown tag \"inertial\" in /robot[@name='panda']\n",
      "Unknown tag \"inertial\" in /robot[@name='panda']\n",
      "Unknown tag \"inertial\" in /robot[@name='panda']\n",
      "Unknown tag \"inertial\" in /robot[@name='panda']\n"
     ]
    },
    {
     "name": "stdout",
     "output_type": "stream",
     "text": [
      "Link with name world does not has a parent. Link name is skipped.\n",
      "Link with name world does not has a parent. Link name is skipped.\n",
      "🎁 Reward: 15.738453231684465\n",
      "Link with name world does not has a parent. Link name is skipped.\n",
      "Link with name world does not has a parent. Link name is skipped.\n",
      "🎁 Reward: 15.741998749438963\n",
      "Link with name world does not has a parent. Link name is skipped.\n",
      "Link with name world does not has a parent. Link name is skipped.\n",
      "🎁 Reward: 15.745554837118094\n"
     ]
    },
    {
     "name": "stderr",
     "output_type": "stream",
     "text": [
      "Unknown tag \"inertial\" in /robot[@name='panda']\n",
      "Unknown tag \"inertial\" in /robot[@name='panda']\n",
      "Unknown tag \"inertial\" in /robot[@name='panda']\n",
      "Unknown tag \"inertial\" in /robot[@name='panda']\n",
      "Unknown tag \"inertial\" in /robot[@name='panda']\n",
      "Unknown tag \"inertial\" in /robot[@name='panda']\n"
     ]
    },
    {
     "name": "stdout",
     "output_type": "stream",
     "text": [
      "Link with name world does not has a parent. Link name is skipped.\n",
      "Link with name world does not has a parent. Link name is skipped.\n",
      "🎁 Reward: 15.749107385515487\n",
      "Link with name world does not has a parent. Link name is skipped.\n",
      "Link with name world does not has a parent. Link name is skipped.\n",
      "🎁 Reward: 15.752668947266312\n",
      "Link with name world does not has a parent. Link name is skipped.\n",
      "Link with name world does not has a parent. Link name is skipped.\n",
      "🎁 Reward: 15.756240335070357\n"
     ]
    },
    {
     "name": "stderr",
     "output_type": "stream",
     "text": [
      "Unknown tag \"inertial\" in /robot[@name='panda']\n",
      "Unknown tag \"inertial\" in /robot[@name='panda']\n",
      "Unknown tag \"inertial\" in /robot[@name='panda']\n",
      "Unknown tag \"inertial\" in /robot[@name='panda']\n",
      "Unknown tag \"inertial\" in /robot[@name='panda']\n",
      "Unknown tag \"inertial\" in /robot[@name='panda']\n"
     ]
    },
    {
     "name": "stdout",
     "output_type": "stream",
     "text": [
      "Link with name world does not has a parent. Link name is skipped.\n",
      "Link with name world does not has a parent. Link name is skipped.\n",
      "🎁 Reward: 15.75981991597046\n",
      "Link with name world does not has a parent. Link name is skipped.\n",
      "Link with name world does not has a parent. Link name is skipped.\n",
      "🎁 Reward: 15.763407757059168\n",
      "Link with name world does not has a parent. Link name is skipped.\n",
      "Link with name world does not has a parent. Link name is skipped.\n",
      "🎁 Reward: 15.767018526140768\n"
     ]
    },
    {
     "name": "stderr",
     "output_type": "stream",
     "text": [
      "Unknown tag \"inertial\" in /robot[@name='panda']\n",
      "Unknown tag \"inertial\" in /robot[@name='panda']\n",
      "Unknown tag \"inertial\" in /robot[@name='panda']\n",
      "Unknown tag \"inertial\" in /robot[@name='panda']\n",
      "Unknown tag \"inertial\" in /robot[@name='panda']\n",
      "Unknown tag \"inertial\" in /robot[@name='panda']\n"
     ]
    },
    {
     "name": "stdout",
     "output_type": "stream",
     "text": [
      "Link with name world does not has a parent. Link name is skipped.\n",
      "Link with name world does not has a parent. Link name is skipped.\n",
      "🎁 Reward: 15.770636176162153\n",
      "Link with name world does not has a parent. Link name is skipped.\n",
      "Link with name world does not has a parent. Link name is skipped.\n",
      "🎁 Reward: 15.774261235189904\n",
      "Link with name world does not has a parent. Link name is skipped.\n",
      "Link with name world does not has a parent. Link name is skipped.\n",
      "🎁 Reward: 15.777892003582744\n"
     ]
    },
    {
     "name": "stderr",
     "output_type": "stream",
     "text": [
      "Unknown tag \"inertial\" in /robot[@name='panda']\n",
      "Unknown tag \"inertial\" in /robot[@name='panda']\n",
      "Unknown tag \"inertial\" in /robot[@name='panda']\n",
      "Unknown tag \"inertial\" in /robot[@name='panda']\n",
      "Unknown tag \"inertial\" in /robot[@name='panda']\n",
      "Unknown tag \"inertial\" in /robot[@name='panda']\n"
     ]
    },
    {
     "name": "stdout",
     "output_type": "stream",
     "text": [
      "Link with name world does not has a parent. Link name is skipped.\n",
      "Link with name world does not has a parent. Link name is skipped.\n",
      "🎁 Reward: 15.781528605046649\n",
      "Link with name world does not has a parent. Link name is skipped.\n",
      "Link with name world does not has a parent. Link name is skipped.\n",
      "🎁 Reward: 15.785171012800697\n",
      "Link with name world does not has a parent. Link name is skipped.\n",
      "Link with name world does not has a parent. Link name is skipped.\n",
      "🎁 Reward: 15.788801501920974\n"
     ]
    },
    {
     "name": "stderr",
     "output_type": "stream",
     "text": [
      "Unknown tag \"inertial\" in /robot[@name='panda']\n",
      "Unknown tag \"inertial\" in /robot[@name='panda']\n",
      "Unknown tag \"inertial\" in /robot[@name='panda']\n",
      "Unknown tag \"inertial\" in /robot[@name='panda']\n",
      "Unknown tag \"inertial\" in /robot[@name='panda']\n",
      "Unknown tag \"inertial\" in /robot[@name='panda']\n",
      "Unknown tag \"inertial\" in /robot[@name='panda']\n",
      "Unknown tag \"inertial\" in /robot[@name='panda']\n"
     ]
    },
    {
     "name": "stdout",
     "output_type": "stream",
     "text": [
      "Link with name world does not has a parent. Link name is skipped.\n",
      "Link with name world does not has a parent. Link name is skipped.\n",
      "🎁 Reward: 14.997277889732743\n",
      "Link with name world does not has a parent. Link name is skipped.\n",
      "Link with name world does not has a parent. Link name is skipped.\n",
      "🎁 Reward: 14.234963724048555\n",
      "Link with name world does not has a parent. Link name is skipped.\n",
      "Link with name world does not has a parent. Link name is skipped.\n",
      "🎁 Reward: 14.080114703395072\n",
      "Link with name world does not has a parent. Link name is skipped.\n",
      "Link with name world does not has a parent. Link name is skipped.\n",
      "🎁 Reward: 13.653517324922394\n"
     ]
    },
    {
     "name": "stderr",
     "output_type": "stream",
     "text": [
      "Unknown tag \"inertial\" in /robot[@name='panda']\n",
      "Unknown tag \"inertial\" in /robot[@name='panda']\n",
      "Unknown tag \"inertial\" in /robot[@name='panda']\n",
      "Unknown tag \"inertial\" in /robot[@name='panda']\n",
      "Unknown tag \"inertial\" in /robot[@name='panda']\n",
      "Unknown tag \"inertial\" in /robot[@name='panda']\n"
     ]
    },
    {
     "name": "stdout",
     "output_type": "stream",
     "text": [
      "Link with name world does not has a parent. Link name is skipped.\n",
      "Link with name world does not has a parent. Link name is skipped.\n",
      "🎁 Reward: 13.353031984357367\n",
      "Link with name world does not has a parent. Link name is skipped.\n",
      "Link with name world does not has a parent. Link name is skipped.\n",
      "🎁 Reward: 13.054082202934723\n",
      "Link with name world does not has a parent. Link name is skipped.\n",
      "Link with name world does not has a parent. Link name is skipped.\n",
      "🎁 Reward: 12.955318794461952\n"
     ]
    },
    {
     "name": "stderr",
     "output_type": "stream",
     "text": [
      "Unknown tag \"inertial\" in /robot[@name='panda']\n",
      "Unknown tag \"inertial\" in /robot[@name='panda']\n",
      "Unknown tag \"inertial\" in /robot[@name='panda']\n",
      "Unknown tag \"inertial\" in /robot[@name='panda']\n",
      "Unknown tag \"inertial\" in /robot[@name='panda']\n",
      "Unknown tag \"inertial\" in /robot[@name='panda']\n"
     ]
    },
    {
     "name": "stdout",
     "output_type": "stream",
     "text": [
      "Link with name world does not has a parent. Link name is skipped.\n",
      "Link with name world does not has a parent. Link name is skipped.\n",
      "🎁 Reward: 12.920865621606982\n",
      "Link with name world does not has a parent. Link name is skipped.\n",
      "Link with name world does not has a parent. Link name is skipped.\n",
      "🎁 Reward: 12.883931873926173\n",
      "Link with name world does not has a parent. Link name is skipped.\n",
      "Link with name world does not has a parent. Link name is skipped.\n",
      "🎁 Reward: 12.844255243048064\n"
     ]
    },
    {
     "name": "stderr",
     "output_type": "stream",
     "text": [
      "Unknown tag \"inertial\" in /robot[@name='panda']\n",
      "Unknown tag \"inertial\" in /robot[@name='panda']\n",
      "Unknown tag \"inertial\" in /robot[@name='panda']\n",
      "Unknown tag \"inertial\" in /robot[@name='panda']\n",
      "Unknown tag \"inertial\" in /robot[@name='panda']\n",
      "Unknown tag \"inertial\" in /robot[@name='panda']\n"
     ]
    },
    {
     "name": "stdout",
     "output_type": "stream",
     "text": [
      "Link with name world does not has a parent. Link name is skipped.\n",
      "Link with name world does not has a parent. Link name is skipped.\n",
      "🎁 Reward: 12.801555521299644\n",
      "Link with name world does not has a parent. Link name is skipped.\n",
      "Link with name world does not has a parent. Link name is skipped.\n",
      "🎁 Reward: 12.75554790416177\n",
      "Link with name world does not has a parent. Link name is skipped.\n",
      "Link with name world does not has a parent. Link name is skipped.\n",
      "🎁 Reward: 12.698063117643493\n"
     ]
    },
    {
     "name": "stderr",
     "output_type": "stream",
     "text": [
      "Unknown tag \"inertial\" in /robot[@name='panda']\n",
      "Unknown tag \"inertial\" in /robot[@name='panda']\n",
      "Unknown tag \"inertial\" in /robot[@name='panda']\n",
      "Unknown tag \"inertial\" in /robot[@name='panda']\n",
      "Unknown tag \"inertial\" in /robot[@name='panda']\n",
      "Unknown tag \"inertial\" in /robot[@name='panda']\n"
     ]
    },
    {
     "name": "stdout",
     "output_type": "stream",
     "text": [
      "Link with name world does not has a parent. Link name is skipped.\n",
      "Link with name world does not has a parent. Link name is skipped.\n",
      "🎁 Reward: 12.636707666532704\n",
      "Link with name world does not has a parent. Link name is skipped.\n",
      "Link with name world does not has a parent. Link name is skipped.\n",
      "🎁 Reward: 12.571670050485633\n",
      "Link with name world does not has a parent. Link name is skipped.\n",
      "Link with name world does not has a parent. Link name is skipped.\n",
      "🎁 Reward: 12.502749926605372\n"
     ]
    },
    {
     "name": "stderr",
     "output_type": "stream",
     "text": [
      "Unknown tag \"inertial\" in /robot[@name='panda']\n",
      "Unknown tag \"inertial\" in /robot[@name='panda']\n",
      "Unknown tag \"inertial\" in /robot[@name='panda']\n",
      "Unknown tag \"inertial\" in /robot[@name='panda']\n",
      "Unknown tag \"inertial\" in /robot[@name='panda']\n",
      "Unknown tag \"inertial\" in /robot[@name='panda']\n",
      "Unknown tag \"inertial\" in /robot[@name='panda']\n",
      "Unknown tag \"inertial\" in /robot[@name='panda']\n"
     ]
    },
    {
     "name": "stdout",
     "output_type": "stream",
     "text": [
      "Link with name world does not has a parent. Link name is skipped.\n",
      "Link with name world does not has a parent. Link name is skipped.\n",
      "🎁 Reward: 12.429792511827216\n",
      "Link with name world does not has a parent. Link name is skipped.\n",
      "Link with name world does not has a parent. Link name is skipped.\n",
      "🎁 Reward: 12.352690267223483\n",
      "Link with name world does not has a parent. Link name is skipped.\n",
      "Link with name world does not has a parent. Link name is skipped.\n",
      "🎁 Reward: 12.271388874828224\n",
      "Link with name world does not has a parent. Link name is skipped.\n",
      "Link with name world does not has a parent. Link name is skipped.\n",
      "🎁 Reward: 12.210764125746596\n"
     ]
    },
    {
     "name": "stderr",
     "output_type": "stream",
     "text": [
      "Unknown tag \"inertial\" in /robot[@name='panda']\n",
      "Unknown tag \"inertial\" in /robot[@name='panda']\n",
      "Unknown tag \"inertial\" in /robot[@name='panda']\n",
      "Unknown tag \"inertial\" in /robot[@name='panda']\n",
      "Unknown tag \"inertial\" in /robot[@name='panda']\n",
      "Unknown tag \"inertial\" in /robot[@name='panda']\n",
      "Unknown tag \"inertial\" in /robot[@name='panda']\n",
      "Unknown tag \"inertial\" in /robot[@name='panda']\n"
     ]
    },
    {
     "name": "stdout",
     "output_type": "stream",
     "text": [
      "Link with name world does not has a parent. Link name is skipped.\n",
      "Link with name world does not has a parent. Link name is skipped.\n",
      "🎁 Reward: 12.157143592704998\n",
      "Link with name world does not has a parent. Link name is skipped.\n",
      "Link with name world does not has a parent. Link name is skipped.\n",
      "🎁 Reward: 12.137250498045566\n",
      "Link with name world does not has a parent. Link name is skipped.\n",
      "Link with name world does not has a parent. Link name is skipped.\n",
      "🎁 Reward: 12.137901682653784\n",
      "Link with name world does not has a parent. Link name is skipped.\n",
      "Link with name world does not has a parent. Link name is skipped.\n",
      "🎁 Reward: 12.140347374662952\n"
     ]
    },
    {
     "name": "stderr",
     "output_type": "stream",
     "text": [
      "Unknown tag \"inertial\" in /robot[@name='panda']\n",
      "Unknown tag \"inertial\" in /robot[@name='panda']\n",
      "Unknown tag \"inertial\" in /robot[@name='panda']\n",
      "Unknown tag \"inertial\" in /robot[@name='panda']\n",
      "Unknown tag \"inertial\" in /robot[@name='panda']\n",
      "Unknown tag \"inertial\" in /robot[@name='panda']\n"
     ]
    },
    {
     "name": "stdout",
     "output_type": "stream",
     "text": [
      "Link with name world does not has a parent. Link name is skipped.\n",
      "Link with name world does not has a parent. Link name is skipped.\n",
      "🎁 Reward: 12.144699826171129\n",
      "Link with name world does not has a parent. Link name is skipped.\n",
      "Link with name world does not has a parent. Link name is skipped.\n",
      "🎁 Reward: 12.1509360531014\n",
      "Link with name world does not has a parent. Link name is skipped.\n",
      "Link with name world does not has a parent. Link name is skipped.\n",
      "🎁 Reward: 12.158992133772628\n"
     ]
    },
    {
     "name": "stderr",
     "output_type": "stream",
     "text": [
      "Unknown tag \"inertial\" in /robot[@name='panda']\n",
      "Unknown tag \"inertial\" in /robot[@name='panda']\n",
      "Unknown tag \"inertial\" in /robot[@name='panda']\n",
      "Unknown tag \"inertial\" in /robot[@name='panda']\n",
      "Unknown tag \"inertial\" in /robot[@name='panda']\n",
      "Unknown tag \"inertial\" in /robot[@name='panda']\n"
     ]
    },
    {
     "name": "stdout",
     "output_type": "stream",
     "text": [
      "Link with name world does not has a parent. Link name is skipped.\n",
      "Link with name world does not has a parent. Link name is skipped.\n",
      "🎁 Reward: 12.168801259943\n",
      "Link with name world does not has a parent. Link name is skipped.\n",
      "Link with name world does not has a parent. Link name is skipped.\n",
      "🎁 Reward: 12.180304954288292\n",
      "Link with name world does not has a parent. Link name is skipped.\n",
      "Link with name world does not has a parent. Link name is skipped.\n",
      "🎁 Reward: 12.19345962356901\n"
     ]
    },
    {
     "name": "stderr",
     "output_type": "stream",
     "text": [
      "Unknown tag \"inertial\" in /robot[@name='panda']\n",
      "Unknown tag \"inertial\" in /robot[@name='panda']\n",
      "Unknown tag \"inertial\" in /robot[@name='panda']\n",
      "Unknown tag \"inertial\" in /robot[@name='panda']\n",
      "Unknown tag \"inertial\" in /robot[@name='panda']\n",
      "Unknown tag \"inertial\" in /robot[@name='panda']\n"
     ]
    },
    {
     "name": "stdout",
     "output_type": "stream",
     "text": [
      "Link with name world does not has a parent. Link name is skipped.\n",
      "Link with name world does not has a parent. Link name is skipped.\n",
      "🎁 Reward: 12.208236653540105\n",
      "Link with name world does not has a parent. Link name is skipped.\n",
      "Link with name world does not has a parent. Link name is skipped.\n",
      "🎁 Reward: 12.22461725733055\n",
      "Link with name world does not has a parent. Link name is skipped.\n",
      "Link with name world does not has a parent. Link name is skipped.\n",
      "🎁 Reward: 12.242584271473412\n"
     ]
    },
    {
     "name": "stderr",
     "output_type": "stream",
     "text": [
      "Unknown tag \"inertial\" in /robot[@name='panda']\n",
      "Unknown tag \"inertial\" in /robot[@name='panda']\n",
      "Unknown tag \"inertial\" in /robot[@name='panda']\n",
      "Unknown tag \"inertial\" in /robot[@name='panda']\n",
      "Unknown tag \"inertial\" in /robot[@name='panda']\n",
      "Unknown tag \"inertial\" in /robot[@name='panda']\n"
     ]
    },
    {
     "name": "stdout",
     "output_type": "stream",
     "text": [
      "Link with name world does not has a parent. Link name is skipped.\n",
      "Link with name world does not has a parent. Link name is skipped.\n",
      "🎁 Reward: 12.262109913889088\n",
      "Link with name world does not has a parent. Link name is skipped.\n",
      "Link with name world does not has a parent. Link name is skipped.\n",
      "🎁 Reward: 12.283130182433167\n",
      "Link with name world does not has a parent. Link name is skipped.\n",
      "Link with name world does not has a parent. Link name is skipped.\n",
      "🎁 Reward: 12.305513555144294\n"
     ]
    },
    {
     "name": "stderr",
     "output_type": "stream",
     "text": [
      "Unknown tag \"inertial\" in /robot[@name='panda']\n",
      "Unknown tag \"inertial\" in /robot[@name='panda']\n",
      "Unknown tag \"inertial\" in /robot[@name='panda']\n",
      "Unknown tag \"inertial\" in /robot[@name='panda']\n",
      "Unknown tag \"inertial\" in /robot[@name='panda']\n",
      "Unknown tag \"inertial\" in /robot[@name='panda']\n"
     ]
    },
    {
     "name": "stdout",
     "output_type": "stream",
     "text": [
      "Link with name world does not has a parent. Link name is skipped.\n",
      "Link with name world does not has a parent. Link name is skipped.\n",
      "🎁 Reward: 12.32901188176382\n",
      "Link with name world does not has a parent. Link name is skipped.\n",
      "Link with name world does not has a parent. Link name is skipped.\n",
      "🎁 Reward: 12.353190122685975\n",
      "Link with name world does not has a parent. Link name is skipped.\n",
      "Link with name world does not has a parent. Link name is skipped.\n",
      "🎁 Reward: 12.37733429754693\n",
      "Link with name world does not has a parent. Link name is skipped.\n",
      "Link with name world does not has a parent. Link name is skipped.\n",
      "🎁 Reward: 12.400333806483417\n"
     ]
    },
    {
     "name": "stderr",
     "output_type": "stream",
     "text": [
      "Unknown tag \"inertial\" in /robot[@name='panda']\n",
      "Unknown tag \"inertial\" in /robot[@name='panda']\n",
      "Unknown tag \"inertial\" in /robot[@name='panda']\n",
      "Unknown tag \"inertial\" in /robot[@name='panda']\n",
      "Unknown tag \"inertial\" in /robot[@name='panda']\n",
      "Unknown tag \"inertial\" in /robot[@name='panda']\n",
      "Unknown tag \"inertial\" in /robot[@name='panda']\n",
      "Unknown tag \"inertial\" in /robot[@name='panda']\n"
     ]
    },
    {
     "name": "stdout",
     "output_type": "stream",
     "text": [
      "Link with name world does not has a parent. Link name is skipped.\n",
      "Link with name world does not has a parent. Link name is skipped.\n",
      "🎁 Reward: 12.416823350752178\n",
      "Link with name world does not has a parent. Link name is skipped.\n",
      "Link with name world does not has a parent. Link name is skipped.\n",
      "🎁 Reward: 12.427291940858733\n",
      "Link with name world does not has a parent. Link name is skipped.\n",
      "Link with name world does not has a parent. Link name is skipped.\n",
      "🎁 Reward: 12.431822021979148\n",
      "Link with name world does not has a parent. Link name is skipped.\n",
      "Link with name world does not has a parent. Link name is skipped.\n",
      "🎁 Reward: 12.439302832809945\n"
     ]
    },
    {
     "name": "stderr",
     "output_type": "stream",
     "text": [
      "Unknown tag \"inertial\" in /robot[@name='panda']\n",
      "Unknown tag \"inertial\" in /robot[@name='panda']\n",
      "Unknown tag \"inertial\" in /robot[@name='panda']\n",
      "Unknown tag \"inertial\" in /robot[@name='panda']\n",
      "Unknown tag \"inertial\" in /robot[@name='panda']\n",
      "Unknown tag \"inertial\" in /robot[@name='panda']\n"
     ]
    },
    {
     "name": "stdout",
     "output_type": "stream",
     "text": [
      "Link with name world does not has a parent. Link name is skipped.\n",
      "Link with name world does not has a parent. Link name is skipped.\n",
      "🎁 Reward: 12.448308109322543\n",
      "Link with name world does not has a parent. Link name is skipped.\n",
      "Link with name world does not has a parent. Link name is skipped.\n",
      "🎁 Reward: 12.457037334969893\n",
      "Link with name world does not has a parent. Link name is skipped.\n",
      "Link with name world does not has a parent. Link name is skipped.\n",
      "🎁 Reward: 12.465473574250996\n",
      "Link with name world does not has a parent. Link name is skipped.\n",
      "Link with name world does not has a parent. Link name is skipped.\n",
      "🎁 Reward: 12.47360411993402\n"
     ]
    },
    {
     "name": "stderr",
     "output_type": "stream",
     "text": [
      "Unknown tag \"inertial\" in /robot[@name='panda']\n",
      "Unknown tag \"inertial\" in /robot[@name='panda']\n",
      "Unknown tag \"inertial\" in /robot[@name='panda']\n",
      "Unknown tag \"inertial\" in /robot[@name='panda']\n",
      "Unknown tag \"inertial\" in /robot[@name='panda']\n",
      "Unknown tag \"inertial\" in /robot[@name='panda']\n"
     ]
    },
    {
     "name": "stdout",
     "output_type": "stream",
     "text": [
      "Link with name world does not has a parent. Link name is skipped.\n",
      "Link with name world does not has a parent. Link name is skipped.\n",
      "🎁 Reward: 12.48141673255758\n",
      "Link with name world does not has a parent. Link name is skipped.\n",
      "Link with name world does not has a parent. Link name is skipped.\n",
      "🎁 Reward: 12.48889878386177\n",
      "Link with name world does not has a parent. Link name is skipped.\n",
      "Link with name world does not has a parent. Link name is skipped.\n",
      "🎁 Reward: 12.496038537630648\n"
     ]
    },
    {
     "name": "stderr",
     "output_type": "stream",
     "text": [
      "Unknown tag \"inertial\" in /robot[@name='panda']\n",
      "Unknown tag \"inertial\" in /robot[@name='panda']\n",
      "Unknown tag \"inertial\" in /robot[@name='panda']\n",
      "Unknown tag \"inertial\" in /robot[@name='panda']\n",
      "Unknown tag \"inertial\" in /robot[@name='panda']\n",
      "Unknown tag \"inertial\" in /robot[@name='panda']\n"
     ]
    },
    {
     "name": "stdout",
     "output_type": "stream",
     "text": [
      "Link with name world does not has a parent. Link name is skipped.\n",
      "Link with name world does not has a parent. Link name is skipped.\n",
      "🎁 Reward: 12.502824337893479\n",
      "Link with name world does not has a parent. Link name is skipped.\n",
      "Link with name world does not has a parent. Link name is skipped.\n",
      "🎁 Reward: 12.509244867295541\n",
      "Link with name world does not has a parent. Link name is skipped.\n",
      "Link with name world does not has a parent. Link name is skipped.\n",
      "🎁 Reward: 12.515289192019871\n",
      "Link with name world does not has a parent. Link name is skipped.\n",
      "Link with name world does not has a parent. Link name is skipped.\n"
     ]
    },
    {
     "name": "stderr",
     "output_type": "stream",
     "text": [
      "Unknown tag \"inertial\" in /robot[@name='panda']\n",
      "Unknown tag \"inertial\" in /robot[@name='panda']\n",
      "Unknown tag \"inertial\" in /robot[@name='panda']\n",
      "Unknown tag \"inertial\" in /robot[@name='panda']\n",
      "Unknown tag \"inertial\" in /robot[@name='panda']\n",
      "Unknown tag \"inertial\" in /robot[@name='panda']\n"
     ]
    },
    {
     "name": "stdout",
     "output_type": "stream",
     "text": [
      "🎁 Reward: 12.520947048714447\n",
      "Link with name world does not has a parent. Link name is skipped.\n",
      "Link with name world does not has a parent. Link name is skipped.\n",
      "🎁 Reward: 12.526207922471537\n",
      "Link with name world does not has a parent. Link name is skipped.\n",
      "Link with name world does not has a parent. Link name is skipped.\n",
      "🎁 Reward: 12.53106253493386\n",
      "Link with name world does not has a parent. Link name is skipped.\n",
      "Link with name world does not has a parent. Link name is skipped.\n",
      "🎁 Reward: 12.535501925802773\n"
     ]
    },
    {
     "name": "stderr",
     "output_type": "stream",
     "text": [
      "Unknown tag \"inertial\" in /robot[@name='panda']\n",
      "Unknown tag \"inertial\" in /robot[@name='panda']\n",
      "Unknown tag \"inertial\" in /robot[@name='panda']\n",
      "Unknown tag \"inertial\" in /robot[@name='panda']\n",
      "Unknown tag \"inertial\" in /robot[@name='panda']\n",
      "Unknown tag \"inertial\" in /robot[@name='panda']\n",
      "Unknown tag \"inertial\" in /robot[@name='panda']\n",
      "Unknown tag \"inertial\" in /robot[@name='panda']\n",
      "Unknown tag \"inertial\" in /robot[@name='panda']\n",
      "Unknown tag \"inertial\" in /robot[@name='panda']\n",
      "Unknown tag \"inertial\" in /robot[@name='panda']\n",
      "Unknown tag \"inertial\" in /robot[@name='panda']\n"
     ]
    },
    {
     "name": "stdout",
     "output_type": "stream",
     "text": [
      "Link with name world does not has a parent. Link name is skipped.\n",
      "Link with name world does not has a parent. Link name is skipped.\n",
      "🎁 Reward: 12.539517732647136\n",
      "Link with name world does not has a parent. Link name is skipped.\n",
      "Link with name world does not has a parent. Link name is skipped.\n",
      "🎁 Reward: 12.543102486599444\n",
      "Link with name world does not has a parent. Link name is skipped.\n",
      "Link with name world does not has a parent. Link name is skipped.\n",
      "🎁 Reward: 12.546248622825203\n",
      "Link with name world does not has a parent. Link name is skipped.\n",
      "Link with name world does not has a parent. Link name is skipped.\n",
      "🎁 Reward: 12.548950048183267\n",
      "Link with name world does not has a parent. Link name is skipped.\n",
      "Link with name world does not has a parent. Link name is skipped.\n",
      "🎁 Reward: 12.551201152449918\n",
      "Link with name world does not has a parent. Link name is skipped.\n",
      "Link with name world does not has a parent. Link name is skipped.\n",
      "🎁 Reward: 12.55299709011474\n"
     ]
    },
    {
     "name": "stderr",
     "output_type": "stream",
     "text": [
      "Unknown tag \"inertial\" in /robot[@name='panda']\n",
      "Unknown tag \"inertial\" in /robot[@name='panda']\n",
      "Unknown tag \"inertial\" in /robot[@name='panda']\n",
      "Unknown tag \"inertial\" in /robot[@name='panda']\n",
      "Unknown tag \"inertial\" in /robot[@name='panda']\n",
      "Unknown tag \"inertial\" in /robot[@name='panda']\n",
      "Unknown tag \"inertial\" in /robot[@name='panda']\n",
      "Unknown tag \"inertial\" in /robot[@name='panda']\n",
      "Unknown tag \"inertial\" in /robot[@name='panda']\n",
      "Unknown tag \"inertial\" in /robot[@name='panda']\n",
      "Unknown tag \"inertial\" in /robot[@name='panda']\n",
      "Unknown tag \"inertial\" in /robot[@name='panda']\n"
     ]
    },
    {
     "name": "stdout",
     "output_type": "stream",
     "text": [
      "Link with name world does not has a parent. Link name is skipped.\n",
      "Link with name world does not has a parent. Link name is skipped.\n",
      "🎁 Reward: 12.554333804636888\n",
      "Link with name world does not has a parent. Link name is skipped.\n",
      "Link with name world does not has a parent. Link name is skipped.\n",
      "🎁 Reward: 12.555208325414878\n",
      "Link with name world does not has a parent. Link name is skipped.\n",
      "Link with name world does not has a parent. Link name is skipped.\n",
      "🎁 Reward: 12.555617682414727\n",
      "Link with name world does not has a parent. Link name is skipped.\n",
      "Link with name world does not has a parent. Link name is skipped.\n",
      "🎁 Reward: 12.555560567336867\n",
      "Link with name world does not has a parent. Link name is skipped.\n",
      "Link with name world does not has a parent. Link name is skipped.\n",
      "🎁 Reward: 12.555036246591682\n",
      "Link with name world does not has a parent. Link name is skipped.\n",
      "Link with name world does not has a parent. Link name is skipped.\n",
      "🎁 Reward: 12.554045312910779\n"
     ]
    },
    {
     "name": "stderr",
     "output_type": "stream",
     "text": [
      "Unknown tag \"inertial\" in /robot[@name='panda']\n",
      "Unknown tag \"inertial\" in /robot[@name='panda']\n",
      "Unknown tag \"inertial\" in /robot[@name='panda']\n",
      "Unknown tag \"inertial\" in /robot[@name='panda']\n",
      "Unknown tag \"inertial\" in /robot[@name='panda']\n",
      "Unknown tag \"inertial\" in /robot[@name='panda']\n",
      "Unknown tag \"inertial\" in /robot[@name='panda']\n",
      "Unknown tag \"inertial\" in /robot[@name='panda']\n",
      "Unknown tag \"inertial\" in /robot[@name='panda']\n",
      "Unknown tag \"inertial\" in /robot[@name='panda']\n",
      "Unknown tag \"inertial\" in /robot[@name='panda']\n",
      "Unknown tag \"inertial\" in /robot[@name='panda']\n",
      "Unknown tag \"inertial\" in /robot[@name='panda']\n",
      "Unknown tag \"inertial\" in /robot[@name='panda']\n"
     ]
    },
    {
     "name": "stdout",
     "output_type": "stream",
     "text": [
      "Link with name world does not has a parent. Link name is skipped.\n",
      "Link with name world does not has a parent. Link name is skipped.\n",
      "🎁 Reward: 12.552587785910266\n",
      "Link with name world does not has a parent. Link name is skipped.\n",
      "Link with name world does not has a parent. Link name is skipped.\n",
      "🎁 Reward: 12.550666258370967\n",
      "Link with name world does not has a parent. Link name is skipped.\n",
      "Link with name world does not has a parent. Link name is skipped.\n",
      "🎁 Reward: 12.548282801769185\n",
      "Link with name world does not has a parent. Link name is skipped.\n",
      "Link with name world does not has a parent. Link name is skipped.\n",
      "🎁 Reward: 12.545441195819183\n"
     ]
    },
    {
     "name": "stderr",
     "output_type": "stream",
     "text": [
      "Unknown tag \"inertial\" in /robot[@name='panda']\n",
      "Unknown tag \"inertial\" in /robot[@name='panda']\n",
      "Unknown tag \"inertial\" in /robot[@name='panda']\n",
      "Unknown tag \"inertial\" in /robot[@name='panda']\n",
      "Unknown tag \"inertial\" in /robot[@name='panda']\n",
      "Unknown tag \"inertial\" in /robot[@name='panda']\n",
      "Unknown tag \"inertial\" in /robot[@name='panda']\n",
      "Unknown tag \"inertial\" in /robot[@name='panda']\n"
     ]
    },
    {
     "name": "stdout",
     "output_type": "stream",
     "text": [
      "Link with name world does not has a parent. Link name is skipped.\n",
      "Link with name world does not has a parent. Link name is skipped.\n",
      "🎁 Reward: 12.542145738900134\n",
      "Link with name world does not has a parent. Link name is skipped.\n",
      "Link with name world does not has a parent. Link name is skipped.\n",
      "🎁 Reward: 12.538401520161367\n",
      "Link with name world does not has a parent. Link name is skipped.\n",
      "Link with name world does not has a parent. Link name is skipped.\n",
      "🎁 Reward: 12.534214706438062\n",
      "Link with name world does not has a parent. Link name is skipped.\n",
      "Link with name world does not has a parent. Link name is skipped.\n",
      "🎁 Reward: 12.529591273780095\n"
     ]
    },
    {
     "name": "stderr",
     "output_type": "stream",
     "text": [
      "Unknown tag \"inertial\" in /robot[@name='panda']\n",
      "Unknown tag \"inertial\" in /robot[@name='panda']\n",
      "Unknown tag \"inertial\" in /robot[@name='panda']\n",
      "Unknown tag \"inertial\" in /robot[@name='panda']\n",
      "Unknown tag \"inertial\" in /robot[@name='panda']\n",
      "Unknown tag \"inertial\" in /robot[@name='panda']\n"
     ]
    },
    {
     "name": "stdout",
     "output_type": "stream",
     "text": [
      "Link with name world does not has a parent. Link name is skipped.\n",
      "Link with name world does not has a parent. Link name is skipped.\n",
      "🎁 Reward: 12.524538833728226\n",
      "Link with name world does not has a parent. Link name is skipped.\n",
      "Link with name world does not has a parent. Link name is skipped.\n",
      "🎁 Reward: 12.51906536465366\n",
      "Link with name world does not has a parent. Link name is skipped.\n",
      "Link with name world does not has a parent. Link name is skipped.\n",
      "🎁 Reward: 12.513179483470353\n"
     ]
    },
    {
     "name": "stderr",
     "output_type": "stream",
     "text": [
      "Unknown tag \"inertial\" in /robot[@name='panda']\n",
      "Unknown tag \"inertial\" in /robot[@name='panda']\n",
      "Unknown tag \"inertial\" in /robot[@name='panda']\n",
      "Unknown tag \"inertial\" in /robot[@name='panda']\n",
      "Unknown tag \"inertial\" in /robot[@name='panda']\n",
      "Unknown tag \"inertial\" in /robot[@name='panda']\n"
     ]
    },
    {
     "name": "stdout",
     "output_type": "stream",
     "text": [
      "Link with name world does not has a parent. Link name is skipped.\n",
      "Link with name world does not has a parent. Link name is skipped.\n",
      "🎁 Reward: 12.506890407038329\n",
      "Link with name world does not has a parent. Link name is skipped.\n",
      "Link with name world does not has a parent. Link name is skipped.\n",
      "🎁 Reward: 12.500208239057066\n",
      "Link with name world does not has a parent. Link name is skipped.\n",
      "Link with name world does not has a parent. Link name is skipped.\n",
      "🎁 Reward: 12.493142620437286\n",
      "Link with name world does not has a parent. Link name is skipped.\n",
      "Link with name world does not has a parent. Link name is skipped.\n",
      "🎁 Reward: 12.48570464305173\n",
      "Link with name world does not has a parent. Link name is skipped.\n",
      "Link with name world does not has a parent. Link name is skipped.\n",
      "🎁 Reward: 12.477905502985768\n",
      "Link with name world does not has a parent. Link name is skipped.\n",
      "Link with name world does not has a parent. Link name is skipped.\n",
      "🎁 Reward: 12.469756780315612\n"
     ]
    },
    {
     "name": "stderr",
     "output_type": "stream",
     "text": [
      "Unknown tag \"inertial\" in /robot[@name='panda']\n",
      "Unknown tag \"inertial\" in /robot[@name='panda']\n",
      "Unknown tag \"inertial\" in /robot[@name='panda']\n",
      "Unknown tag \"inertial\" in /robot[@name='panda']\n",
      "Unknown tag \"inertial\" in /robot[@name='panda']\n",
      "Unknown tag \"inertial\" in /robot[@name='panda']\n",
      "Unknown tag \"inertial\" in /robot[@name='panda']\n",
      "Unknown tag \"inertial\" in /robot[@name='panda']\n"
     ]
    },
    {
     "name": "stdout",
     "output_type": "stream",
     "text": [
      "Link with name world does not has a parent. Link name is skipped.\n",
      "Link with name world does not has a parent. Link name is skipped.\n",
      "🎁 Reward: 12.461270393680135\n",
      "Link with name world does not has a parent. Link name is skipped.\n",
      "Link with name world does not has a parent. Link name is skipped.\n",
      "🎁 Reward: 12.452458896003751\n",
      "Link with name world does not has a parent. Link name is skipped.\n",
      "Link with name world does not has a parent. Link name is skipped.\n",
      "🎁 Reward: 12.443334066832325\n"
     ]
    },
    {
     "name": "stderr",
     "output_type": "stream",
     "text": [
      "Unknown tag \"inertial\" in /robot[@name='panda']\n",
      "Unknown tag \"inertial\" in /robot[@name='panda']\n",
      "Unknown tag \"inertial\" in /robot[@name='panda']\n",
      "Unknown tag \"inertial\" in /robot[@name='panda']\n",
      "Unknown tag \"inertial\" in /robot[@name='panda']\n",
      "Unknown tag \"inertial\" in /robot[@name='panda']\n",
      "Unknown tag \"inertial\" in /robot[@name='panda']\n",
      "Unknown tag \"inertial\" in /robot[@name='panda']\n"
     ]
    },
    {
     "name": "stdout",
     "output_type": "stream",
     "text": [
      "Link with name world does not has a parent. Link name is skipped.\n",
      "Link with name world does not has a parent. Link name is skipped.\n",
      "🎁 Reward: 12.433908908679323\n",
      "Link with name world does not has a parent. Link name is skipped.\n",
      "Link with name world does not has a parent. Link name is skipped.\n",
      "🎁 Reward: 12.424196244904575\n",
      "Link with name world does not has a parent. Link name is skipped.\n",
      "Link with name world does not has a parent. Link name is skipped.\n",
      "🎁 Reward: 12.414209016263017\n",
      "Link with name world does not has a parent. Link name is skipped.\n",
      "Link with name world does not has a parent. Link name is skipped.\n",
      "🎁 Reward: 12.403961014748774\n"
     ]
    },
    {
     "name": "stderr",
     "output_type": "stream",
     "text": [
      "Unknown tag \"inertial\" in /robot[@name='panda']\n",
      "Unknown tag \"inertial\" in /robot[@name='panda']\n",
      "Unknown tag \"inertial\" in /robot[@name='panda']\n",
      "Unknown tag \"inertial\" in /robot[@name='panda']\n",
      "Unknown tag \"inertial\" in /robot[@name='panda']\n",
      "Unknown tag \"inertial\" in /robot[@name='panda']\n"
     ]
    },
    {
     "name": "stdout",
     "output_type": "stream",
     "text": [
      "Link with name world does not has a parent. Link name is skipped.\n",
      "Link with name world does not has a parent. Link name is skipped.\n",
      "🎁 Reward: 12.39346374472306\n",
      "Link with name world does not has a parent. Link name is skipped.\n",
      "Link with name world does not has a parent. Link name is skipped.\n",
      "🎁 Reward: 12.382731032053922\n",
      "Link with name world does not has a parent. Link name is skipped.\n",
      "Link with name world does not has a parent. Link name is skipped.\n",
      "🎁 Reward: 12.371775890849507\n"
     ]
    },
    {
     "name": "stderr",
     "output_type": "stream",
     "text": [
      "Unknown tag \"inertial\" in /robot[@name='panda']\n",
      "Unknown tag \"inertial\" in /robot[@name='panda']\n",
      "Unknown tag \"inertial\" in /robot[@name='panda']\n",
      "Unknown tag \"inertial\" in /robot[@name='panda']\n",
      "Unknown tag \"inertial\" in /robot[@name='panda']\n",
      "Unknown tag \"inertial\" in /robot[@name='panda']\n"
     ]
    },
    {
     "name": "stdout",
     "output_type": "stream",
     "text": [
      "Link with name world does not has a parent. Link name is skipped.\n",
      "Link with name world does not has a parent. Link name is skipped.\n",
      "🎁 Reward: 12.360611263216319\n",
      "Link with name world does not has a parent. Link name is skipped.\n",
      "Link with name world does not has a parent. Link name is skipped.\n",
      "🎁 Reward: 12.34924998704454\n",
      "Link with name world does not has a parent. Link name is skipped.\n",
      "Link with name world does not has a parent. Link name is skipped.\n",
      "🎁 Reward: 12.337705123450851\n"
     ]
    },
    {
     "name": "stderr",
     "output_type": "stream",
     "text": [
      "Unknown tag \"inertial\" in /robot[@name='panda']\n",
      "Unknown tag \"inertial\" in /robot[@name='panda']\n",
      "Unknown tag \"inertial\" in /robot[@name='panda']\n",
      "Unknown tag \"inertial\" in /robot[@name='panda']\n",
      "Unknown tag \"inertial\" in /robot[@name='panda']\n",
      "Unknown tag \"inertial\" in /robot[@name='panda']\n"
     ]
    },
    {
     "name": "stdout",
     "output_type": "stream",
     "text": [
      "Link with name world does not has a parent. Link name is skipped.\n",
      "Link with name world does not has a parent. Link name is skipped.\n",
      "🎁 Reward: 12.325988499586396\n",
      "Link with name world does not has a parent. Link name is skipped.\n",
      "Link with name world does not has a parent. Link name is skipped.\n",
      "🎁 Reward: 12.3141128252687\n",
      "Link with name world does not has a parent. Link name is skipped.\n",
      "Link with name world does not has a parent. Link name is skipped.\n",
      "🎁 Reward: 12.302090242225475\n"
     ]
    },
    {
     "name": "stderr",
     "output_type": "stream",
     "text": [
      "Unknown tag \"inertial\" in /robot[@name='panda']\n",
      "Unknown tag \"inertial\" in /robot[@name='panda']\n",
      "Unknown tag \"inertial\" in /robot[@name='panda']\n",
      "Unknown tag \"inertial\" in /robot[@name='panda']\n",
      "Unknown tag \"inertial\" in /robot[@name='panda']\n",
      "Unknown tag \"inertial\" in /robot[@name='panda']\n",
      "Unknown tag \"inertial\" in /robot[@name='panda']\n",
      "Unknown tag \"inertial\" in /robot[@name='panda']\n"
     ]
    },
    {
     "name": "stdout",
     "output_type": "stream",
     "text": [
      "Link with name world does not has a parent. Link name is skipped.\n",
      "Link with name world does not has a parent. Link name is skipped.\n",
      "🎁 Reward: 12.289932659252493\n",
      "Link with name world does not has a parent. Link name is skipped.\n",
      "Link with name world does not has a parent. Link name is skipped.\n",
      "🎁 Reward: 12.277651733014377\n",
      "Link with name world does not has a parent. Link name is skipped.\n",
      "Link with name world does not has a parent. Link name is skipped.\n",
      "🎁 Reward: 12.265259212839599\n"
     ]
    },
    {
     "name": "stderr",
     "output_type": "stream",
     "text": [
      "Unknown tag \"inertial\" in /robot[@name='panda']\n",
      "Unknown tag \"inertial\" in /robot[@name='panda']\n",
      "Unknown tag \"inertial\" in /robot[@name='panda']\n",
      "Unknown tag \"inertial\" in /robot[@name='panda']\n",
      "Unknown tag \"inertial\" in /robot[@name='panda']\n",
      "Unknown tag \"inertial\" in /robot[@name='panda']\n"
     ]
    },
    {
     "name": "stdout",
     "output_type": "stream",
     "text": [
      "Link with name world does not has a parent. Link name is skipped.\n",
      "Link with name world does not has a parent. Link name is skipped.\n",
      "🎁 Reward: 12.252765478673485\n",
      "Link with name world does not has a parent. Link name is skipped.\n",
      "Link with name world does not has a parent. Link name is skipped.\n",
      "🎁 Reward: 12.240181697920603\n",
      "Link with name world does not has a parent. Link name is skipped.\n",
      "Link with name world does not has a parent. Link name is skipped.\n",
      "🎁 Reward: 12.227518368362\n",
      "Link with name world does not has a parent. Link name is skipped.\n",
      "Link with name world does not has a parent. Link name is skipped.\n"
     ]
    },
    {
     "name": "stderr",
     "output_type": "stream",
     "text": [
      "Unknown tag \"inertial\" in /robot[@name='panda']\n",
      "Unknown tag \"inertial\" in /robot[@name='panda']\n",
      "Unknown tag \"inertial\" in /robot[@name='panda']\n",
      "Unknown tag \"inertial\" in /robot[@name='panda']\n",
      "Unknown tag \"inertial\" in /robot[@name='panda']\n",
      "Unknown tag \"inertial\" in /robot[@name='panda']\n",
      "Unknown tag \"inertial\" in /robot[@name='panda']\n",
      "Unknown tag \"inertial\" in /robot[@name='panda']\n"
     ]
    },
    {
     "name": "stdout",
     "output_type": "stream",
     "text": [
      "🎁 Reward: 12.214785670301097\n",
      "Link with name world does not has a parent. Link name is skipped.\n",
      "Link with name world does not has a parent. Link name is skipped.\n",
      "🎁 Reward: 12.201993822422917\n",
      "Link with name world does not has a parent. Link name is skipped.\n",
      "Link with name world does not has a parent. Link name is skipped.\n",
      "🎁 Reward: 12.189151622865632\n",
      "Link with name world does not has a parent. Link name is skipped.\n",
      "Link with name world does not has a parent. Link name is skipped.\n",
      "🎁 Reward: 12.176268624557181\n"
     ]
    },
    {
     "name": "stderr",
     "output_type": "stream",
     "text": [
      "Unknown tag \"inertial\" in /robot[@name='panda']\n",
      "Unknown tag \"inertial\" in /robot[@name='panda']\n",
      "Unknown tag \"inertial\" in /robot[@name='panda']\n",
      "Unknown tag \"inertial\" in /robot[@name='panda']\n",
      "Unknown tag \"inertial\" in /robot[@name='panda']\n",
      "Unknown tag \"inertial\" in /robot[@name='panda']\n",
      "Unknown tag \"inertial\" in /robot[@name='panda']\n",
      "Unknown tag \"inertial\" in /robot[@name='panda']\n"
     ]
    },
    {
     "name": "stdout",
     "output_type": "stream",
     "text": [
      "Link with name world does not has a parent. Link name is skipped.\n",
      "Link with name world does not has a parent. Link name is skipped.\n",
      "🎁 Reward: 12.163353679619473\n",
      "Link with name world does not has a parent. Link name is skipped.\n",
      "Link with name world does not has a parent. Link name is skipped.\n",
      "🎁 Reward: 12.150415301168449\n",
      "Link with name world does not has a parent. Link name is skipped.\n",
      "Link with name world does not has a parent. Link name is skipped.\n",
      "🎁 Reward: 12.137461663222632\n",
      "Link with name world does not has a parent. Link name is skipped.\n",
      "Link with name world does not has a parent. Link name is skipped.\n",
      "🎁 Reward: 12.124500964653803\n",
      "Link with name world does not has a parent. Link name is skipped.\n",
      "Link with name world does not has a parent. Link name is skipped.\n",
      "🎁 Reward: 12.111539979580403\n",
      "Link with name world does not has a parent. Link name is skipped.\n",
      "Link with name world does not has a parent. Link name is skipped.\n",
      "🎁 Reward: 12.098586679904296\n"
     ]
    },
    {
     "name": "stderr",
     "output_type": "stream",
     "text": [
      "Unknown tag \"inertial\" in /robot[@name='panda']\n",
      "Unknown tag \"inertial\" in /robot[@name='panda']\n",
      "Unknown tag \"inertial\" in /robot[@name='panda']\n",
      "Unknown tag \"inertial\" in /robot[@name='panda']\n",
      "Unknown tag \"inertial\" in /robot[@name='panda']\n",
      "Unknown tag \"inertial\" in /robot[@name='panda']\n",
      "Unknown tag \"inertial\" in /robot[@name='panda']\n",
      "Unknown tag \"inertial\" in /robot[@name='panda']\n",
      "Unknown tag \"inertial\" in /robot[@name='panda']\n",
      "Unknown tag \"inertial\" in /robot[@name='panda']\n",
      "Unknown tag \"inertial\" in /robot[@name='panda']\n",
      "Unknown tag \"inertial\" in /robot[@name='panda']\n"
     ]
    },
    {
     "name": "stdout",
     "output_type": "stream",
     "text": [
      "Link with name world does not has a parent. Link name is skipped.\n",
      "Link with name world does not has a parent. Link name is skipped.\n",
      "🎁 Reward: 12.085647022806352\n",
      "Link with name world does not has a parent. Link name is skipped.\n",
      "Link with name world does not has a parent. Link name is skipped.\n",
      "🎁 Reward: 12.072727963034135\n",
      "Link with name world does not has a parent. Link name is skipped.\n",
      "Link with name world does not has a parent. Link name is skipped.\n",
      "🎁 Reward: 12.05983569681472\n"
     ]
    },
    {
     "name": "stderr",
     "output_type": "stream",
     "text": [
      "Unknown tag \"inertial\" in /robot[@name='panda']\n",
      "Unknown tag \"inertial\" in /robot[@name='panda']\n",
      "Unknown tag \"inertial\" in /robot[@name='panda']\n",
      "Unknown tag \"inertial\" in /robot[@name='panda']\n",
      "Unknown tag \"inertial\" in /robot[@name='panda']\n",
      "Unknown tag \"inertial\" in /robot[@name='panda']\n"
     ]
    },
    {
     "name": "stdout",
     "output_type": "stream",
     "text": [
      "Link with name world does not has a parent. Link name is skipped.\n",
      "Link with name world does not has a parent. Link name is skipped.\n",
      "🎁 Reward: 12.046976468608626\n",
      "Link with name world does not has a parent. Link name is skipped.\n",
      "Link with name world does not has a parent. Link name is skipped.\n",
      "🎁 Reward: 12.034155134903965\n",
      "Link with name world does not has a parent. Link name is skipped.\n",
      "Link with name world does not has a parent. Link name is skipped.\n",
      "🎁 Reward: 12.021377336366577\n"
     ]
    },
    {
     "name": "stderr",
     "output_type": "stream",
     "text": [
      "Unknown tag \"inertial\" in /robot[@name='panda']\n",
      "Unknown tag \"inertial\" in /robot[@name='panda']\n",
      "Unknown tag \"inertial\" in /robot[@name='panda']\n",
      "Unknown tag \"inertial\" in /robot[@name='panda']\n",
      "Unknown tag \"inertial\" in /robot[@name='panda']\n",
      "Unknown tag \"inertial\" in /robot[@name='panda']\n"
     ]
    },
    {
     "name": "stdout",
     "output_type": "stream",
     "text": [
      "Link with name world does not has a parent. Link name is skipped.\n",
      "Link with name world does not has a parent. Link name is skipped.\n",
      "🎁 Reward: 12.008648061512156\n",
      "Link with name world does not has a parent. Link name is skipped.\n",
      "Link with name world does not has a parent. Link name is skipped.\n",
      "🎁 Reward: 11.995972015611866\n",
      "Link with name world does not has a parent. Link name is skipped.\n",
      "Link with name world does not has a parent. Link name is skipped.\n",
      "🎁 Reward: 11.98335362879343\n"
     ]
    },
    {
     "name": "stderr",
     "output_type": "stream",
     "text": [
      "Unknown tag \"inertial\" in /robot[@name='panda']\n",
      "Unknown tag \"inertial\" in /robot[@name='panda']\n",
      "Unknown tag \"inertial\" in /robot[@name='panda']\n",
      "Unknown tag \"inertial\" in /robot[@name='panda']\n",
      "Unknown tag \"inertial\" in /robot[@name='panda']\n",
      "Unknown tag \"inertial\" in /robot[@name='panda']\n"
     ]
    },
    {
     "name": "stdout",
     "output_type": "stream",
     "text": [
      "Link with name world does not has a parent. Link name is skipped.\n",
      "Link with name world does not has a parent. Link name is skipped.\n",
      "🎁 Reward: 11.970797421286994\n",
      "Link with name world does not has a parent. Link name is skipped.\n",
      "Link with name world does not has a parent. Link name is skipped.\n",
      "🎁 Reward: 11.958306583444582\n",
      "Link with name world does not has a parent. Link name is skipped.\n",
      "Link with name world does not has a parent. Link name is skipped.\n",
      "🎁 Reward: 11.945885128029088\n"
     ]
    },
    {
     "name": "stderr",
     "output_type": "stream",
     "text": [
      "Unknown tag \"inertial\" in /robot[@name='panda']\n",
      "Unknown tag \"inertial\" in /robot[@name='panda']\n",
      "Unknown tag \"inertial\" in /robot[@name='panda']\n",
      "Unknown tag \"inertial\" in /robot[@name='panda']\n",
      "Unknown tag \"inertial\" in /robot[@name='panda']\n",
      "Unknown tag \"inertial\" in /robot[@name='panda']\n"
     ]
    },
    {
     "name": "stdout",
     "output_type": "stream",
     "text": [
      "Link with name world does not has a parent. Link name is skipped.\n",
      "Link with name world does not has a parent. Link name is skipped.\n",
      "🎁 Reward: 11.933536469040549\n",
      "Link with name world does not has a parent. Link name is skipped.\n",
      "Link with name world does not has a parent. Link name is skipped.\n",
      "🎁 Reward: 11.9212637880018\n",
      "Link with name world does not has a parent. Link name is skipped.\n",
      "Link with name world does not has a parent. Link name is skipped.\n",
      "🎁 Reward: 11.909070395787209\n"
     ]
    },
    {
     "name": "stderr",
     "output_type": "stream",
     "text": [
      "Unknown tag \"inertial\" in /robot[@name='panda']\n",
      "Unknown tag \"inertial\" in /robot[@name='panda']\n",
      "Unknown tag \"inertial\" in /robot[@name='panda']\n",
      "Unknown tag \"inertial\" in /robot[@name='panda']\n",
      "Unknown tag \"inertial\" in /robot[@name='panda']\n",
      "Unknown tag \"inertial\" in /robot[@name='panda']\n"
     ]
    },
    {
     "name": "stdout",
     "output_type": "stream",
     "text": [
      "Link with name world does not has a parent. Link name is skipped.\n",
      "Link with name world does not has a parent. Link name is skipped.\n",
      "🎁 Reward: 11.896958327738654\n",
      "Link with name world does not has a parent. Link name is skipped.\n",
      "Link with name world does not has a parent. Link name is skipped.\n",
      "🎁 Reward: 11.88493047365419\n",
      "Link with name world does not has a parent. Link name is skipped.\n",
      "Link with name world does not has a parent. Link name is skipped.\n",
      "🎁 Reward: 11.872989171145369\n"
     ]
    },
    {
     "name": "stderr",
     "output_type": "stream",
     "text": [
      "Unknown tag \"inertial\" in /robot[@name='panda']\n",
      "Unknown tag \"inertial\" in /robot[@name='panda']\n",
      "Unknown tag \"inertial\" in /robot[@name='panda']\n",
      "Unknown tag \"inertial\" in /robot[@name='panda']\n",
      "Unknown tag \"inertial\" in /robot[@name='panda']\n",
      "Unknown tag \"inertial\" in /robot[@name='panda']\n"
     ]
    },
    {
     "name": "stdout",
     "output_type": "stream",
     "text": [
      "Link with name world does not has a parent. Link name is skipped.\n",
      "Link with name world does not has a parent. Link name is skipped.\n",
      "🎁 Reward: 11.861136567925668\n",
      "Link with name world does not has a parent. Link name is skipped.\n",
      "Link with name world does not has a parent. Link name is skipped.\n",
      "🎁 Reward: 11.849374629993346\n",
      "Link with name world does not has a parent. Link name is skipped.\n",
      "Link with name world does not has a parent. Link name is skipped.\n",
      "🎁 Reward: 11.837705497753284\n",
      "Link with name world does not has a parent. Link name is skipped.\n",
      "Link with name world does not has a parent. Link name is skipped.\n",
      "🎁 Reward: 11.826130100599118\n",
      "Link with name world does not has a parent. Link name is skipped.\n",
      "Link with name world does not has a parent. Link name is skipped.\n",
      "🎁 Reward: 11.814650255810006\n",
      "Link with name world does not has a parent. Link name is skipped.\n",
      "Link with name world does not has a parent. Link name is skipped.\n"
     ]
    },
    {
     "name": "stderr",
     "output_type": "stream",
     "text": [
      "Unknown tag \"inertial\" in /robot[@name='panda']\n",
      "Unknown tag \"inertial\" in /robot[@name='panda']\n",
      "Unknown tag \"inertial\" in /robot[@name='panda']\n",
      "Unknown tag \"inertial\" in /robot[@name='panda']\n",
      "Unknown tag \"inertial\" in /robot[@name='panda']\n",
      "Unknown tag \"inertial\" in /robot[@name='panda']\n"
     ]
    },
    {
     "name": "stdout",
     "output_type": "stream",
     "text": [
      "🎁 Reward: 11.803267758507186\n",
      "Link with name world does not has a parent. Link name is skipped.\n",
      "Link with name world does not has a parent. Link name is skipped.\n",
      "🎁 Reward: 11.7919828293269\n",
      "Link with name world does not has a parent. Link name is skipped.\n",
      "Link with name world does not has a parent. Link name is skipped.\n",
      "🎁 Reward: 11.780796982138883\n",
      "Link with name world does not has a parent. Link name is skipped.\n",
      "Link with name world does not has a parent. Link name is skipped.\n"
     ]
    },
    {
     "name": "stderr",
     "output_type": "stream",
     "text": [
      "Unknown tag \"inertial\" in /robot[@name='panda']\n",
      "Unknown tag \"inertial\" in /robot[@name='panda']\n",
      "Unknown tag \"inertial\" in /robot[@name='panda']\n",
      "Unknown tag \"inertial\" in /robot[@name='panda']\n",
      "Unknown tag \"inertial\" in /robot[@name='panda']\n",
      "Unknown tag \"inertial\" in /robot[@name='panda']\n",
      "Unknown tag \"inertial\" in /robot[@name='panda']\n",
      "Unknown tag \"inertial\" in /robot[@name='panda']\n"
     ]
    },
    {
     "name": "stdout",
     "output_type": "stream",
     "text": [
      "🎁 Reward: 11.769711467941828\n",
      "Link with name world does not has a parent. Link name is skipped.\n",
      "Link with name world does not has a parent. Link name is skipped.\n",
      "🎁 Reward: 11.758726385903197\n",
      "Link with name world does not has a parent. Link name is skipped.\n",
      "Link with name world does not has a parent. Link name is skipped.\n",
      "🎁 Reward: 11.747842748587821\n",
      "Link with name world does not has a parent. Link name is skipped.\n",
      "Link with name world does not has a parent. Link name is skipped.\n"
     ]
    },
    {
     "name": "stderr",
     "output_type": "stream",
     "text": [
      "Unknown tag \"inertial\" in /robot[@name='panda']\n",
      "Unknown tag \"inertial\" in /robot[@name='panda']\n",
      "Unknown tag \"inertial\" in /robot[@name='panda']\n",
      "Unknown tag \"inertial\" in /robot[@name='panda']\n",
      "Unknown tag \"inertial\" in /robot[@name='panda']\n",
      "Unknown tag \"inertial\" in /robot[@name='panda']\n"
     ]
    },
    {
     "name": "stdout",
     "output_type": "stream",
     "text": [
      "🎁 Reward: 11.737061114684328\n",
      "Link with name world does not has a parent. Link name is skipped.\n",
      "Link with name world does not has a parent. Link name is skipped.\n",
      "🎁 Reward: 11.726381938566652\n",
      "Link with name world does not has a parent. Link name is skipped.\n",
      "Link with name world does not has a parent. Link name is skipped.\n",
      "🎁 Reward: 11.71580557604155\n",
      "Link with name world does not has a parent. Link name is skipped.\n",
      "Link with name world does not has a parent. Link name is skipped.\n"
     ]
    },
    {
     "name": "stderr",
     "output_type": "stream",
     "text": [
      "Unknown tag \"inertial\" in /robot[@name='panda']\n",
      "Unknown tag \"inertial\" in /robot[@name='panda']\n",
      "Unknown tag \"inertial\" in /robot[@name='panda']\n",
      "Unknown tag \"inertial\" in /robot[@name='panda']\n",
      "Unknown tag \"inertial\" in /robot[@name='panda']\n",
      "Unknown tag \"inertial\" in /robot[@name='panda']\n"
     ]
    },
    {
     "name": "stdout",
     "output_type": "stream",
     "text": [
      "🎁 Reward: 11.705332627003479\n",
      "Link with name world does not has a parent. Link name is skipped.\n",
      "Link with name world does not has a parent. Link name is skipped.\n",
      "🎁 Reward: 11.694962591318365\n",
      "Link with name world does not has a parent. Link name is skipped.\n",
      "Link with name world does not has a parent. Link name is skipped.\n",
      "🎁 Reward: 11.684695899458703\n",
      "Link with name world does not has a parent. Link name is skipped.\n",
      "Link with name world does not has a parent. Link name is skipped.\n"
     ]
    },
    {
     "name": "stderr",
     "output_type": "stream",
     "text": [
      "Unknown tag \"inertial\" in /robot[@name='panda']\n",
      "Unknown tag \"inertial\" in /robot[@name='panda']\n",
      "Unknown tag \"inertial\" in /robot[@name='panda']\n",
      "Unknown tag \"inertial\" in /robot[@name='panda']\n",
      "Unknown tag \"inertial\" in /robot[@name='panda']\n",
      "Unknown tag \"inertial\" in /robot[@name='panda']\n"
     ]
    },
    {
     "name": "stdout",
     "output_type": "stream",
     "text": [
      "🎁 Reward: 11.674532566110617\n",
      "Link with name world does not has a parent. Link name is skipped.\n",
      "Link with name world does not has a parent. Link name is skipped.\n",
      "🎁 Reward: 11.66447253291259\n",
      "Link with name world does not has a parent. Link name is skipped.\n",
      "Link with name world does not has a parent. Link name is skipped.\n",
      "🎁 Reward: 11.654516005453747\n",
      "Link with name world does not has a parent. Link name is skipped.\n",
      "Link with name world does not has a parent. Link name is skipped.\n"
     ]
    },
    {
     "name": "stderr",
     "output_type": "stream",
     "text": [
      "Unknown tag \"inertial\" in /robot[@name='panda']\n",
      "Unknown tag \"inertial\" in /robot[@name='panda']\n",
      "Unknown tag \"inertial\" in /robot[@name='panda']\n",
      "Unknown tag \"inertial\" in /robot[@name='panda']\n",
      "Unknown tag \"inertial\" in /robot[@name='panda']\n",
      "Unknown tag \"inertial\" in /robot[@name='panda']\n"
     ]
    },
    {
     "name": "stdout",
     "output_type": "stream",
     "text": [
      "🎁 Reward: 11.644662126596518\n",
      "Link with name world does not has a parent. Link name is skipped.\n",
      "Link with name world does not has a parent. Link name is skipped.\n",
      "🎁 Reward: 11.634910978400715\n",
      "Link with name world does not has a parent. Link name is skipped.\n",
      "Link with name world does not has a parent. Link name is skipped.\n",
      "🎁 Reward: 11.62526225323365\n",
      "Link with name world does not has a parent. Link name is skipped.\n",
      "Link with name world does not has a parent. Link name is skipped.\n",
      "🎁 Reward: 11.61571559093377\n"
     ]
    },
    {
     "name": "stderr",
     "output_type": "stream",
     "text": [
      "Unknown tag \"inertial\" in /robot[@name='panda']\n",
      "Unknown tag \"inertial\" in /robot[@name='panda']\n",
      "Unknown tag \"inertial\" in /robot[@name='panda']\n",
      "Unknown tag \"inertial\" in /robot[@name='panda']\n",
      "Unknown tag \"inertial\" in /robot[@name='panda']\n",
      "Unknown tag \"inertial\" in /robot[@name='panda']\n"
     ]
    },
    {
     "name": "stdout",
     "output_type": "stream",
     "text": [
      "Link with name world does not has a parent. Link name is skipped.\n",
      "Link with name world does not has a parent. Link name is skipped.\n",
      "🎁 Reward: 11.606270582368776\n",
      "Link with name world does not has a parent. Link name is skipped.\n",
      "Link with name world does not has a parent. Link name is skipped.\n",
      "🎁 Reward: 11.596927099913241\n",
      "Link with name world does not has a parent. Link name is skipped.\n",
      "Link with name world does not has a parent. Link name is skipped.\n",
      "🎁 Reward: 11.587683991433202\n",
      "Link with name world does not has a parent. Link name is skipped.\n",
      "Link with name world does not has a parent. Link name is skipped.\n",
      "🎁 Reward: 11.578541048552184\n"
     ]
    },
    {
     "name": "stderr",
     "output_type": "stream",
     "text": [
      "Unknown tag \"inertial\" in /robot[@name='panda']\n",
      "Unknown tag \"inertial\" in /robot[@name='panda']\n",
      "Unknown tag \"inertial\" in /robot[@name='panda']\n",
      "Unknown tag \"inertial\" in /robot[@name='panda']\n",
      "Unknown tag \"inertial\" in /robot[@name='panda']\n",
      "Unknown tag \"inertial\" in /robot[@name='panda']\n",
      "Unknown tag \"inertial\" in /robot[@name='panda']\n",
      "Unknown tag \"inertial\" in /robot[@name='panda']\n"
     ]
    },
    {
     "name": "stdout",
     "output_type": "stream",
     "text": [
      "Link with name world does not has a parent. Link name is skipped.\n",
      "Link with name world does not has a parent. Link name is skipped.\n",
      "🎁 Reward: 11.56949769854085\n",
      "Link with name world does not has a parent. Link name is skipped.\n",
      "Link with name world does not has a parent. Link name is skipped.\n",
      "🎁 Reward: 11.560553335067551\n",
      "Link with name world does not has a parent. Link name is skipped.\n",
      "Link with name world does not has a parent. Link name is skipped.\n",
      "🎁 Reward: 11.551707320827065\n",
      "Link with name world does not has a parent. Link name is skipped.\n",
      "Link with name world does not has a parent. Link name is skipped.\n",
      "🎁 Reward: 11.542959822368168\n"
     ]
    },
    {
     "name": "stderr",
     "output_type": "stream",
     "text": [
      "Unknown tag \"inertial\" in /robot[@name='panda']\n",
      "Unknown tag \"inertial\" in /robot[@name='panda']\n",
      "Unknown tag \"inertial\" in /robot[@name='panda']\n",
      "Unknown tag \"inertial\" in /robot[@name='panda']\n",
      "Unknown tag \"inertial\" in /robot[@name='panda']\n",
      "Unknown tag \"inertial\" in /robot[@name='panda']\n",
      "Unknown tag \"inertial\" in /robot[@name='panda']\n",
      "Unknown tag \"inertial\" in /robot[@name='panda']\n"
     ]
    },
    {
     "name": "stdout",
     "output_type": "stream",
     "text": [
      "Link with name world does not has a parent. Link name is skipped.\n",
      "Link with name world does not has a parent. Link name is skipped.\n",
      "🎁 Reward: 11.53430848331803\n",
      "Link with name world does not has a parent. Link name is skipped.\n",
      "Link with name world does not has a parent. Link name is skipped.\n",
      "🎁 Reward: 11.525753420023431\n",
      "Link with name world does not has a parent. Link name is skipped.\n",
      "Link with name world does not has a parent. Link name is skipped.\n"
     ]
    },
    {
     "name": "stderr",
     "output_type": "stream",
     "text": [
      "Unknown tag \"inertial\" in /robot[@name='panda']\n",
      "Unknown tag \"inertial\" in /robot[@name='panda']\n",
      "Unknown tag \"inertial\" in /robot[@name='panda']\n",
      "Unknown tag \"inertial\" in /robot[@name='panda']\n",
      "Unknown tag \"inertial\" in /robot[@name='panda']\n",
      "Unknown tag \"inertial\" in /robot[@name='panda']\n",
      "Unknown tag \"inertial\" in /robot[@name='panda']\n",
      "Unknown tag \"inertial\" in /robot[@name='panda']\n"
     ]
    },
    {
     "name": "stdout",
     "output_type": "stream",
     "text": [
      "🎁 Reward: 11.517293894945396\n",
      "Link with name world does not has a parent. Link name is skipped.\n",
      "Link with name world does not has a parent. Link name is skipped.\n",
      "🎁 Reward: 11.508929150790891\n",
      "Link with name world does not has a parent. Link name is skipped.\n",
      "Link with name world does not has a parent. Link name is skipped.\n",
      "🎁 Reward: 11.500658412408114\n",
      "Link with name world does not has a parent. Link name is skipped.\n",
      "Link with name world does not has a parent. Link name is skipped.\n",
      "🎁 Reward: 11.492481205437086\n"
     ]
    },
    {
     "name": "stderr",
     "output_type": "stream",
     "text": [
      "Unknown tag \"inertial\" in /robot[@name='panda']\n",
      "Unknown tag \"inertial\" in /robot[@name='panda']\n",
      "Unknown tag \"inertial\" in /robot[@name='panda']\n",
      "Unknown tag \"inertial\" in /robot[@name='panda']\n",
      "Unknown tag \"inertial\" in /robot[@name='panda']\n",
      "Unknown tag \"inertial\" in /robot[@name='panda']\n"
     ]
    },
    {
     "name": "stdout",
     "output_type": "stream",
     "text": [
      "Link with name world does not has a parent. Link name is skipped.\n",
      "Link with name world does not has a parent. Link name is skipped.\n",
      "🎁 Reward: 11.48439608975314\n",
      "Link with name world does not has a parent. Link name is skipped.\n",
      "Link with name world does not has a parent. Link name is skipped.\n",
      "🎁 Reward: 11.476402564650924\n",
      "Link with name world does not has a parent. Link name is skipped.\n",
      "Link with name world does not has a parent. Link name is skipped.\n"
     ]
    },
    {
     "name": "stderr",
     "output_type": "stream",
     "text": [
      "Unknown tag \"inertial\" in /robot[@name='panda']\n",
      "Unknown tag \"inertial\" in /robot[@name='panda']\n",
      "Unknown tag \"inertial\" in /robot[@name='panda']\n",
      "Unknown tag \"inertial\" in /robot[@name='panda']\n",
      "Unknown tag \"inertial\" in /robot[@name='panda']\n",
      "Unknown tag \"inertial\" in /robot[@name='panda']\n"
     ]
    },
    {
     "name": "stdout",
     "output_type": "stream",
     "text": [
      "🎁 Reward: 11.46849980047185\n",
      "Link with name world does not has a parent. Link name is skipped.\n",
      "Link with name world does not has a parent. Link name is skipped.\n",
      "🎁 Reward: 11.460686957695668\n",
      "Link with name world does not has a parent. Link name is skipped.\n",
      "Link with name world does not has a parent. Link name is skipped.\n",
      "🎁 Reward: 11.452963188274557\n",
      "Link with name world does not has a parent. Link name is skipped.\n",
      "Link with name world does not has a parent. Link name is skipped.\n"
     ]
    },
    {
     "name": "stderr",
     "output_type": "stream",
     "text": [
      "Unknown tag \"inertial\" in /robot[@name='panda']\n",
      "Unknown tag \"inertial\" in /robot[@name='panda']\n",
      "Unknown tag \"inertial\" in /robot[@name='panda']\n",
      "Unknown tag \"inertial\" in /robot[@name='panda']\n",
      "Unknown tag \"inertial\" in /robot[@name='panda']\n",
      "Unknown tag \"inertial\" in /robot[@name='panda']\n"
     ]
    },
    {
     "name": "stdout",
     "output_type": "stream",
     "text": [
      "🎁 Reward: 11.445327949017924\n",
      "Link with name world does not has a parent. Link name is skipped.\n",
      "Link with name world does not has a parent. Link name is skipped.\n",
      "🎁 Reward: 11.43777975349238\n",
      "Link with name world does not has a parent. Link name is skipped.\n",
      "Link with name world does not has a parent. Link name is skipped.\n",
      "🎁 Reward: 11.430318048200636\n",
      "Link with name world does not has a parent. Link name is skipped.\n",
      "Link with name world does not has a parent. Link name is skipped.\n",
      "🎁 Reward: 11.422941962803227\n"
     ]
    },
    {
     "name": "stderr",
     "output_type": "stream",
     "text": [
      "Unknown tag \"inertial\" in /robot[@name='panda']\n",
      "Unknown tag \"inertial\" in /robot[@name='panda']\n",
      "Unknown tag \"inertial\" in /robot[@name='panda']\n",
      "Unknown tag \"inertial\" in /robot[@name='panda']\n",
      "Unknown tag \"inertial\" in /robot[@name='panda']\n",
      "Unknown tag \"inertial\" in /robot[@name='panda']\n",
      "Unknown tag \"inertial\" in /robot[@name='panda']\n",
      "Unknown tag \"inertial\" in /robot[@name='panda']\n"
     ]
    },
    {
     "name": "stdout",
     "output_type": "stream",
     "text": [
      "Link with name world does not has a parent. Link name is skipped.\n",
      "Link with name world does not has a parent. Link name is skipped.\n",
      "🎁 Reward: 11.415650623993468\n",
      "Link with name world does not has a parent. Link name is skipped.\n",
      "Link with name world does not has a parent. Link name is skipped.\n",
      "🎁 Reward: 11.408443464810563\n",
      "Link with name world does not has a parent. Link name is skipped.\n",
      "Link with name world does not has a parent. Link name is skipped.\n",
      "🎁 Reward: 11.401318991178528\n",
      "Link with name world does not has a parent. Link name is skipped.\n",
      "Link with name world does not has a parent. Link name is skipped.\n",
      "🎁 Reward: 11.394276635275325\n",
      "Link with name world does not has a parent. Link name is skipped.\n",
      "Link with name world does not has a parent. Link name is skipped.\n",
      "🎁 Reward: 11.387315520502492\n",
      "Link with name world does not has a parent. Link name is skipped.\n",
      "Link with name world does not has a parent. Link name is skipped.\n"
     ]
    },
    {
     "name": "stderr",
     "output_type": "stream",
     "text": [
      "Unknown tag \"inertial\" in /robot[@name='panda']\n",
      "Unknown tag \"inertial\" in /robot[@name='panda']\n",
      "Unknown tag \"inertial\" in /robot[@name='panda']\n",
      "Unknown tag \"inertial\" in /robot[@name='panda']\n",
      "Unknown tag \"inertial\" in /robot[@name='panda']\n",
      "Unknown tag \"inertial\" in /robot[@name='panda']\n",
      "Unknown tag \"inertial\" in /robot[@name='panda']\n",
      "Unknown tag \"inertial\" in /robot[@name='panda']\n"
     ]
    },
    {
     "name": "stdout",
     "output_type": "stream",
     "text": [
      "🎁 Reward: 11.380434771313093\n",
      "Link with name world does not has a parent. Link name is skipped.\n",
      "Link with name world does not has a parent. Link name is skipped.\n",
      "🎁 Reward: 11.373633513863139\n",
      "Link with name world does not has a parent. Link name is skipped.\n",
      "Link with name world does not has a parent. Link name is skipped.\n",
      "🎁 Reward: 11.366911180794547\n",
      "Link with name world does not has a parent. Link name is skipped.\n",
      "Link with name world does not has a parent. Link name is skipped.\n"
     ]
    },
    {
     "name": "stderr",
     "output_type": "stream",
     "text": [
      "Unknown tag \"inertial\" in /robot[@name='panda']\n",
      "Unknown tag \"inertial\" in /robot[@name='panda']\n",
      "Unknown tag \"inertial\" in /robot[@name='panda']\n",
      "Unknown tag \"inertial\" in /robot[@name='panda']\n",
      "Unknown tag \"inertial\" in /robot[@name='panda']\n",
      "Unknown tag \"inertial\" in /robot[@name='panda']\n"
     ]
    },
    {
     "name": "stdout",
     "output_type": "stream",
     "text": [
      "🎁 Reward: 11.360266294417741\n",
      "Link with name world does not has a parent. Link name is skipped.\n",
      "Link with name world does not has a parent. Link name is skipped.\n",
      "🎁 Reward: 11.353698826596817\n",
      "Link with name world does not has a parent. Link name is skipped.\n",
      "Link with name world does not has a parent. Link name is skipped.\n",
      "🎁 Reward: 11.347206852124751\n"
     ]
    },
    {
     "name": "stderr",
     "output_type": "stream",
     "text": [
      "Unknown tag \"inertial\" in /robot[@name='panda']\n",
      "Unknown tag \"inertial\" in /robot[@name='panda']\n",
      "Unknown tag \"inertial\" in /robot[@name='panda']\n",
      "Unknown tag \"inertial\" in /robot[@name='panda']\n",
      "Unknown tag \"inertial\" in /robot[@name='panda']\n",
      "Unknown tag \"inertial\" in /robot[@name='panda']\n"
     ]
    },
    {
     "name": "stdout",
     "output_type": "stream",
     "text": [
      "Link with name world does not has a parent. Link name is skipped.\n",
      "Link with name world does not has a parent. Link name is skipped.\n",
      "🎁 Reward: 11.34079004551298\n",
      "Link with name world does not has a parent. Link name is skipped.\n",
      "Link with name world does not has a parent. Link name is skipped.\n",
      "🎁 Reward: 11.334447554471701\n",
      "Link with name world does not has a parent. Link name is skipped.\n",
      "Link with name world does not has a parent. Link name is skipped.\n",
      "🎁 Reward: 11.328178832074657\n"
     ]
    },
    {
     "name": "stderr",
     "output_type": "stream",
     "text": [
      "Unknown tag \"inertial\" in /robot[@name='panda']\n",
      "Unknown tag \"inertial\" in /robot[@name='panda']\n",
      "Unknown tag \"inertial\" in /robot[@name='panda']\n",
      "Unknown tag \"inertial\" in /robot[@name='panda']\n",
      "Unknown tag \"inertial\" in /robot[@name='panda']\n",
      "Unknown tag \"inertial\" in /robot[@name='panda']\n"
     ]
    },
    {
     "name": "stdout",
     "output_type": "stream",
     "text": [
      "Link with name world does not has a parent. Link name is skipped.\n",
      "Link with name world does not has a parent. Link name is skipped.\n",
      "🎁 Reward: 11.321982435572568\n",
      "Link with name world does not has a parent. Link name is skipped.\n",
      "Link with name world does not has a parent. Link name is skipped.\n",
      "🎁 Reward: 11.315857829985696\n",
      "Link with name world does not has a parent. Link name is skipped.\n",
      "Link with name world does not has a parent. Link name is skipped.\n",
      "🎁 Reward: 11.309804185582644\n",
      "Link with name world does not has a parent. Link name is skipped.\n",
      "Link with name world does not has a parent. Link name is skipped.\n"
     ]
    },
    {
     "name": "stderr",
     "output_type": "stream",
     "text": [
      "Unknown tag \"inertial\" in /robot[@name='panda']\n",
      "Unknown tag \"inertial\" in /robot[@name='panda']\n",
      "Unknown tag \"inertial\" in /robot[@name='panda']\n",
      "Unknown tag \"inertial\" in /robot[@name='panda']\n",
      "Unknown tag \"inertial\" in /robot[@name='panda']\n",
      "Unknown tag \"inertial\" in /robot[@name='panda']\n"
     ]
    },
    {
     "name": "stdout",
     "output_type": "stream",
     "text": [
      "🎁 Reward: 11.303820679020337\n",
      "Link with name world does not has a parent. Link name is skipped.\n",
      "Link with name world does not has a parent. Link name is skipped.\n",
      "🎁 Reward: 11.298018168351803\n",
      "Link with name world does not has a parent. Link name is skipped.\n",
      "Link with name world does not has a parent. Link name is skipped.\n",
      "🎁 Reward: 11.29250177970535\n",
      "Link with name world does not has a parent. Link name is skipped.\n",
      "Link with name world does not has a parent. Link name is skipped.\n"
     ]
    },
    {
     "name": "stderr",
     "output_type": "stream",
     "text": [
      "Unknown tag \"inertial\" in /robot[@name='panda']\n",
      "Unknown tag \"inertial\" in /robot[@name='panda']\n",
      "Unknown tag \"inertial\" in /robot[@name='panda']\n",
      "Unknown tag \"inertial\" in /robot[@name='panda']\n",
      "Unknown tag \"inertial\" in /robot[@name='panda']\n",
      "Unknown tag \"inertial\" in /robot[@name='panda']\n"
     ]
    },
    {
     "name": "stdout",
     "output_type": "stream",
     "text": [
      "🎁 Reward: 11.287056790565721\n",
      "Link with name world does not has a parent. Link name is skipped.\n",
      "Link with name world does not has a parent. Link name is skipped.\n",
      "🎁 Reward: 11.281680941774543\n",
      "Link with name world does not has a parent. Link name is skipped.\n",
      "Link with name world does not has a parent. Link name is skipped.\n",
      "🎁 Reward: 11.276397025505716\n",
      "Link with name world does not has a parent. Link name is skipped.\n",
      "Link with name world does not has a parent. Link name is skipped.\n"
     ]
    },
    {
     "name": "stderr",
     "output_type": "stream",
     "text": [
      "Unknown tag \"inertial\" in /robot[@name='panda']\n",
      "Unknown tag \"inertial\" in /robot[@name='panda']\n",
      "Unknown tag \"inertial\" in /robot[@name='panda']\n",
      "Unknown tag \"inertial\" in /robot[@name='panda']\n",
      "Unknown tag \"inertial\" in /robot[@name='panda']\n",
      "Unknown tag \"inertial\" in /robot[@name='panda']\n"
     ]
    },
    {
     "name": "stdout",
     "output_type": "stream",
     "text": [
      "🎁 Reward: 11.271165655945119\n",
      "Link with name world does not has a parent. Link name is skipped.\n",
      "Link with name world does not has a parent. Link name is skipped.\n",
      "🎁 Reward: 11.266001581133608\n",
      "Link with name world does not has a parent. Link name is skipped.\n",
      "Link with name world does not has a parent. Link name is skipped.\n",
      "🎁 Reward: 11.260903637861079\n",
      "Link with name world does not has a parent. Link name is skipped.\n",
      "Link with name world does not has a parent. Link name is skipped.\n",
      "🎁 Reward: 11.255869632919207\n"
     ]
    },
    {
     "name": "stderr",
     "output_type": "stream",
     "text": [
      "Unknown tag \"inertial\" in /robot[@name='panda']\n",
      "Unknown tag \"inertial\" in /robot[@name='panda']\n",
      "Unknown tag \"inertial\" in /robot[@name='panda']\n",
      "Unknown tag \"inertial\" in /robot[@name='panda']\n",
      "Unknown tag \"inertial\" in /robot[@name='panda']\n",
      "Unknown tag \"inertial\" in /robot[@name='panda']\n"
     ]
    },
    {
     "name": "stdout",
     "output_type": "stream",
     "text": [
      "Link with name world does not has a parent. Link name is skipped.\n",
      "Link with name world does not has a parent. Link name is skipped.\n",
      "🎁 Reward: 11.250915457676573\n",
      "Link with name world does not has a parent. Link name is skipped.\n",
      "Link with name world does not has a parent. Link name is skipped.\n",
      "🎁 Reward: 11.246013243175948\n",
      "Link with name world does not has a parent. Link name is skipped.\n",
      "Link with name world does not has a parent. Link name is skipped.\n",
      "🎁 Reward: 11.241173244507284\n"
     ]
    },
    {
     "name": "stderr",
     "output_type": "stream",
     "text": [
      "Unknown tag \"inertial\" in /robot[@name='panda']\n",
      "Unknown tag \"inertial\" in /robot[@name='panda']\n",
      "Unknown tag \"inertial\" in /robot[@name='panda']\n",
      "Unknown tag \"inertial\" in /robot[@name='panda']\n",
      "Unknown tag \"inertial\" in /robot[@name='panda']\n",
      "Unknown tag \"inertial\" in /robot[@name='panda']\n",
      "Unknown tag \"inertial\" in /robot[@name='panda']\n",
      "Unknown tag \"inertial\" in /robot[@name='panda']\n"
     ]
    },
    {
     "name": "stdout",
     "output_type": "stream",
     "text": [
      "Link with name world does not has a parent. Link name is skipped.\n",
      "Link with name world does not has a parent. Link name is skipped.\n",
      "🎁 Reward: 11.236392819883699\n",
      "Link with name world does not has a parent. Link name is skipped.\n",
      "Link with name world does not has a parent. Link name is skipped.\n",
      "🎁 Reward: 11.231682969312935\n",
      "Link with name world does not has a parent. Link name is skipped.\n",
      "Link with name world does not has a parent. Link name is skipped.\n",
      "🎁 Reward: 11.227024998271158\n"
     ]
    },
    {
     "name": "stderr",
     "output_type": "stream",
     "text": [
      "Unknown tag \"inertial\" in /robot[@name='panda']\n",
      "Unknown tag \"inertial\" in /robot[@name='panda']\n",
      "Unknown tag \"inertial\" in /robot[@name='panda']\n",
      "Unknown tag \"inertial\" in /robot[@name='panda']\n",
      "Unknown tag \"inertial\" in /robot[@name='panda']\n",
      "Unknown tag \"inertial\" in /robot[@name='panda']\n",
      "Unknown tag \"inertial\" in /robot[@name='panda']\n",
      "Unknown tag \"inertial\" in /robot[@name='panda']\n"
     ]
    },
    {
     "name": "stdout",
     "output_type": "stream",
     "text": [
      "Link with name world does not has a parent. Link name is skipped.\n",
      "Link with name world does not has a parent. Link name is skipped.\n",
      "🎁 Reward: 11.222423752072572\n",
      "Link with name world does not has a parent. Link name is skipped.\n",
      "Link with name world does not has a parent. Link name is skipped.\n",
      "🎁 Reward: 11.21788992356622\n",
      "Link with name world does not has a parent. Link name is skipped.\n",
      "Link with name world does not has a parent. Link name is skipped.\n",
      "🎁 Reward: 11.213406331232552\n",
      "Link with name world does not has a parent. Link name is skipped.\n",
      "Link with name world does not has a parent. Link name is skipped.\n",
      "🎁 Reward: 11.208977895692165\n",
      "Link with name world does not has a parent. Link name is skipped.\n",
      "Link with name world does not has a parent. Link name is skipped.\n",
      "🎁 Reward: 11.204612860094135\n",
      "Link with name world does not has a parent. Link name is skipped.\n",
      "Link with name world does not has a parent. Link name is skipped.\n"
     ]
    },
    {
     "name": "stderr",
     "output_type": "stream",
     "text": [
      "Unknown tag \"inertial\" in /robot[@name='panda']\n",
      "Unknown tag \"inertial\" in /robot[@name='panda']\n",
      "Unknown tag \"inertial\" in /robot[@name='panda']\n",
      "Unknown tag \"inertial\" in /robot[@name='panda']\n",
      "Unknown tag \"inertial\" in /robot[@name='panda']\n",
      "Unknown tag \"inertial\" in /robot[@name='panda']\n"
     ]
    },
    {
     "name": "stdout",
     "output_type": "stream",
     "text": [
      "🎁 Reward: 11.200296107286894\n",
      "Link with name world does not has a parent. Link name is skipped.\n",
      "Link with name world does not has a parent. Link name is skipped.\n",
      "🎁 Reward: 11.196031416235408\n",
      "Link with name world does not has a parent. Link name is skipped.\n",
      "Link with name world does not has a parent. Link name is skipped.\n",
      "🎁 Reward: 11.191827964479016\n",
      "Link with name world does not has a parent. Link name is skipped.\n",
      "Link with name world does not has a parent. Link name is skipped.\n",
      "🎁 Reward: 11.187670943372645\n"
     ]
    },
    {
     "name": "stderr",
     "output_type": "stream",
     "text": [
      "Unknown tag \"inertial\" in /robot[@name='panda']\n",
      "Unknown tag \"inertial\" in /robot[@name='panda']\n",
      "Unknown tag \"inertial\" in /robot[@name='panda']\n",
      "Unknown tag \"inertial\" in /robot[@name='panda']\n",
      "Unknown tag \"inertial\" in /robot[@name='panda']\n",
      "Unknown tag \"inertial\" in /robot[@name='panda']\n",
      "Unknown tag \"inertial\" in /robot[@name='panda']\n",
      "Unknown tag \"inertial\" in /robot[@name='panda']\n"
     ]
    },
    {
     "name": "stdout",
     "output_type": "stream",
     "text": [
      "Link with name world does not has a parent. Link name is skipped.\n",
      "Link with name world does not has a parent. Link name is skipped.\n",
      "🎁 Reward: 11.183063739918348\n",
      "Link with name world does not has a parent. Link name is skipped.\n",
      "Link with name world does not has a parent. Link name is skipped.\n",
      "🎁 Reward: 11.178347436908343\n",
      "Link with name world does not has a parent. Link name is skipped.\n",
      "Link with name world does not has a parent. Link name is skipped.\n",
      "🎁 Reward: 11.173767766319628\n"
     ]
    },
    {
     "name": "stderr",
     "output_type": "stream",
     "text": [
      "Unknown tag \"inertial\" in /robot[@name='panda']\n",
      "Unknown tag \"inertial\" in /robot[@name='panda']\n",
      "Unknown tag \"inertial\" in /robot[@name='panda']\n",
      "Unknown tag \"inertial\" in /robot[@name='panda']\n",
      "Unknown tag \"inertial\" in /robot[@name='panda']\n",
      "Unknown tag \"inertial\" in /robot[@name='panda']\n"
     ]
    },
    {
     "name": "stdout",
     "output_type": "stream",
     "text": [
      "Link with name world does not has a parent. Link name is skipped.\n",
      "Link with name world does not has a parent. Link name is skipped.\n",
      "🎁 Reward: 11.16953985270754\n",
      "Link with name world does not has a parent. Link name is skipped.\n",
      "Link with name world does not has a parent. Link name is skipped.\n",
      "🎁 Reward: 11.164978691480753\n",
      "Link with name world does not has a parent. Link name is skipped.\n",
      "Link with name world does not has a parent. Link name is skipped.\n",
      "🎁 Reward: 11.160140664664404\n",
      "Link with name world does not has a parent. Link name is skipped.\n",
      "Link with name world does not has a parent. Link name is skipped.\n"
     ]
    },
    {
     "name": "stderr",
     "output_type": "stream",
     "text": [
      "Unknown tag \"inertial\" in /robot[@name='panda']\n",
      "Unknown tag \"inertial\" in /robot[@name='panda']\n",
      "Unknown tag \"inertial\" in /robot[@name='panda']\n",
      "Unknown tag \"inertial\" in /robot[@name='panda']\n",
      "Unknown tag \"inertial\" in /robot[@name='panda']\n",
      "Unknown tag \"inertial\" in /robot[@name='panda']\n",
      "Unknown tag \"inertial\" in /robot[@name='panda']\n",
      "Unknown tag \"inertial\" in /robot[@name='panda']\n"
     ]
    },
    {
     "name": "stdout",
     "output_type": "stream",
     "text": [
      "🎁 Reward: 11.155372710744032\n",
      "Link with name world does not has a parent. Link name is skipped.\n",
      "Link with name world does not has a parent. Link name is skipped.\n",
      "🎁 Reward: 11.15077249193442\n",
      "Link with name world does not has a parent. Link name is skipped.\n",
      "Link with name world does not has a parent. Link name is skipped.\n",
      "🎁 Reward: 11.146669248170356\n",
      "Link with name world does not has a parent. Link name is skipped.\n",
      "Link with name world does not has a parent. Link name is skipped.\n"
     ]
    },
    {
     "name": "stderr",
     "output_type": "stream",
     "text": [
      "Unknown tag \"inertial\" in /robot[@name='panda']\n",
      "Unknown tag \"inertial\" in /robot[@name='panda']\n",
      "Unknown tag \"inertial\" in /robot[@name='panda']\n",
      "Unknown tag \"inertial\" in /robot[@name='panda']\n",
      "Unknown tag \"inertial\" in /robot[@name='panda']\n",
      "Unknown tag \"inertial\" in /robot[@name='panda']\n"
     ]
    },
    {
     "name": "stdout",
     "output_type": "stream",
     "text": [
      "🎁 Reward: 11.142575101455105\n",
      "Link with name world does not has a parent. Link name is skipped.\n",
      "Link with name world does not has a parent. Link name is skipped.\n",
      "🎁 Reward: 11.138500491972588\n",
      "Link with name world does not has a parent. Link name is skipped.\n",
      "Link with name world does not has a parent. Link name is skipped.\n",
      "🎁 Reward: 11.134448659921892\n",
      "Link with name world does not has a parent. Link name is skipped.\n",
      "Link with name world does not has a parent. Link name is skipped.\n",
      "🎁 Reward: 11.130424212897603\n"
     ]
    },
    {
     "name": "stderr",
     "output_type": "stream",
     "text": [
      "Unknown tag \"inertial\" in /robot[@name='panda']\n",
      "Unknown tag \"inertial\" in /robot[@name='panda']\n",
      "Unknown tag \"inertial\" in /robot[@name='panda']\n",
      "Unknown tag \"inertial\" in /robot[@name='panda']\n",
      "Unknown tag \"inertial\" in /robot[@name='panda']\n",
      "Unknown tag \"inertial\" in /robot[@name='panda']\n",
      "Unknown tag \"inertial\" in /robot[@name='panda']\n",
      "Unknown tag \"inertial\" in /robot[@name='panda']\n"
     ]
    },
    {
     "name": "stdout",
     "output_type": "stream",
     "text": [
      "Link with name world does not has a parent. Link name is skipped.\n",
      "Link with name world does not has a parent. Link name is skipped.\n",
      "🎁 Reward: 11.126431161557587\n",
      "Link with name world does not has a parent. Link name is skipped.\n",
      "Link with name world does not has a parent. Link name is skipped.\n",
      "🎁 Reward: 11.122331823419923\n",
      "Link with name world does not has a parent. Link name is skipped.\n",
      "Link with name world does not has a parent. Link name is skipped.\n",
      "🎁 Reward: 11.118289158657705\n"
     ]
    },
    {
     "name": "stderr",
     "output_type": "stream",
     "text": [
      "Unknown tag \"inertial\" in /robot[@name='panda']\n",
      "Unknown tag \"inertial\" in /robot[@name='panda']\n",
      "Unknown tag \"inertial\" in /robot[@name='panda']\n",
      "Unknown tag \"inertial\" in /robot[@name='panda']\n",
      "Unknown tag \"inertial\" in /robot[@name='panda']\n",
      "Unknown tag \"inertial\" in /robot[@name='panda']\n"
     ]
    },
    {
     "name": "stdout",
     "output_type": "stream",
     "text": [
      "Link with name world does not has a parent. Link name is skipped.\n",
      "Link with name world does not has a parent. Link name is skipped.\n",
      "🎁 Reward: 11.114306258748634\n",
      "Link with name world does not has a parent. Link name is skipped.\n",
      "Link with name world does not has a parent. Link name is skipped.\n",
      "🎁 Reward: 11.110419924357133\n",
      "Link with name world does not has a parent. Link name is skipped.\n",
      "Link with name world does not has a parent. Link name is skipped.\n",
      "🎁 Reward: 11.106589128107075\n",
      "Link with name world does not has a parent. Link name is skipped.\n",
      "Link with name world does not has a parent. Link name is skipped.\n",
      "🎁 Reward: 11.10282221928696\n"
     ]
    },
    {
     "name": "stderr",
     "output_type": "stream",
     "text": [
      "Unknown tag \"inertial\" in /robot[@name='panda']\n",
      "Unknown tag \"inertial\" in /robot[@name='panda']\n",
      "Unknown tag \"inertial\" in /robot[@name='panda']\n",
      "Unknown tag \"inertial\" in /robot[@name='panda']\n",
      "Unknown tag \"inertial\" in /robot[@name='panda']\n",
      "Unknown tag \"inertial\" in /robot[@name='panda']\n",
      "Unknown tag \"inertial\" in /robot[@name='panda']\n",
      "Unknown tag \"inertial\" in /robot[@name='panda']\n"
     ]
    },
    {
     "name": "stdout",
     "output_type": "stream",
     "text": [
      "Link with name world does not has a parent. Link name is skipped.\n",
      "Link with name world does not has a parent. Link name is skipped.\n",
      "🎁 Reward: 11.099128559871607\n",
      "Link with name world does not has a parent. Link name is skipped.\n",
      "Link with name world does not has a parent. Link name is skipped.\n",
      "🎁 Reward: 11.095492324894584\n",
      "Link with name world does not has a parent. Link name is skipped.\n",
      "Link with name world does not has a parent. Link name is skipped.\n",
      "🎁 Reward: 11.09191299023457\n"
     ]
    },
    {
     "name": "stderr",
     "output_type": "stream",
     "text": [
      "Unknown tag \"inertial\" in /robot[@name='panda']\n",
      "Unknown tag \"inertial\" in /robot[@name='panda']\n",
      "Unknown tag \"inertial\" in /robot[@name='panda']\n",
      "Unknown tag \"inertial\" in /robot[@name='panda']\n",
      "Unknown tag \"inertial\" in /robot[@name='panda']\n",
      "Unknown tag \"inertial\" in /robot[@name='panda']\n"
     ]
    },
    {
     "name": "stdout",
     "output_type": "stream",
     "text": [
      "Link with name world does not has a parent. Link name is skipped.\n",
      "Link with name world does not has a parent. Link name is skipped.\n",
      "🎁 Reward: 11.088390328957564\n",
      "Link with name world does not has a parent. Link name is skipped.\n",
      "Link with name world does not has a parent. Link name is skipped.\n",
      "🎁 Reward: 11.084924690437148\n",
      "Link with name world does not has a parent. Link name is skipped.\n",
      "Link with name world does not has a parent. Link name is skipped.\n",
      "🎁 Reward: 11.081516423898563\n"
     ]
    },
    {
     "name": "stderr",
     "output_type": "stream",
     "text": [
      "Unknown tag \"inertial\" in /robot[@name='panda']\n",
      "Unknown tag \"inertial\" in /robot[@name='panda']\n",
      "Unknown tag \"inertial\" in /robot[@name='panda']\n",
      "Unknown tag \"inertial\" in /robot[@name='panda']\n",
      "Unknown tag \"inertial\" in /robot[@name='panda']\n",
      "Unknown tag \"inertial\" in /robot[@name='panda']\n"
     ]
    },
    {
     "name": "stdout",
     "output_type": "stream",
     "text": [
      "Link with name world does not has a parent. Link name is skipped.\n",
      "Link with name world does not has a parent. Link name is skipped.\n",
      "🎁 Reward: 11.078169437475454\n",
      "Link with name world does not has a parent. Link name is skipped.\n",
      "Link with name world does not has a parent. Link name is skipped.\n",
      "🎁 Reward: 11.074884553440622\n",
      "Link with name world does not has a parent. Link name is skipped.\n",
      "Link with name world does not has a parent. Link name is skipped.\n",
      "🎁 Reward: 11.071664539590017\n"
     ]
    },
    {
     "name": "stderr",
     "output_type": "stream",
     "text": [
      "Unknown tag \"inertial\" in /robot[@name='panda']\n",
      "Unknown tag \"inertial\" in /robot[@name='panda']\n",
      "Unknown tag \"inertial\" in /robot[@name='panda']\n",
      "Unknown tag \"inertial\" in /robot[@name='panda']\n",
      "Unknown tag \"inertial\" in /robot[@name='panda']\n",
      "Unknown tag \"inertial\" in /robot[@name='panda']\n",
      "Unknown tag \"inertial\" in /robot[@name='panda']\n",
      "Unknown tag \"inertial\" in /robot[@name='panda']\n"
     ]
    },
    {
     "name": "stdout",
     "output_type": "stream",
     "text": [
      "Link with name world does not has a parent. Link name is skipped.\n",
      "Link with name world does not has a parent. Link name is skipped.\n",
      "🎁 Reward: 11.068600047635698\n",
      "Link with name world does not has a parent. Link name is skipped.\n",
      "Link with name world does not has a parent. Link name is skipped.\n",
      "🎁 Reward: 11.065804763141456\n",
      "Link with name world does not has a parent. Link name is skipped.\n",
      "Link with name world does not has a parent. Link name is skipped.\n",
      "🎁 Reward: 11.062943422642524\n"
     ]
    },
    {
     "name": "stderr",
     "output_type": "stream",
     "text": [
      "Unknown tag \"inertial\" in /robot[@name='panda']\n",
      "Unknown tag \"inertial\" in /robot[@name='panda']\n",
      "Unknown tag \"inertial\" in /robot[@name='panda']\n",
      "Unknown tag \"inertial\" in /robot[@name='panda']\n",
      "Unknown tag \"inertial\" in /robot[@name='panda']\n",
      "Unknown tag \"inertial\" in /robot[@name='panda']\n",
      "Unknown tag \"inertial\" in /robot[@name='panda']\n",
      "Unknown tag \"inertial\" in /robot[@name='panda']\n"
     ]
    },
    {
     "name": "stdout",
     "output_type": "stream",
     "text": [
      "Link with name world does not has a parent. Link name is skipped.\n",
      "Link with name world does not has a parent. Link name is skipped.\n",
      "🎁 Reward: 11.060169415489154\n",
      "Link with name world does not has a parent. Link name is skipped.\n",
      "Link with name world does not has a parent. Link name is skipped.\n",
      "🎁 Reward: 11.057507583242588\n",
      "Link with name world does not has a parent. Link name is skipped.\n",
      "Link with name world does not has a parent. Link name is skipped.\n",
      "🎁 Reward: 11.054965246695422\n",
      "Link with name world does not has a parent. Link name is skipped.\n",
      "Link with name world does not has a parent. Link name is skipped.\n",
      "🎁 Reward: 11.052537554092224\n"
     ]
    },
    {
     "name": "stderr",
     "output_type": "stream",
     "text": [
      "Unknown tag \"inertial\" in /robot[@name='panda']\n",
      "Unknown tag \"inertial\" in /robot[@name='panda']\n",
      "Unknown tag \"inertial\" in /robot[@name='panda']\n",
      "Unknown tag \"inertial\" in /robot[@name='panda']\n",
      "Unknown tag \"inertial\" in /robot[@name='panda']\n",
      "Unknown tag \"inertial\" in /robot[@name='panda']\n",
      "Unknown tag \"inertial\" in /robot[@name='panda']\n",
      "Unknown tag \"inertial\" in /robot[@name='panda']\n"
     ]
    },
    {
     "name": "stdout",
     "output_type": "stream",
     "text": [
      "Link with name world does not has a parent. Link name is skipped.\n",
      "Link with name world does not has a parent. Link name is skipped.\n",
      "🎁 Reward: 11.050389496052423\n",
      "Link with name world does not has a parent. Link name is skipped.\n",
      "Link with name world does not has a parent. Link name is skipped.\n",
      "🎁 Reward: 11.04860104212929\n",
      "Link with name world does not has a parent. Link name is skipped.\n",
      "Link with name world does not has a parent. Link name is skipped.\n",
      "🎁 Reward: 11.04690593641005\n",
      "Link with name world does not has a parent. Link name is skipped.\n",
      "Link with name world does not has a parent. Link name is skipped.\n",
      "🎁 Reward: 11.045242512700861\n"
     ]
    },
    {
     "name": "stderr",
     "output_type": "stream",
     "text": [
      "Unknown tag \"inertial\" in /robot[@name='panda']\n",
      "Unknown tag \"inertial\" in /robot[@name='panda']\n",
      "Unknown tag \"inertial\" in /robot[@name='panda']\n",
      "Unknown tag \"inertial\" in /robot[@name='panda']\n",
      "Unknown tag \"inertial\" in /robot[@name='panda']\n",
      "Unknown tag \"inertial\" in /robot[@name='panda']\n",
      "Unknown tag \"inertial\" in /robot[@name='panda']\n",
      "Unknown tag \"inertial\" in /robot[@name='panda']\n"
     ]
    },
    {
     "name": "stdout",
     "output_type": "stream",
     "text": [
      "Link with name world does not has a parent. Link name is skipped.\n",
      "Link with name world does not has a parent. Link name is skipped.\n",
      "🎁 Reward: 11.043628739440301\n",
      "Link with name world does not has a parent. Link name is skipped.\n",
      "Link with name world does not has a parent. Link name is skipped.\n",
      "🎁 Reward: 11.042078158693183\n",
      "Link with name world does not has a parent. Link name is skipped.\n",
      "Link with name world does not has a parent. Link name is skipped.\n",
      "🎁 Reward: 11.04035100252238\n",
      "Link with name world does not has a parent. Link name is skipped.\n",
      "Link with name world does not has a parent. Link name is skipped.\n",
      "🎁 Reward: 11.038574694019301\n"
     ]
    },
    {
     "name": "stderr",
     "output_type": "stream",
     "text": [
      "Unknown tag \"inertial\" in /robot[@name='panda']\n",
      "Unknown tag \"inertial\" in /robot[@name='panda']\n",
      "Unknown tag \"inertial\" in /robot[@name='panda']\n",
      "Unknown tag \"inertial\" in /robot[@name='panda']\n",
      "Unknown tag \"inertial\" in /robot[@name='panda']\n",
      "Unknown tag \"inertial\" in /robot[@name='panda']\n"
     ]
    },
    {
     "name": "stdout",
     "output_type": "stream",
     "text": [
      "Link with name world does not has a parent. Link name is skipped.\n",
      "Link with name world does not has a parent. Link name is skipped.\n",
      "🎁 Reward: 11.036474257141617\n",
      "Link with name world does not has a parent. Link name is skipped.\n",
      "Link with name world does not has a parent. Link name is skipped.\n",
      "🎁 Reward: 11.034194966471734\n",
      "Link with name world does not has a parent. Link name is skipped.\n",
      "Link with name world does not has a parent. Link name is skipped.\n",
      "🎁 Reward: 11.032134846429141\n"
     ]
    },
    {
     "name": "stderr",
     "output_type": "stream",
     "text": [
      "Unknown tag \"inertial\" in /robot[@name='panda']\n",
      "Unknown tag \"inertial\" in /robot[@name='panda']\n",
      "Unknown tag \"inertial\" in /robot[@name='panda']\n",
      "Unknown tag \"inertial\" in /robot[@name='panda']\n",
      "Unknown tag \"inertial\" in /robot[@name='panda']\n",
      "Unknown tag \"inertial\" in /robot[@name='panda']\n"
     ]
    },
    {
     "name": "stdout",
     "output_type": "stream",
     "text": [
      "Link with name world does not has a parent. Link name is skipped.\n",
      "Link with name world does not has a parent. Link name is skipped.\n",
      "🎁 Reward: 11.029754607791952\n",
      "Link with name world does not has a parent. Link name is skipped.\n",
      "Link with name world does not has a parent. Link name is skipped.\n",
      "🎁 Reward: 11.02717476511217\n",
      "Link with name world does not has a parent. Link name is skipped.\n",
      "Link with name world does not has a parent. Link name is skipped.\n",
      "🎁 Reward: 11.024928130464328\n"
     ]
    },
    {
     "name": "stderr",
     "output_type": "stream",
     "text": [
      "Unknown tag \"inertial\" in /robot[@name='panda']\n",
      "Unknown tag \"inertial\" in /robot[@name='panda']\n",
      "Unknown tag \"inertial\" in /robot[@name='panda']\n",
      "Unknown tag \"inertial\" in /robot[@name='panda']\n",
      "Unknown tag \"inertial\" in /robot[@name='panda']\n",
      "Unknown tag \"inertial\" in /robot[@name='panda']\n",
      "Unknown tag \"inertial\" in /robot[@name='panda']\n",
      "Unknown tag \"inertial\" in /robot[@name='panda']\n"
     ]
    },
    {
     "name": "stdout",
     "output_type": "stream",
     "text": [
      "Link with name world does not has a parent. Link name is skipped.\n",
      "Link with name world does not has a parent. Link name is skipped.\n",
      "🎁 Reward: 11.022843757828856\n",
      "Link with name world does not has a parent. Link name is skipped.\n",
      "Link with name world does not has a parent. Link name is skipped.\n",
      "🎁 Reward: 11.020796504497472\n",
      "Link with name world does not has a parent. Link name is skipped.\n",
      "Link with name world does not has a parent. Link name is skipped.\n",
      "🎁 Reward: 11.0185038930434\n",
      "Link with name world does not has a parent. Link name is skipped.\n",
      "Link with name world does not has a parent. Link name is skipped.\n",
      "🎁 Reward: 11.016211843700518\n"
     ]
    },
    {
     "name": "stderr",
     "output_type": "stream",
     "text": [
      "Unknown tag \"inertial\" in /robot[@name='panda']\n",
      "Unknown tag \"inertial\" in /robot[@name='panda']\n",
      "Unknown tag \"inertial\" in /robot[@name='panda']\n",
      "Unknown tag \"inertial\" in /robot[@name='panda']\n",
      "Unknown tag \"inertial\" in /robot[@name='panda']\n",
      "Unknown tag \"inertial\" in /robot[@name='panda']\n"
     ]
    },
    {
     "name": "stdout",
     "output_type": "stream",
     "text": [
      "Link with name world does not has a parent. Link name is skipped.\n",
      "Link with name world does not has a parent. Link name is skipped.\n",
      "🎁 Reward: 11.013918833342506\n",
      "Link with name world does not has a parent. Link name is skipped.\n",
      "Link with name world does not has a parent. Link name is skipped.\n",
      "🎁 Reward: 11.011596794404456\n",
      "Link with name world does not has a parent. Link name is skipped.\n",
      "Link with name world does not has a parent. Link name is skipped.\n",
      "🎁 Reward: 11.009182100297862\n"
     ]
    },
    {
     "name": "stderr",
     "output_type": "stream",
     "text": [
      "Unknown tag \"inertial\" in /robot[@name='panda']\n",
      "Unknown tag \"inertial\" in /robot[@name='panda']\n",
      "Unknown tag \"inertial\" in /robot[@name='panda']\n",
      "Unknown tag \"inertial\" in /robot[@name='panda']\n",
      "Unknown tag \"inertial\" in /robot[@name='panda']\n",
      "Unknown tag \"inertial\" in /robot[@name='panda']\n"
     ]
    },
    {
     "name": "stdout",
     "output_type": "stream",
     "text": [
      "Link with name world does not has a parent. Link name is skipped.\n",
      "Link with name world does not has a parent. Link name is skipped.\n",
      "🎁 Reward: 11.006947821241827\n",
      "Link with name world does not has a parent. Link name is skipped.\n",
      "Link with name world does not has a parent. Link name is skipped.\n",
      "🎁 Reward: 11.004669705278577\n",
      "Link with name world does not has a parent. Link name is skipped.\n",
      "Link with name world does not has a parent. Link name is skipped.\n",
      "🎁 Reward: 11.002270941239777\n"
     ]
    },
    {
     "name": "stderr",
     "output_type": "stream",
     "text": [
      "Unknown tag \"inertial\" in /robot[@name='panda']\n",
      "Unknown tag \"inertial\" in /robot[@name='panda']\n",
      "Unknown tag \"inertial\" in /robot[@name='panda']\n",
      "Unknown tag \"inertial\" in /robot[@name='panda']\n",
      "Unknown tag \"inertial\" in /robot[@name='panda']\n",
      "Unknown tag \"inertial\" in /robot[@name='panda']\n"
     ]
    },
    {
     "name": "stdout",
     "output_type": "stream",
     "text": [
      "Link with name world does not has a parent. Link name is skipped.\n",
      "Link with name world does not has a parent. Link name is skipped.\n",
      "🎁 Reward: 10.999927245014934\n",
      "Link with name world does not has a parent. Link name is skipped.\n",
      "Link with name world does not has a parent. Link name is skipped.\n",
      "🎁 Reward: 10.997669686669482\n",
      "Link with name world does not has a parent. Link name is skipped.\n",
      "Link with name world does not has a parent. Link name is skipped.\n",
      "🎁 Reward: 10.995452684793975\n"
     ]
    },
    {
     "name": "stderr",
     "output_type": "stream",
     "text": [
      "Unknown tag \"inertial\" in /robot[@name='panda']\n",
      "Unknown tag \"inertial\" in /robot[@name='panda']\n",
      "Unknown tag \"inertial\" in /robot[@name='panda']\n",
      "Unknown tag \"inertial\" in /robot[@name='panda']\n",
      "Unknown tag \"inertial\" in /robot[@name='panda']\n",
      "Unknown tag \"inertial\" in /robot[@name='panda']\n"
     ]
    },
    {
     "name": "stdout",
     "output_type": "stream",
     "text": [
      "Link with name world does not has a parent. Link name is skipped.\n",
      "Link with name world does not has a parent. Link name is skipped.\n",
      "🎁 Reward: 10.993239259530924\n",
      "Link with name world does not has a parent. Link name is skipped.\n",
      "Link with name world does not has a parent. Link name is skipped.\n",
      "🎁 Reward: 10.991073478786834\n",
      "Link with name world does not has a parent. Link name is skipped.\n",
      "Link with name world does not has a parent. Link name is skipped.\n",
      "🎁 Reward: 10.988877674971517\n"
     ]
    },
    {
     "name": "stderr",
     "output_type": "stream",
     "text": [
      "Unknown tag \"inertial\" in /robot[@name='panda']\n",
      "Unknown tag \"inertial\" in /robot[@name='panda']\n",
      "Unknown tag \"inertial\" in /robot[@name='panda']\n",
      "Unknown tag \"inertial\" in /robot[@name='panda']\n",
      "Unknown tag \"inertial\" in /robot[@name='panda']\n",
      "Unknown tag \"inertial\" in /robot[@name='panda']\n"
     ]
    },
    {
     "name": "stdout",
     "output_type": "stream",
     "text": [
      "Link with name world does not has a parent. Link name is skipped.\n",
      "Link with name world does not has a parent. Link name is skipped.\n",
      "🎁 Reward: 10.986710537589705\n",
      "Link with name world does not has a parent. Link name is skipped.\n",
      "Link with name world does not has a parent. Link name is skipped.\n",
      "🎁 Reward: 10.984575765844026\n",
      "Link with name world does not has a parent. Link name is skipped.\n",
      "Link with name world does not has a parent. Link name is skipped.\n"
     ]
    }
   ],
   "source": [
    "import numpy as np\n",
    "\n",
    "env.reset()\n",
    "while True:\n",
    "    action = env.action_space.sample()\n",
    "    action = np.array([ 1, 1 , 0,  1,  0,\n",
    "       0, 0 , 1, 0], dtype=np.float32)\n",
    "    obs, reward, done, truncated, info = env.step(action)\n"
   ]
  }
 ],
 "metadata": {
  "kernelspec": {
   "display_name": "SB3",
   "language": "python",
   "name": "python3"
  },
  "language_info": {
   "codemirror_mode": {
    "name": "ipython",
    "version": 3
   },
   "file_extension": ".py",
   "mimetype": "text/x-python",
   "name": "python",
   "nbconvert_exporter": "python",
   "pygments_lexer": "ipython3",
   "version": "3.9.13"
  },
  "orig_nbformat": 4
 },
 "nbformat": 4,
 "nbformat_minor": 2
}
