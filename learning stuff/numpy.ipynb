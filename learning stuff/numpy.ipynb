{
 "cells": [
  {
   "cell_type": "code",
   "execution_count": 2,
   "metadata": {},
   "outputs": [],
   "source": [
    "import numpy as np"
   ]
  },
  {
   "cell_type": "code",
   "execution_count": 3,
   "metadata": {},
   "outputs": [
    {
     "name": "stdout",
     "output_type": "stream",
     "text": [
      "[[1 2 3]\n",
      " [4 5 6]]\n",
      "[[1]\n",
      " [4]]\n"
     ]
    }
   ],
   "source": [
    "a = np.array([[1, 2, 3], [4, 5, 6], [7, 8, 9], [10, 11, 12]], dtype=int)\n",
    "print(a[0:2]) # Indexing\n",
    "print(a[0:2, 0:1]) # Slicing"
   ]
  },
  {
   "cell_type": "code",
   "execution_count": 4,
   "metadata": {},
   "outputs": [],
   "source": [
    "# a.shape = (1, 9)\n",
    "# print(a)"
   ]
  },
  {
   "cell_type": "code",
   "execution_count": 5,
   "metadata": {},
   "outputs": [
    {
     "data": {
      "text/plain": [
       "array([[            33452368,                    0,             34041184],\n",
       "       [-4475418130700891784,      140004050966320,             34045200],\n",
       "       [-2572916757574923365,      140004050985648,                   80]])"
      ]
     },
     "execution_count": 5,
     "metadata": {},
     "output_type": "execute_result"
    }
   ],
   "source": [
    "np.empty((3, 3), dtype=int) # Creates a 3x3 array of random integers"
   ]
  },
  {
   "cell_type": "code",
   "execution_count": 6,
   "metadata": {},
   "outputs": [
    {
     "name": "stdout",
     "output_type": "stream",
     "text": [
      "[ 0  1  2  3  4  5  6  7  8  9 10 11 12 13 14 15 16 17 18 19 20 21 22 23]\n"
     ]
    }
   ],
   "source": [
    "b = np.arange(24)\n",
    "print(b)"
   ]
  },
  {
   "cell_type": "code",
   "execution_count": 7,
   "metadata": {},
   "outputs": [
    {
     "data": {
      "text/plain": [
       "array([ 2.   ,  3.875,  5.75 ,  7.625,  9.5  , 11.375, 13.25 , 15.125,\n",
       "       17.   , 18.875, 20.75 , 22.625, 24.5  , 26.375, 28.25 , 30.125,\n",
       "       32.   ])"
      ]
     },
     "execution_count": 7,
     "metadata": {},
     "output_type": "execute_result"
    }
   ],
   "source": [
    "np.linspace(2, 32, 17) # Creates an array of 17 evenly spaced numbers between 2 and 32"
   ]
  },
  {
   "cell_type": "code",
   "execution_count": 8,
   "metadata": {},
   "outputs": [
    {
     "name": "stdout",
     "output_type": "stream",
     "text": [
      "[[                   0             44065392      140004045461968]\n",
      " [-8140523367342386326      140004045462112      140004046341504]\n",
      " [-4285249164764996544                   80      140004046341424]]\n"
     ]
    }
   ],
   "source": [
    "c = np.empty((3, 3), dtype=int)\n",
    "c.sort()\n",
    "print(c)"
   ]
  },
  {
   "cell_type": "code",
   "execution_count": 9,
   "metadata": {},
   "outputs": [
    {
     "name": "stdout",
     "output_type": "stream",
     "text": [
      "[1 2 3 4 5 6 7 8]\n"
     ]
    }
   ],
   "source": [
    "a = np.array([1, 2, 3, 4])\n",
    "b = np.array([5, 6, 7, 8])\n",
    "print(np.concatenate((a, b))) # Concatenates two arrays"
   ]
  },
  {
   "cell_type": "code",
   "execution_count": 10,
   "metadata": {},
   "outputs": [],
   "source": [
    "# print(b.reshape(3, 8))"
   ]
  },
  {
   "cell_type": "code",
   "execution_count": 11,
   "metadata": {},
   "outputs": [
    {
     "name": "stdout",
     "output_type": "stream",
     "text": [
      "Before: [1 2 3 4 5 6] with shape: (6,)\n",
      "After: [[1 2 3 4 5 6]] with shape: (1, 6)\n"
     ]
    }
   ],
   "source": [
    "a = np.array([1, 2, 3, 4, 5, 6])\n",
    "print(f'Before: {a} with shape: {a.shape}')\n",
    "a2 = a[np.newaxis, :] # Adds a new axis\n",
    "print(f'After: {a2} with shape: {a2.shape}')\n"
   ]
  },
  {
   "cell_type": "code",
   "execution_count": 12,
   "metadata": {},
   "outputs": [
    {
     "name": "stdout",
     "output_type": "stream",
     "text": [
      "[51 52 53 54 55 56 57 58 59 60 61 62 63 64 65 66 67 68 69]\n"
     ]
    }
   ],
   "source": [
    "sample = np.arange(100)\n",
    "print(sample[(sample>50) & (sample<70)])"
   ]
  },
  {
   "cell_type": "code",
   "execution_count": 13,
   "metadata": {},
   "outputs": [
    {
     "data": {
      "text/plain": [
       "array([[0.52148215, 0.394907  , 0.53333937],\n",
       "       [0.35875577, 0.14048689, 0.97146367],\n",
       "       [0.2669074 , 0.91765505, 0.41089116]])"
      ]
     },
     "execution_count": 13,
     "metadata": {},
     "output_type": "execute_result"
    }
   ],
   "source": [
    "np.random.default_rng().random((3, 3)) # Creates a 3x3 array of random numbers"
   ]
  },
  {
   "cell_type": "code",
   "execution_count": 14,
   "metadata": {},
   "outputs": [
    {
     "name": "stdout",
     "output_type": "stream",
     "text": [
      "[-0.41918488  0.38595725 -0.61764116 -2.28489586  0.66513571  0.11217201\n",
      " -1.3765787  -3.81069597 -0.89202743]\n",
      "[-0.41918488  0.38595725 -0.61764116 -2.28489586  0.66513571  0.11217201\n",
      " -1.3765787  -3.81069597 -0.89202743]\n",
      "[[-0.41918488  0.38595725 -0.61764116]\n",
      " [-2.28489586  0.66513571  0.11217201]\n",
      " [-1.3765787  -3.81069597 -0.89202743]]\n"
     ]
    }
   ],
   "source": [
    "x = np.random.randn(3, 3) # Creates a 3x3 array of random numbers with normal distribution\n",
    "print(x.flatten()) # Flattens the array\n",
    "print(x.ravel()) # Flattens the array, but doesn't remove the reference to the original array\n",
    "print(x)"
   ]
  },
  {
   "cell_type": "code",
   "execution_count": 15,
   "metadata": {},
   "outputs": [
    {
     "name": "stdout",
     "output_type": "stream",
     "text": [
      "[11 12 13 14 15 16 17 18 19 20]\n"
     ]
    }
   ],
   "source": [
    "a = np.array([11, 11, 12, 13, 14, 15, 16, 17, 12, 13, 11, 14, 18, 19, 20])\n",
    "print(np.unique(a)) # Returns the unique elements of an array. (Removes repatative elements)"
   ]
  },
  {
   "cell_type": "code",
   "execution_count": 16,
   "metadata": {},
   "outputs": [
    {
     "name": "stdout",
     "output_type": "stream",
     "text": [
      "[ True  True  True  True  True  True]\n"
     ]
    }
   ],
   "source": [
    "a = np.array([1, 2, 3, 4, 5, 6])\n",
    "print(np.flip(a) == a[::-1])"
   ]
  },
  {
   "cell_type": "code",
   "execution_count": 17,
   "metadata": {},
   "outputs": [
    {
     "name": "stderr",
     "output_type": "stream",
     "text": [
      "/tmp/ipykernel_339/1277898651.py:1: VisibleDeprecationWarning: Creating an ndarray from ragged nested sequences (which is a list-or-tuple of lists-or-tuples-or ndarrays with different lengths or shapes) is deprecated. If you meant to do this, you must specify 'dtype=object' when creating the ndarray.\n",
      "  fk = np.array([[[ 8.46185607e-02, 9.96004954e-01, 2.85277144e-02, 8.51759965e-02],\n"
     ]
    }
   ],
   "source": [
    "fk = np.array([[[ 8.46185607e-02, 9.96004954e-01, 2.85277144e-02, 8.51759965e-02], \n",
    " [ 2.35438658e-03, 2.84304598e-02 -9.99593000e-01, 2.45003129e-03], \n",
    " [-9.96410636e-01, 8.46512863e-02, 6.07638895e-05, 6.48279712e-01], \n",
    " [ 0.00000000e+00, 0.00000000e+00, 0.00000000e+00, 1.00000000e+00], ]])"
   ]
  },
  {
   "cell_type": "code",
   "execution_count": 18,
   "metadata": {},
   "outputs": [
    {
     "data": {
      "text/plain": [
       "array([[list([0.0846185607, 0.996004954, 0.0285277144, 0.0851759965]),\n",
       "        list([0.00235438658, -0.9711625401999999, 0.00245003129]),\n",
       "        list([-0.996410636, 0.0846512863, 6.07638895e-05, 0.648279712]),\n",
       "        list([0.0, 0.0, 0.0, 1.0])]], dtype=object)"
      ]
     },
     "execution_count": 18,
     "metadata": {},
     "output_type": "execute_result"
    }
   ],
   "source": [
    "fk\n",
    "# position = np.array([fk[0][3], fk[1][3], fk[2][3]])"
   ]
  },
  {
   "cell_type": "code",
   "execution_count": 19,
   "metadata": {},
   "outputs": [
    {
     "data": {
      "text/plain": [
       "4"
      ]
     },
     "execution_count": 19,
     "metadata": {},
     "output_type": "execute_result"
    }
   ],
   "source": [
    "np.array([[[[]]]]).ndim # In numpy, dimensions are called axes. The number of axes is rank. The shape of an array is a tuple of integers giving the size of the array along each axis."
   ]
  },
  {
   "cell_type": "code",
   "execution_count": 20,
   "metadata": {},
   "outputs": [
    {
     "data": {
      "text/plain": [
       "array([[[       35286096,               0, 140003994405104],\n",
       "        [140004066764336, 140003994405040, 140004066764336]],\n",
       "\n",
       "       [[140003994404976, 140004066764336, 140003994404784],\n",
       "        [140004066764336, 140003994404912, 140004066764336]],\n",
       "\n",
       "       [[140003994404848, 140004066764336, 140003994404656],\n",
       "        [140004066764336, 140003994404720, 140004066764336]],\n",
       "\n",
       "       [[140003994404592, 140003994403568, 140004068542064],\n",
       "        [140004066764336, 140004068542064, 140003994404400]],\n",
       "\n",
       "       [[140004068542064, 140004066764336, 140004068542064],\n",
       "        [140003994403824, 140004068542064, 140004066764336]]])"
      ]
     },
     "execution_count": 20,
     "metadata": {},
     "output_type": "execute_result"
    }
   ],
   "source": [
    "np.empty(((5, 2, 3)), dtype=int) # Creates a 5x2x3 array of random integers"
   ]
  },
  {
   "cell_type": "code",
   "execution_count": 21,
   "metadata": {},
   "outputs": [
    {
     "name": "stdout",
     "output_type": "stream",
     "text": [
      "array: [1 2 3], shape: (3,),  ndim: 1\n",
      "array: [[1]\n",
      " [2]\n",
      " [3]], shape: (3, 1),  ndim: 2\n",
      "array: [[[1]]\n",
      "\n",
      " [[2]]\n",
      "\n",
      " [[3]]], shape: (3, 1, 1),  ndim: 3\n",
      "array: [[[[1]]]\n",
      "\n",
      "\n",
      " [[[2]]]\n",
      "\n",
      "\n",
      " [[[3]]]], shape: (3, 1, 1, 1),  ndim: 4\n"
     ]
    }
   ],
   "source": [
    "a = np.array([1, 2, 3])\n",
    "print(f\"array: {a}, shape: {a.shape},  ndim: {a.ndim}\")\n",
    "\n",
    "a = a[:, np.newaxis]\n",
    "print(f\"array: {a}, shape: {a.shape},  ndim: {a.ndim}\")\n",
    "\n",
    "a = a[:, np.newaxis]\n",
    "print(f\"array: {a}, shape: {a.shape},  ndim: {a.ndim}\")\n",
    "\n",
    "a = a[:, np.newaxis]\n",
    "print(f\"array: {a}, shape: {a.shape},  ndim: {a.ndim}\")"
   ]
  },
  {
   "cell_type": "code",
   "execution_count": 22,
   "metadata": {},
   "outputs": [
    {
     "name": "stdout",
     "output_type": "stream",
     "text": [
      "[ 0  1  2  3  4  5  6  7  8  9 10 11 12 13 14 15 16 17 18 19 20 21 22 23\n",
      " 24 25 26 27 28 29 30 31 32 33 34 35 36 37 38 39 40 41 42 43 44 45 46 47]\n",
      "[[[[ 0  1]\n",
      "   [ 2  3]\n",
      "   [ 4  5]]\n",
      "\n",
      "  [[ 6  7]\n",
      "   [ 8  9]\n",
      "   [10 11]]\n",
      "\n",
      "  [[12 13]\n",
      "   [14 15]\n",
      "   [16 17]]\n",
      "\n",
      "  [[18 19]\n",
      "   [20 21]\n",
      "   [22 23]]]\n",
      "\n",
      "\n",
      " [[[24 25]\n",
      "   [26 27]\n",
      "   [28 29]]\n",
      "\n",
      "  [[30 31]\n",
      "   [32 33]\n",
      "   [34 35]]\n",
      "\n",
      "  [[36 37]\n",
      "   [38 39]\n",
      "   [40 41]]\n",
      "\n",
      "  [[42 43]\n",
      "   [44 45]\n",
      "   [46 47]]]]\n"
     ]
    }
   ],
   "source": [
    "b = np.arange(48)\n",
    "print(b)\n",
    "c = b = b.reshape(2, 4, 3, 2)\n",
    "print(b)"
   ]
  },
  {
   "cell_type": "code",
   "execution_count": 23,
   "metadata": {},
   "outputs": [
    {
     "data": {
      "text/plain": [
       "array([0, 1, 2, 3, 4, 5, 6, 7, 8, 9])"
      ]
     },
     "execution_count": 23,
     "metadata": {},
     "output_type": "execute_result"
    }
   ],
   "source": [
    "c[c < 10] # It flattens first!"
   ]
  },
  {
   "cell_type": "code",
   "execution_count": 24,
   "metadata": {},
   "outputs": [
    {
     "data": {
      "text/plain": [
       "array([ 3,  8, 13, 18, 23, 28, 33, 38, 43])"
      ]
     },
     "execution_count": 24,
     "metadata": {},
     "output_type": "execute_result"
    }
   ],
   "source": [
    "c[c % 5 == 3]"
   ]
  },
  {
   "cell_type": "code",
   "execution_count": 25,
   "metadata": {},
   "outputs": [
    {
     "data": {
      "text/plain": [
       "array([ 4, 10, 16, 22, 28, 34, 40, 46])"
      ]
     },
     "execution_count": 25,
     "metadata": {},
     "output_type": "execute_result"
    }
   ],
   "source": [
    "c[(c % 3 == 1) & (c % 2 == 0)]"
   ]
  },
  {
   "cell_type": "code",
   "execution_count": 26,
   "metadata": {},
   "outputs": [
    {
     "data": {
      "text/plain": [
       "array([[[[False, False],\n",
       "         [False, False],\n",
       "         [ True, False]],\n",
       "\n",
       "        [[False, False],\n",
       "         [False, False],\n",
       "         [ True, False]],\n",
       "\n",
       "        [[False, False],\n",
       "         [False, False],\n",
       "         [ True, False]],\n",
       "\n",
       "        [[False, False],\n",
       "         [False, False],\n",
       "         [ True, False]]],\n",
       "\n",
       "\n",
       "       [[[False, False],\n",
       "         [False, False],\n",
       "         [ True, False]],\n",
       "\n",
       "        [[False, False],\n",
       "         [False, False],\n",
       "         [ True, False]],\n",
       "\n",
       "        [[False, False],\n",
       "         [False, False],\n",
       "         [ True, False]],\n",
       "\n",
       "        [[False, False],\n",
       "         [False, False],\n",
       "         [ True, False]]]])"
      ]
     },
     "execution_count": 26,
     "metadata": {},
     "output_type": "execute_result"
    }
   ],
   "source": [
    "(c % 3 == 1) & (c % 2 == 0)"
   ]
  },
  {
   "cell_type": "code",
   "execution_count": 27,
   "metadata": {},
   "outputs": [
    {
     "data": {
      "text/plain": [
       "array([[[[ True,  True],\n",
       "         [ True,  True],\n",
       "         [ True,  True]],\n",
       "\n",
       "        [[ True,  True],\n",
       "         [ True,  True],\n",
       "         [False, False]],\n",
       "\n",
       "        [[False, False],\n",
       "         [False, False],\n",
       "         [False, False]],\n",
       "\n",
       "        [[False, False],\n",
       "         [False, False],\n",
       "         [False, False]]],\n",
       "\n",
       "\n",
       "       [[[False, False],\n",
       "         [False, False],\n",
       "         [False, False]],\n",
       "\n",
       "        [[False, False],\n",
       "         [False, False],\n",
       "         [False, False]],\n",
       "\n",
       "        [[False, False],\n",
       "         [False, False],\n",
       "         [False, False]],\n",
       "\n",
       "        [[False, False],\n",
       "         [False, False],\n",
       "         [False, False]]]])"
      ]
     },
     "execution_count": 27,
     "metadata": {},
     "output_type": "execute_result"
    }
   ],
   "source": [
    "c < 10"
   ]
  },
  {
   "cell_type": "code",
   "execution_count": 28,
   "metadata": {},
   "outputs": [
    {
     "data": {
      "text/plain": [
       "array([[ 1,  4,  9],\n",
       "       [16, 25, 36]])"
      ]
     },
     "execution_count": 28,
     "metadata": {},
     "output_type": "execute_result"
    }
   ],
   "source": [
    "d = np.array([[1, 2, 3], [4, 5, 6]])\n",
    "np.square(d)"
   ]
  },
  {
   "cell_type": "code",
   "execution_count": 29,
   "metadata": {},
   "outputs": [
    {
     "name": "stdout",
     "output_type": "stream",
     "text": [
      "[[ 66  72  78]\n",
      " [156 171 186]\n",
      " [246 270 294]]\n"
     ]
    }
   ],
   "source": [
    "A = np.array([[1, 2, 3], [4, 5, 6], [7, 8, 9]])\n",
    "B = np.array([[7, 8, 9], [10, 11, 12], [13, 14, 15]])\n",
    "\n",
    "C = np.matmul(A, B)\n",
    "\n",
    "print(C)"
   ]
  },
  {
   "cell_type": "code",
   "execution_count": 30,
   "metadata": {},
   "outputs": [
    {
     "name": "stdout",
     "output_type": "stream",
     "text": [
      "32\n"
     ]
    }
   ],
   "source": [
    "a = np.array([1, 2, 3])\n",
    "b = np.array([4, 5, 6])\n",
    "\n",
    "c = np.dot(a, b)\n",
    "\n",
    "print(c)"
   ]
  },
  {
   "cell_type": "code",
   "execution_count": 31,
   "metadata": {},
   "outputs": [],
   "source": [
    "x = int(5)"
   ]
  },
  {
   "cell_type": "code",
   "execution_count": 32,
   "metadata": {},
   "outputs": [
    {
     "data": {
      "text/plain": [
       "5"
      ]
     },
     "execution_count": 32,
     "metadata": {},
     "output_type": "execute_result"
    }
   ],
   "source": [
    "x"
   ]
  },
  {
   "cell_type": "code",
   "execution_count": 33,
   "metadata": {},
   "outputs": [],
   "source": [
    "y = float(2.8)"
   ]
  },
  {
   "cell_type": "code",
   "execution_count": 34,
   "metadata": {},
   "outputs": [
    {
     "data": {
      "text/plain": [
       "2.8"
      ]
     },
     "execution_count": 34,
     "metadata": {},
     "output_type": "execute_result"
    }
   ],
   "source": [
    "y"
   ]
  },
  {
   "cell_type": "code",
   "execution_count": 35,
   "metadata": {},
   "outputs": [
    {
     "name": "stdout",
     "output_type": "stream",
     "text": [
      "<class 'int'>\n"
     ]
    }
   ],
   "source": [
    "print(type(x))"
   ]
  },
  {
   "cell_type": "code",
   "execution_count": 36,
   "metadata": {},
   "outputs": [
    {
     "data": {
      "text/plain": [
       "'HELLO'"
      ]
     },
     "execution_count": 36,
     "metadata": {},
     "output_type": "execute_result"
    }
   ],
   "source": [
    "'hello'.upper()"
   ]
  },
  {
   "cell_type": "code",
   "execution_count": 55,
   "metadata": {},
   "outputs": [],
   "source": [
    "arr = np.array([1,4,3,4,5,4,4])"
   ]
  },
  {
   "cell_type": "code",
   "execution_count": 49,
   "metadata": {},
   "outputs": [
    {
     "data": {
      "text/plain": [
       "(7,)"
      ]
     },
     "execution_count": 49,
     "metadata": {},
     "output_type": "execute_result"
    }
   ],
   "source": [
    "arr.shape"
   ]
  },
  {
   "cell_type": "code",
   "execution_count": 56,
   "metadata": {},
   "outputs": [
    {
     "data": {
      "text/plain": [
       "(array([1, 3, 5, 6]),)"
      ]
     },
     "execution_count": 56,
     "metadata": {},
     "output_type": "execute_result"
    }
   ],
   "source": [
    "np.where(arr == 4)"
   ]
  },
  {
   "cell_type": "code",
   "execution_count": 57,
   "metadata": {},
   "outputs": [],
   "source": [
    "arr.sort()"
   ]
  },
  {
   "cell_type": "code",
   "execution_count": 58,
   "metadata": {},
   "outputs": [
    {
     "data": {
      "text/plain": [
       "array([1, 3, 4, 4, 4, 4, 5])"
      ]
     },
     "execution_count": 58,
     "metadata": {},
     "output_type": "execute_result"
    }
   ],
   "source": [
    "arr"
   ]
  },
  {
   "cell_type": "code",
   "execution_count": 66,
   "metadata": {},
   "outputs": [
    {
     "name": "stdout",
     "output_type": "stream",
     "text": [
      "[1 3 6]\n"
     ]
    }
   ],
   "source": [
    "arr = np.array([1,2,3])\n",
    "print(np.cumsum(arr))"
   ]
  }
 ],
 "metadata": {
  "kernelspec": {
   "display_name": "SB3",
   "language": "python",
   "name": "python3"
  },
  "language_info": {
   "codemirror_mode": {
    "name": "ipython",
    "version": 3
   },
   "file_extension": ".py",
   "mimetype": "text/x-python",
   "name": "python",
   "nbconvert_exporter": "python",
   "pygments_lexer": "ipython3",
   "version": "3.9.13"
  },
  "orig_nbformat": 4
 },
 "nbformat": 4,
 "nbformat_minor": 2
}
