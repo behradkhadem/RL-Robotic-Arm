{
 "cells": [
  {
   "cell_type": "code",
   "execution_count": 1,
   "metadata": {},
   "outputs": [
    {
     "name": "stderr",
     "output_type": "stream",
     "text": [
      "pybullet build time: May 20 2022 19:45:31\n"
     ]
    }
   ],
   "source": [
    "from urdfenvs.robots.generic_urdf import GenericUrdfReacher\n",
    "from urdfenvs.sensors.full_sensor import FullSensor\n",
    "from urdfenvs.urdf_common import UrdfEnv\n",
    "from urdfenvs.urdf_common.reward import Reward\n",
    "\n",
    "import numpy as np\n",
    "import os"
   ]
  },
  {
   "cell_type": "code",
   "execution_count": 2,
   "metadata": {},
   "outputs": [],
   "source": [
    "class DistanceReward(Reward):\n",
    "    def calculate_reward(self, observation: dict) -> float:\n",
    "        # goal = observation['robot_0']['FullSensor']['goals'][1]['position']\n",
    "        # position = observation['robot_0']['joint_state']['position']\n",
    "        # reward = 1.0/np.linalg.norm(goal-position)\n",
    "        # reward = np.linalg.norm(goal - position)\n",
    "        # print(f\"👁️: {observation}\")\n",
    "        # endeffector_position_raw = observation['robot_0']['joint_state']['position'][:3]\n",
    "        # print(f\"🦾 End-effector Position: {endeffector_position_raw}\")\n",
    "        obstacle_position = observation[\"robot_0\"][\"FullSensor\"][\"obstacles\"][1][\"position\"]\n",
    "        # print(f'⬛ Obstacle Position: {obstacle_position}')\n",
    "        target_position = np.array([0.3, -0.4, 0.0])\n",
    "        reward = 1 / np.linalg.norm(obstacle_position - target_position)\n",
    "        # reward = 0.0\n",
    "        # print(f'🏆 Reward is: {reward}')\n",
    "        return reward"
   ]
  },
  {
   "cell_type": "code",
   "execution_count": 3,
   "metadata": {},
   "outputs": [],
   "source": [
    "from mpscenes.obstacles.box_obstacle import BoxObstacle\n",
    "\n",
    "\n",
    "movable_obstacle_dict = {\n",
    "    'type': 'box',\n",
    "    'geometry': {\n",
    "        'position' : [0.5, 0.5, 0.0],\n",
    "        'width': 0.04,\n",
    "        'height': 0.04,\n",
    "        'length': 0.1,\n",
    "    },\n",
    "    'movable': True,\n",
    "    'high': {\n",
    "         'position' : [5.0, 5.0, 1.0],\n",
    "        'width': 0.35,\n",
    "        'height': 0.35,\n",
    "        'length': 0.35,\n",
    "    },\n",
    "    'low': {\n",
    "        'position' : [0.0, 0.0, 0.5],\n",
    "        'width': 0.2,\n",
    "        'height': 0.2,\n",
    "        'length': 0.2,\n",
    "    }\n",
    "}\n",
    "movable_obstacle = BoxObstacle(name=\"movable_box\", content_dict=movable_obstacle_dict)"
   ]
  },
  {
   "cell_type": "code",
   "execution_count": 4,
   "metadata": {},
   "outputs": [],
   "source": [
    "robots = [\n",
    "    GenericUrdfReacher(urdf=\"panda_with_gripper.urdf\", mode=\"vel\"),\n",
    "]\n",
    "\n",
    "render: bool = False\n",
    "\n",
    "env = UrdfEnv(render=render, robots=robots)"
   ]
  },
  {
   "cell_type": "code",
   "execution_count": 5,
   "metadata": {},
   "outputs": [
    {
     "name": "stderr",
     "output_type": "stream",
     "text": [
      "/home/behradx/anaconda3/envs/SB3/lib/python3.9/site-packages/gymnasium/spaces/box.py:130: UserWarning: \u001b[33mWARN: Box bound precision lowered by casting to float64\u001b[0m\n",
      "  gym.logger.warn(f\"Box bound precision lowered by casting to {self.dtype}\")\n"
     ]
    },
    {
     "name": "stdout",
     "output_type": "stream",
     "text": [
      "Initial observation : {'robot_0': {'joint_state': {'position': array([ 0.    ,  0.    ,  0.    , -1.501 ,  0.    ,  1.8675,  0.    ,\n",
      "        0.02  ,  0.02  ]), 'velocity': array([0., 0., 0., 0., 0., 0., 0., 0., 0.])}, 'FullSensor': {'obstacles': {1: {'position': array([0.5, 0.5, 0. ], dtype=float32), 'size': array([0.1 , 0.04, 0.04], dtype=float32)}}}}}\n"
     ]
    }
   ],
   "source": [
    "# env.add_goal(goal1)\n",
    "# env.add_goal(dynamicGoal)\n",
    "\n",
    "sensor = FullSensor(['position'], ['position', 'size'], variance=0.0)\n",
    "env.add_sensor(sensor, [0])\n",
    "env.add_obstacle(movable_obstacle)\n",
    "env.set_reward_calculator(DistanceReward())\n",
    "env.set_spaces()\n",
    "# defaultAction = np.array([0.5, -0.0, 0.0])\n",
    "# pos0 = np.array([0.0, 0.1, 0.0])\n",
    "# vel0 = np.array([1.0, 0.0, 0.0])\n",
    "\n",
    "ob, *_ = env.reset(\n",
    "    # pos=pos0, vel=vel0\n",
    "    )\n",
    "# env.shuffle_goals()\n",
    "print(f\"Initial observation : {ob}\")\n"
   ]
  },
  {
   "cell_type": "code",
   "execution_count": 6,
   "metadata": {},
   "outputs": [
    {
     "name": "stdout",
     "output_type": "stream",
     "text": [
      "🦾 End-effector Position: [ 0.      0.      0.     -1.501   0.      1.8675  0.      0.02    0.02  ]\n"
     ]
    }
   ],
   "source": [
    "print(f\"🦾 End-effector Position: {ob['robot_0']['joint_state']['position']}\")"
   ]
  },
  {
   "cell_type": "code",
   "execution_count": 7,
   "metadata": {},
   "outputs": [],
   "source": [
    "# print(f'⬛ Obstacle Position: {ob[\"robot_0\"][\"FullSensor\"][\"obstacles\"][1][\"position\"]}')"
   ]
  },
  {
   "cell_type": "code",
   "execution_count": 8,
   "metadata": {},
   "outputs": [],
   "source": [
    "# endeffector_position = ob['robot_0']['joint_state']['position'][:3]\n",
    "# print(f\"🦾 End-effector Position: {endeffector_position}\")\n",
    "# obstacle_position = ob[\"robot_0\"][\"FullSensor\"][\"obstacles\"][1][\"position\"]\n",
    "# print(f'⬛ Obstacle Position: {obstacle_position}')"
   ]
  },
  {
   "cell_type": "code",
   "execution_count": 9,
   "metadata": {},
   "outputs": [],
   "source": [
    "# env.reset()\n",
    "# while True:\n",
    "#     action = env.action_space.sample()\n",
    "#     obs, reward, done, truncated, info = env.step(action)\n"
   ]
  },
  {
   "cell_type": "code",
   "execution_count": 10,
   "metadata": {},
   "outputs": [],
   "source": [
    "# Stable baselines 3\n",
    "from stable_baselines3 import TD3\n",
    "from stable_baselines3.common.noise import NormalActionNoise\n",
    "\n",
    "from gymnasium.wrappers import FlattenObservation\n"
   ]
  },
  {
   "cell_type": "code",
   "execution_count": 11,
   "metadata": {},
   "outputs": [],
   "source": [
    "MODEL_NAME = 'TD3-001'\n",
    "MODEL_CLASS = TD3"
   ]
  },
  {
   "cell_type": "code",
   "execution_count": 12,
   "metadata": {},
   "outputs": [],
   "source": [
    "models_dir = 'models/' + MODEL_NAME\n",
    "logdir = 'logs'\n",
    "\n",
    "if not os.path.exists(models_dir):\n",
    "    os.makedirs(models_dir)\n",
    "\n",
    "if not os.path.exists(logdir):\n",
    "    os.makedirs(logdir)"
   ]
  },
  {
   "cell_type": "code",
   "execution_count": 13,
   "metadata": {},
   "outputs": [],
   "source": [
    "env = FlattenObservation(env)"
   ]
  },
  {
   "cell_type": "code",
   "execution_count": 14,
   "metadata": {},
   "outputs": [],
   "source": [
    "from urdfenvs.wrappers.sb3_float32_action_wrapper import SB3Float32ActionWrapper\n",
    "\n",
    "env = SB3Float32ActionWrapper(env)"
   ]
  },
  {
   "cell_type": "code",
   "execution_count": 15,
   "metadata": {},
   "outputs": [
    {
     "name": "stderr",
     "output_type": "stream",
     "text": [
      "/home/behradx/anaconda3/envs/SB3/lib/python3.9/site-packages/stable_baselines3/common/env_checker.py:422: UserWarning: We recommend you to use a symmetric and normalized Box action space (range=[-1, 1]) cf. https://stable-baselines3.readthedocs.io/en/master/guide/rl_tips.html\n",
      "  warnings.warn(\n"
     ]
    }
   ],
   "source": [
    "from stable_baselines3.common.env_checker import check_env\n",
    "\n",
    "check_env(env, warn=True)"
   ]
  },
  {
   "cell_type": "code",
   "execution_count": 16,
   "metadata": {},
   "outputs": [
    {
     "name": "stdout",
     "output_type": "stream",
     "text": [
      "Using cpu device\n",
      "Wrapping the env with a `Monitor` wrapper\n",
      "Wrapping the env in a DummyVecEnv.\n",
      "Logging to logs/TD3-001_4\n"
     ]
    },
    {
     "data": {
      "application/vnd.jupyter.widget-view+json": {
       "model_id": "ebcddae35f7149a395d9a5872f5b6747",
       "version_major": 2,
       "version_minor": 0
      },
      "text/plain": [
       "Output()"
      ]
     },
     "metadata": {},
     "output_type": "display_data"
    },
    {
     "name": "stdout",
     "output_type": "stream",
     "text": [
      "---------------------------------\n",
      "| rollout/           |          |\n",
      "|    ep_len_mean     | 1.1      |\n",
      "|    ep_rew_mean     | 1.19     |\n",
      "| time/              |          |\n",
      "|    episodes        | 10       |\n",
      "|    fps             | 7        |\n",
      "|    time_elapsed    | 1        |\n",
      "|    total_timesteps | 11       |\n",
      "---------------------------------\n"
     ]
    },
    {
     "name": "stdout",
     "output_type": "stream",
     "text": [
      "---------------------------------\n",
      "| rollout/           |          |\n",
      "|    ep_len_mean     | 1.05     |\n",
      "|    ep_rew_mean     | 1.14     |\n",
      "| time/              |          |\n",
      "|    episodes        | 20       |\n",
      "|    fps             | 7        |\n",
      "|    time_elapsed    | 2        |\n",
      "|    total_timesteps | 21       |\n",
      "---------------------------------\n"
     ]
    },
    {
     "name": "stdout",
     "output_type": "stream",
     "text": [
      "---------------------------------\n",
      "| rollout/           |          |\n",
      "|    ep_len_mean     | 1.03     |\n",
      "|    ep_rew_mean     | 1.12     |\n",
      "| time/              |          |\n",
      "|    episodes        | 30       |\n",
      "|    fps             | 6        |\n",
      "|    time_elapsed    | 4        |\n",
      "|    total_timesteps | 31       |\n",
      "---------------------------------\n"
     ]
    },
    {
     "name": "stdout",
     "output_type": "stream",
     "text": [
      "---------------------------------\n",
      "| rollout/           |          |\n",
      "|    ep_len_mean     | 1.02     |\n",
      "|    ep_rew_mean     | 1.11     |\n",
      "| time/              |          |\n",
      "|    episodes        | 40       |\n",
      "|    fps             | 7        |\n",
      "|    time_elapsed    | 5        |\n",
      "|    total_timesteps | 41       |\n",
      "---------------------------------\n"
     ]
    },
    {
     "name": "stdout",
     "output_type": "stream",
     "text": [
      "---------------------------------\n",
      "| rollout/           |          |\n",
      "|    ep_len_mean     | 1.02     |\n",
      "|    ep_rew_mean     | 1.11     |\n",
      "| time/              |          |\n",
      "|    episodes        | 50       |\n",
      "|    fps             | 7        |\n",
      "|    time_elapsed    | 7        |\n",
      "|    total_timesteps | 51       |\n",
      "---------------------------------\n"
     ]
    },
    {
     "name": "stdout",
     "output_type": "stream",
     "text": [
      "---------------------------------\n",
      "| rollout/           |          |\n",
      "|    ep_len_mean     | 1.02     |\n",
      "|    ep_rew_mean     | 1.1      |\n",
      "| time/              |          |\n",
      "|    episodes        | 60       |\n",
      "|    fps             | 7        |\n",
      "|    time_elapsed    | 8        |\n",
      "|    total_timesteps | 61       |\n",
      "---------------------------------\n"
     ]
    },
    {
     "name": "stdout",
     "output_type": "stream",
     "text": [
      "---------------------------------\n",
      "| rollout/           |          |\n",
      "|    ep_len_mean     | 1.01     |\n",
      "|    ep_rew_mean     | 1.1      |\n",
      "| time/              |          |\n",
      "|    episodes        | 70       |\n",
      "|    fps             | 7        |\n",
      "|    time_elapsed    | 9        |\n",
      "|    total_timesteps | 71       |\n",
      "---------------------------------\n"
     ]
    },
    {
     "name": "stdout",
     "output_type": "stream",
     "text": [
      "---------------------------------\n",
      "| rollout/           |          |\n",
      "|    ep_len_mean     | 1.01     |\n",
      "|    ep_rew_mean     | 1.1      |\n",
      "| time/              |          |\n",
      "|    episodes        | 80       |\n",
      "|    fps             | 7        |\n",
      "|    time_elapsed    | 11       |\n",
      "|    total_timesteps | 81       |\n",
      "---------------------------------\n"
     ]
    },
    {
     "name": "stdout",
     "output_type": "stream",
     "text": [
      "---------------------------------\n",
      "| rollout/           |          |\n",
      "|    ep_len_mean     | 1.01     |\n",
      "|    ep_rew_mean     | 1.1      |\n",
      "| time/              |          |\n",
      "|    episodes        | 90       |\n",
      "|    fps             | 7        |\n",
      "|    time_elapsed    | 12       |\n",
      "|    total_timesteps | 91       |\n",
      "---------------------------------\n"
     ]
    },
    {
     "name": "stdout",
     "output_type": "stream",
     "text": [
      "---------------------------------\n",
      "| rollout/           |          |\n",
      "|    ep_len_mean     | 1.01     |\n",
      "|    ep_rew_mean     | 1.09     |\n",
      "| time/              |          |\n",
      "|    episodes        | 100      |\n",
      "|    fps             | 7        |\n",
      "|    time_elapsed    | 13       |\n",
      "|    total_timesteps | 101      |\n",
      "---------------------------------\n"
     ]
    },
    {
     "name": "stdout",
     "output_type": "stream",
     "text": [
      "---------------------------------\n",
      "| rollout/           |          |\n",
      "|    ep_len_mean     | 1        |\n",
      "|    ep_rew_mean     | 1.08     |\n",
      "| time/              |          |\n",
      "|    episodes        | 110      |\n",
      "|    fps             | 6        |\n",
      "|    time_elapsed    | 17       |\n",
      "|    total_timesteps | 111      |\n",
      "| train/             |          |\n",
      "|    actor_loss      | -1.29    |\n",
      "|    critic_loss     | 0.218    |\n",
      "|    learning_rate   | 0.001    |\n",
      "|    n_updates       | 10       |\n",
      "---------------------------------\n"
     ]
    },
    {
     "name": "stdout",
     "output_type": "stream",
     "text": [
      "---------------------------------\n",
      "| rollout/           |          |\n",
      "|    ep_len_mean     | 1        |\n",
      "|    ep_rew_mean     | 1.08     |\n",
      "| time/              |          |\n",
      "|    episodes        | 120      |\n",
      "|    fps             | 6        |\n",
      "|    time_elapsed    | 18       |\n",
      "|    total_timesteps | 121      |\n",
      "| train/             |          |\n",
      "|    actor_loss      | -0.99    |\n",
      "|    critic_loss     | 0.0774   |\n",
      "|    learning_rate   | 0.001    |\n",
      "|    n_updates       | 20       |\n",
      "---------------------------------\n"
     ]
    },
    {
     "name": "stdout",
     "output_type": "stream",
     "text": [
      "---------------------------------\n",
      "| rollout/           |          |\n",
      "|    ep_len_mean     | 1        |\n",
      "|    ep_rew_mean     | 1.08     |\n",
      "| time/              |          |\n",
      "|    episodes        | 130      |\n",
      "|    fps             | 6        |\n",
      "|    time_elapsed    | 20       |\n",
      "|    total_timesteps | 131      |\n",
      "| train/             |          |\n",
      "|    actor_loss      | -1.29    |\n",
      "|    critic_loss     | 0.0252   |\n",
      "|    learning_rate   | 0.001    |\n",
      "|    n_updates       | 30       |\n",
      "---------------------------------\n"
     ]
    },
    {
     "name": "stdout",
     "output_type": "stream",
     "text": [
      "---------------------------------\n",
      "| rollout/           |          |\n",
      "|    ep_len_mean     | 1        |\n",
      "|    ep_rew_mean     | 1.08     |\n",
      "| time/              |          |\n",
      "|    episodes        | 140      |\n",
      "|    fps             | 6        |\n",
      "|    time_elapsed    | 22       |\n",
      "|    total_timesteps | 141      |\n",
      "| train/             |          |\n",
      "|    actor_loss      | -1.05    |\n",
      "|    critic_loss     | 0.011    |\n",
      "|    learning_rate   | 0.001    |\n",
      "|    n_updates       | 40       |\n",
      "---------------------------------\n"
     ]
    },
    {
     "name": "stdout",
     "output_type": "stream",
     "text": [
      "---------------------------------\n",
      "| rollout/           |          |\n",
      "|    ep_len_mean     | 1        |\n",
      "|    ep_rew_mean     | 1.08     |\n",
      "| time/              |          |\n",
      "|    episodes        | 150      |\n",
      "|    fps             | 6        |\n",
      "|    time_elapsed    | 23       |\n",
      "|    total_timesteps | 151      |\n",
      "| train/             |          |\n",
      "|    actor_loss      | -1.16    |\n",
      "|    critic_loss     | 0.00573  |\n",
      "|    learning_rate   | 0.001    |\n",
      "|    n_updates       | 50       |\n",
      "---------------------------------\n"
     ]
    },
    {
     "name": "stdout",
     "output_type": "stream",
     "text": [
      "---------------------------------\n",
      "| rollout/           |          |\n",
      "|    ep_len_mean     | 1        |\n",
      "|    ep_rew_mean     | 1.08     |\n",
      "| time/              |          |\n",
      "|    episodes        | 160      |\n",
      "|    fps             | 6        |\n",
      "|    time_elapsed    | 25       |\n",
      "|    total_timesteps | 161      |\n",
      "| train/             |          |\n",
      "|    actor_loss      | -1.1     |\n",
      "|    critic_loss     | 0.00391  |\n",
      "|    learning_rate   | 0.001    |\n",
      "|    n_updates       | 60       |\n",
      "---------------------------------\n"
     ]
    },
    {
     "name": "stdout",
     "output_type": "stream",
     "text": [
      "---------------------------------\n",
      "| rollout/           |          |\n",
      "|    ep_len_mean     | 1        |\n",
      "|    ep_rew_mean     | 1.08     |\n",
      "| time/              |          |\n",
      "|    episodes        | 170      |\n",
      "|    fps             | 6        |\n",
      "|    time_elapsed    | 27       |\n",
      "|    total_timesteps | 171      |\n",
      "| train/             |          |\n",
      "|    actor_loss      | -1.06    |\n",
      "|    critic_loss     | 0.00147  |\n",
      "|    learning_rate   | 0.001    |\n",
      "|    n_updates       | 70       |\n",
      "---------------------------------\n"
     ]
    },
    {
     "name": "stdout",
     "output_type": "stream",
     "text": [
      "---------------------------------\n",
      "| rollout/           |          |\n",
      "|    ep_len_mean     | 1        |\n",
      "|    ep_rew_mean     | 1.08     |\n",
      "| time/              |          |\n",
      "|    episodes        | 180      |\n",
      "|    fps             | 6        |\n",
      "|    time_elapsed    | 28       |\n",
      "|    total_timesteps | 181      |\n",
      "| train/             |          |\n",
      "|    actor_loss      | -1.08    |\n",
      "|    critic_loss     | 0.00308  |\n",
      "|    learning_rate   | 0.001    |\n",
      "|    n_updates       | 80       |\n",
      "---------------------------------\n"
     ]
    },
    {
     "name": "stdout",
     "output_type": "stream",
     "text": [
      "---------------------------------\n",
      "| rollout/           |          |\n",
      "|    ep_len_mean     | 1        |\n",
      "|    ep_rew_mean     | 1.08     |\n",
      "| time/              |          |\n",
      "|    episodes        | 190      |\n",
      "|    fps             | 6        |\n",
      "|    time_elapsed    | 30       |\n",
      "|    total_timesteps | 191      |\n",
      "| train/             |          |\n",
      "|    actor_loss      | -1.09    |\n",
      "|    critic_loss     | 0.00289  |\n",
      "|    learning_rate   | 0.001    |\n",
      "|    n_updates       | 90       |\n",
      "---------------------------------\n"
     ]
    },
    {
     "name": "stdout",
     "output_type": "stream",
     "text": [
      "---------------------------------\n",
      "| rollout/           |          |\n",
      "|    ep_len_mean     | 1        |\n",
      "|    ep_rew_mean     | 1.08     |\n",
      "| time/              |          |\n",
      "|    episodes        | 200      |\n",
      "|    fps             | 6        |\n",
      "|    time_elapsed    | 32       |\n",
      "|    total_timesteps | 201      |\n",
      "| train/             |          |\n",
      "|    actor_loss      | -1.09    |\n",
      "|    critic_loss     | 0.000726 |\n",
      "|    learning_rate   | 0.001    |\n",
      "|    n_updates       | 100      |\n",
      "---------------------------------\n"
     ]
    },
    {
     "name": "stdout",
     "output_type": "stream",
     "text": [
      "---------------------------------\n",
      "| rollout/           |          |\n",
      "|    ep_len_mean     | 1        |\n",
      "|    ep_rew_mean     | 1.08     |\n",
      "| time/              |          |\n",
      "|    episodes        | 210      |\n",
      "|    fps             | 6        |\n",
      "|    time_elapsed    | 33       |\n",
      "|    total_timesteps | 211      |\n",
      "| train/             |          |\n",
      "|    actor_loss      | -1.09    |\n",
      "|    critic_loss     | 0.00305  |\n",
      "|    learning_rate   | 0.001    |\n",
      "|    n_updates       | 110      |\n",
      "---------------------------------\n"
     ]
    },
    {
     "name": "stdout",
     "output_type": "stream",
     "text": [
      "---------------------------------\n",
      "| rollout/           |          |\n",
      "|    ep_len_mean     | 1        |\n",
      "|    ep_rew_mean     | 1.08     |\n",
      "| time/              |          |\n",
      "|    episodes        | 220      |\n",
      "|    fps             | 6        |\n",
      "|    time_elapsed    | 35       |\n",
      "|    total_timesteps | 221      |\n",
      "| train/             |          |\n",
      "|    actor_loss      | -1.09    |\n",
      "|    critic_loss     | 0.00308  |\n",
      "|    learning_rate   | 0.001    |\n",
      "|    n_updates       | 120      |\n",
      "---------------------------------\n"
     ]
    },
    {
     "name": "stdout",
     "output_type": "stream",
     "text": [
      "---------------------------------\n",
      "| rollout/           |          |\n",
      "|    ep_len_mean     | 1        |\n",
      "|    ep_rew_mean     | 1.08     |\n",
      "| time/              |          |\n",
      "|    episodes        | 230      |\n",
      "|    fps             | 6        |\n",
      "|    time_elapsed    | 37       |\n",
      "|    total_timesteps | 231      |\n",
      "| train/             |          |\n",
      "|    actor_loss      | -1.09    |\n",
      "|    critic_loss     | 0.00328  |\n",
      "|    learning_rate   | 0.001    |\n",
      "|    n_updates       | 130      |\n",
      "---------------------------------\n"
     ]
    },
    {
     "name": "stdout",
     "output_type": "stream",
     "text": [
      "---------------------------------\n",
      "| rollout/           |          |\n",
      "|    ep_len_mean     | 1        |\n",
      "|    ep_rew_mean     | 1.08     |\n",
      "| time/              |          |\n",
      "|    episodes        | 240      |\n",
      "|    fps             | 6        |\n",
      "|    time_elapsed    | 38       |\n",
      "|    total_timesteps | 241      |\n",
      "| train/             |          |\n",
      "|    actor_loss      | -1.09    |\n",
      "|    critic_loss     | 0.00043  |\n",
      "|    learning_rate   | 0.001    |\n",
      "|    n_updates       | 140      |\n",
      "---------------------------------\n"
     ]
    },
    {
     "name": "stdout",
     "output_type": "stream",
     "text": [
      "---------------------------------\n",
      "| rollout/           |          |\n",
      "|    ep_len_mean     | 1        |\n",
      "|    ep_rew_mean     | 1.08     |\n",
      "| time/              |          |\n",
      "|    episodes        | 250      |\n",
      "|    fps             | 6        |\n",
      "|    time_elapsed    | 40       |\n",
      "|    total_timesteps | 251      |\n",
      "| train/             |          |\n",
      "|    actor_loss      | -1.09    |\n",
      "|    critic_loss     | 0.000175 |\n",
      "|    learning_rate   | 0.001    |\n",
      "|    n_updates       | 150      |\n",
      "---------------------------------\n"
     ]
    },
    {
     "name": "stdout",
     "output_type": "stream",
     "text": [
      "---------------------------------\n",
      "| rollout/           |          |\n",
      "|    ep_len_mean     | 1        |\n",
      "|    ep_rew_mean     | 1.08     |\n",
      "| time/              |          |\n",
      "|    episodes        | 260      |\n",
      "|    fps             | 6        |\n",
      "|    time_elapsed    | 42       |\n",
      "|    total_timesteps | 261      |\n",
      "| train/             |          |\n",
      "|    actor_loss      | -1.09    |\n",
      "|    critic_loss     | 0.00405  |\n",
      "|    learning_rate   | 0.001    |\n",
      "|    n_updates       | 160      |\n",
      "---------------------------------\n"
     ]
    },
    {
     "name": "stdout",
     "output_type": "stream",
     "text": [
      "---------------------------------\n",
      "| rollout/           |          |\n",
      "|    ep_len_mean     | 1        |\n",
      "|    ep_rew_mean     | 1.08     |\n",
      "| time/              |          |\n",
      "|    episodes        | 270      |\n",
      "|    fps             | 6        |\n",
      "|    time_elapsed    | 44       |\n",
      "|    total_timesteps | 271      |\n",
      "| train/             |          |\n",
      "|    actor_loss      | -1.09    |\n",
      "|    critic_loss     | 0.000454 |\n",
      "|    learning_rate   | 0.001    |\n",
      "|    n_updates       | 170      |\n",
      "---------------------------------\n"
     ]
    },
    {
     "name": "stdout",
     "output_type": "stream",
     "text": [
      "---------------------------------\n",
      "| rollout/           |          |\n",
      "|    ep_len_mean     | 1        |\n",
      "|    ep_rew_mean     | 1.08     |\n",
      "| time/              |          |\n",
      "|    episodes        | 280      |\n",
      "|    fps             | 6        |\n",
      "|    time_elapsed    | 45       |\n",
      "|    total_timesteps | 281      |\n",
      "| train/             |          |\n",
      "|    actor_loss      | -1.09    |\n",
      "|    critic_loss     | 0.000203 |\n",
      "|    learning_rate   | 0.001    |\n",
      "|    n_updates       | 180      |\n",
      "---------------------------------\n"
     ]
    },
    {
     "name": "stdout",
     "output_type": "stream",
     "text": [
      "---------------------------------\n",
      "| rollout/           |          |\n",
      "|    ep_len_mean     | 1        |\n",
      "|    ep_rew_mean     | 1.08     |\n",
      "| time/              |          |\n",
      "|    episodes        | 290      |\n",
      "|    fps             | 6        |\n",
      "|    time_elapsed    | 47       |\n",
      "|    total_timesteps | 291      |\n",
      "| train/             |          |\n",
      "|    actor_loss      | -1.08    |\n",
      "|    critic_loss     | 0.000317 |\n",
      "|    learning_rate   | 0.001    |\n",
      "|    n_updates       | 190      |\n",
      "---------------------------------\n"
     ]
    },
    {
     "name": "stdout",
     "output_type": "stream",
     "text": [
      "---------------------------------\n",
      "| rollout/           |          |\n",
      "|    ep_len_mean     | 1        |\n",
      "|    ep_rew_mean     | 1.08     |\n",
      "| time/              |          |\n",
      "|    episodes        | 300      |\n",
      "|    fps             | 6        |\n",
      "|    time_elapsed    | 49       |\n",
      "|    total_timesteps | 301      |\n",
      "| train/             |          |\n",
      "|    actor_loss      | -1.09    |\n",
      "|    critic_loss     | 0.000105 |\n",
      "|    learning_rate   | 0.001    |\n",
      "|    n_updates       | 200      |\n",
      "---------------------------------\n"
     ]
    },
    {
     "name": "stdout",
     "output_type": "stream",
     "text": [
      "---------------------------------\n",
      "| rollout/           |          |\n",
      "|    ep_len_mean     | 1        |\n",
      "|    ep_rew_mean     | 1.08     |\n",
      "| time/              |          |\n",
      "|    episodes        | 310      |\n",
      "|    fps             | 6        |\n",
      "|    time_elapsed    | 51       |\n",
      "|    total_timesteps | 311      |\n",
      "| train/             |          |\n",
      "|    actor_loss      | -1.08    |\n",
      "|    critic_loss     | 0.000108 |\n",
      "|    learning_rate   | 0.001    |\n",
      "|    n_updates       | 210      |\n",
      "---------------------------------\n"
     ]
    },
    {
     "name": "stdout",
     "output_type": "stream",
     "text": [
      "---------------------------------\n",
      "| rollout/           |          |\n",
      "|    ep_len_mean     | 1        |\n",
      "|    ep_rew_mean     | 1.08     |\n",
      "| time/              |          |\n",
      "|    episodes        | 320      |\n",
      "|    fps             | 6        |\n",
      "|    time_elapsed    | 52       |\n",
      "|    total_timesteps | 321      |\n",
      "| train/             |          |\n",
      "|    actor_loss      | -1.09    |\n",
      "|    critic_loss     | 0.000107 |\n",
      "|    learning_rate   | 0.001    |\n",
      "|    n_updates       | 220      |\n",
      "---------------------------------\n"
     ]
    },
    {
     "name": "stdout",
     "output_type": "stream",
     "text": [
      "---------------------------------\n",
      "| rollout/           |          |\n",
      "|    ep_len_mean     | 1        |\n",
      "|    ep_rew_mean     | 1.08     |\n",
      "| time/              |          |\n",
      "|    episodes        | 330      |\n",
      "|    fps             | 6        |\n",
      "|    time_elapsed    | 54       |\n",
      "|    total_timesteps | 331      |\n",
      "| train/             |          |\n",
      "|    actor_loss      | -1.09    |\n",
      "|    critic_loss     | 0.000118 |\n",
      "|    learning_rate   | 0.001    |\n",
      "|    n_updates       | 230      |\n",
      "---------------------------------\n"
     ]
    },
    {
     "name": "stdout",
     "output_type": "stream",
     "text": [
      "---------------------------------\n",
      "| rollout/           |          |\n",
      "|    ep_len_mean     | 1        |\n",
      "|    ep_rew_mean     | 1.08     |\n",
      "| time/              |          |\n",
      "|    episodes        | 340      |\n",
      "|    fps             | 6        |\n",
      "|    time_elapsed    | 56       |\n",
      "|    total_timesteps | 341      |\n",
      "| train/             |          |\n",
      "|    actor_loss      | -1.09    |\n",
      "|    critic_loss     | 0.00548  |\n",
      "|    learning_rate   | 0.001    |\n",
      "|    n_updates       | 240      |\n",
      "---------------------------------\n"
     ]
    },
    {
     "name": "stdout",
     "output_type": "stream",
     "text": [
      "---------------------------------\n",
      "| rollout/           |          |\n",
      "|    ep_len_mean     | 1        |\n",
      "|    ep_rew_mean     | 1.08     |\n",
      "| time/              |          |\n",
      "|    episodes        | 350      |\n",
      "|    fps             | 6        |\n",
      "|    time_elapsed    | 57       |\n",
      "|    total_timesteps | 351      |\n",
      "| train/             |          |\n",
      "|    actor_loss      | -1.08    |\n",
      "|    critic_loss     | 0.00019  |\n",
      "|    learning_rate   | 0.001    |\n",
      "|    n_updates       | 250      |\n",
      "---------------------------------\n"
     ]
    },
    {
     "name": "stdout",
     "output_type": "stream",
     "text": [
      "---------------------------------\n",
      "| rollout/           |          |\n",
      "|    ep_len_mean     | 1        |\n",
      "|    ep_rew_mean     | 1.08     |\n",
      "| time/              |          |\n",
      "|    episodes        | 360      |\n",
      "|    fps             | 6        |\n",
      "|    time_elapsed    | 59       |\n",
      "|    total_timesteps | 361      |\n",
      "| train/             |          |\n",
      "|    actor_loss      | -1.08    |\n",
      "|    critic_loss     | 0.000241 |\n",
      "|    learning_rate   | 0.001    |\n",
      "|    n_updates       | 260      |\n",
      "---------------------------------\n"
     ]
    },
    {
     "name": "stdout",
     "output_type": "stream",
     "text": [
      "---------------------------------\n",
      "| rollout/           |          |\n",
      "|    ep_len_mean     | 1        |\n",
      "|    ep_rew_mean     | 1.08     |\n",
      "| time/              |          |\n",
      "|    episodes        | 370      |\n",
      "|    fps             | 6        |\n",
      "|    time_elapsed    | 61       |\n",
      "|    total_timesteps | 371      |\n",
      "| train/             |          |\n",
      "|    actor_loss      | -1.09    |\n",
      "|    critic_loss     | 0.00487  |\n",
      "|    learning_rate   | 0.001    |\n",
      "|    n_updates       | 270      |\n",
      "---------------------------------\n"
     ]
    },
    {
     "name": "stdout",
     "output_type": "stream",
     "text": [
      "---------------------------------\n",
      "| rollout/           |          |\n",
      "|    ep_len_mean     | 1        |\n",
      "|    ep_rew_mean     | 1.08     |\n",
      "| time/              |          |\n",
      "|    episodes        | 380      |\n",
      "|    fps             | 6        |\n",
      "|    time_elapsed    | 62       |\n",
      "|    total_timesteps | 381      |\n",
      "| train/             |          |\n",
      "|    actor_loss      | -1.08    |\n",
      "|    critic_loss     | 0.000289 |\n",
      "|    learning_rate   | 0.001    |\n",
      "|    n_updates       | 280      |\n",
      "---------------------------------\n"
     ]
    },
    {
     "name": "stdout",
     "output_type": "stream",
     "text": [
      "---------------------------------\n",
      "| rollout/           |          |\n",
      "|    ep_len_mean     | 1        |\n",
      "|    ep_rew_mean     | 1.08     |\n",
      "| time/              |          |\n",
      "|    episodes        | 390      |\n",
      "|    fps             | 6        |\n",
      "|    time_elapsed    | 64       |\n",
      "|    total_timesteps | 391      |\n",
      "| train/             |          |\n",
      "|    actor_loss      | -1.09    |\n",
      "|    critic_loss     | 0.00969  |\n",
      "|    learning_rate   | 0.001    |\n",
      "|    n_updates       | 290      |\n",
      "---------------------------------\n"
     ]
    },
    {
     "name": "stdout",
     "output_type": "stream",
     "text": [
      "---------------------------------\n",
      "| rollout/           |          |\n",
      "|    ep_len_mean     | 1        |\n",
      "|    ep_rew_mean     | 1.08     |\n",
      "| time/              |          |\n",
      "|    episodes        | 400      |\n",
      "|    fps             | 6        |\n",
      "|    time_elapsed    | 66       |\n",
      "|    total_timesteps | 401      |\n",
      "| train/             |          |\n",
      "|    actor_loss      | -1.08    |\n",
      "|    critic_loss     | 0.000187 |\n",
      "|    learning_rate   | 0.001    |\n",
      "|    n_updates       | 300      |\n",
      "---------------------------------\n"
     ]
    },
    {
     "name": "stdout",
     "output_type": "stream",
     "text": [
      "---------------------------------\n",
      "| rollout/           |          |\n",
      "|    ep_len_mean     | 1        |\n",
      "|    ep_rew_mean     | 1.08     |\n",
      "| time/              |          |\n",
      "|    episodes        | 410      |\n",
      "|    fps             | 6        |\n",
      "|    time_elapsed    | 68       |\n",
      "|    total_timesteps | 411      |\n",
      "| train/             |          |\n",
      "|    actor_loss      | -1.09    |\n",
      "|    critic_loss     | 0.000127 |\n",
      "|    learning_rate   | 0.001    |\n",
      "|    n_updates       | 310      |\n",
      "---------------------------------\n"
     ]
    },
    {
     "name": "stdout",
     "output_type": "stream",
     "text": [
      "---------------------------------\n",
      "| rollout/           |          |\n",
      "|    ep_len_mean     | 1        |\n",
      "|    ep_rew_mean     | 1.08     |\n",
      "| time/              |          |\n",
      "|    episodes        | 420      |\n",
      "|    fps             | 5        |\n",
      "|    time_elapsed    | 70       |\n",
      "|    total_timesteps | 421      |\n",
      "| train/             |          |\n",
      "|    actor_loss      | -1.08    |\n",
      "|    critic_loss     | 0.00501  |\n",
      "|    learning_rate   | 0.001    |\n",
      "|    n_updates       | 320      |\n",
      "---------------------------------\n"
     ]
    },
    {
     "name": "stdout",
     "output_type": "stream",
     "text": [
      "---------------------------------\n",
      "| rollout/           |          |\n",
      "|    ep_len_mean     | 1        |\n",
      "|    ep_rew_mean     | 1.08     |\n",
      "| time/              |          |\n",
      "|    episodes        | 430      |\n",
      "|    fps             | 5        |\n",
      "|    time_elapsed    | 71       |\n",
      "|    total_timesteps | 431      |\n",
      "| train/             |          |\n",
      "|    actor_loss      | -1.08    |\n",
      "|    critic_loss     | 0.000266 |\n",
      "|    learning_rate   | 0.001    |\n",
      "|    n_updates       | 330      |\n",
      "---------------------------------\n"
     ]
    },
    {
     "name": "stdout",
     "output_type": "stream",
     "text": [
      "---------------------------------\n",
      "| rollout/           |          |\n",
      "|    ep_len_mean     | 1        |\n",
      "|    ep_rew_mean     | 1.08     |\n",
      "| time/              |          |\n",
      "|    episodes        | 440      |\n",
      "|    fps             | 5        |\n",
      "|    time_elapsed    | 73       |\n",
      "|    total_timesteps | 441      |\n",
      "| train/             |          |\n",
      "|    actor_loss      | -1.09    |\n",
      "|    critic_loss     | 0.000226 |\n",
      "|    learning_rate   | 0.001    |\n",
      "|    n_updates       | 340      |\n",
      "---------------------------------\n"
     ]
    },
    {
     "name": "stdout",
     "output_type": "stream",
     "text": [
      "---------------------------------\n",
      "| rollout/           |          |\n",
      "|    ep_len_mean     | 1        |\n",
      "|    ep_rew_mean     | 1.08     |\n",
      "| time/              |          |\n",
      "|    episodes        | 450      |\n",
      "|    fps             | 6        |\n",
      "|    time_elapsed    | 75       |\n",
      "|    total_timesteps | 451      |\n",
      "| train/             |          |\n",
      "|    actor_loss      | -1.09    |\n",
      "|    critic_loss     | 0.0002   |\n",
      "|    learning_rate   | 0.001    |\n",
      "|    n_updates       | 350      |\n",
      "---------------------------------\n"
     ]
    },
    {
     "name": "stdout",
     "output_type": "stream",
     "text": [
      "---------------------------------\n",
      "| rollout/           |          |\n",
      "|    ep_len_mean     | 1        |\n",
      "|    ep_rew_mean     | 1.08     |\n",
      "| time/              |          |\n",
      "|    episodes        | 460      |\n",
      "|    fps             | 5        |\n",
      "|    time_elapsed    | 76       |\n",
      "|    total_timesteps | 461      |\n",
      "| train/             |          |\n",
      "|    actor_loss      | -1.09    |\n",
      "|    critic_loss     | 8.46e-05 |\n",
      "|    learning_rate   | 0.001    |\n",
      "|    n_updates       | 360      |\n",
      "---------------------------------\n"
     ]
    },
    {
     "name": "stdout",
     "output_type": "stream",
     "text": [
      "---------------------------------\n",
      "| rollout/           |          |\n",
      "|    ep_len_mean     | 1        |\n",
      "|    ep_rew_mean     | 1.08     |\n",
      "| time/              |          |\n",
      "|    episodes        | 470      |\n",
      "|    fps             | 5        |\n",
      "|    time_elapsed    | 78       |\n",
      "|    total_timesteps | 471      |\n",
      "| train/             |          |\n",
      "|    actor_loss      | -1.09    |\n",
      "|    critic_loss     | 8.7e-05  |\n",
      "|    learning_rate   | 0.001    |\n",
      "|    n_updates       | 370      |\n",
      "---------------------------------\n"
     ]
    },
    {
     "name": "stdout",
     "output_type": "stream",
     "text": [
      "---------------------------------\n",
      "| rollout/           |          |\n",
      "|    ep_len_mean     | 1        |\n",
      "|    ep_rew_mean     | 1.08     |\n",
      "| time/              |          |\n",
      "|    episodes        | 480      |\n",
      "|    fps             | 5        |\n",
      "|    time_elapsed    | 80       |\n",
      "|    total_timesteps | 481      |\n",
      "| train/             |          |\n",
      "|    actor_loss      | -1.08    |\n",
      "|    critic_loss     | 0.000166 |\n",
      "|    learning_rate   | 0.001    |\n",
      "|    n_updates       | 380      |\n",
      "---------------------------------\n"
     ]
    },
    {
     "name": "stdout",
     "output_type": "stream",
     "text": [
      "---------------------------------\n",
      "| rollout/           |          |\n",
      "|    ep_len_mean     | 1        |\n",
      "|    ep_rew_mean     | 1.08     |\n",
      "| time/              |          |\n",
      "|    episodes        | 490      |\n",
      "|    fps             | 5        |\n",
      "|    time_elapsed    | 82       |\n",
      "|    total_timesteps | 491      |\n",
      "| train/             |          |\n",
      "|    actor_loss      | -1.08    |\n",
      "|    critic_loss     | 0.00546  |\n",
      "|    learning_rate   | 0.001    |\n",
      "|    n_updates       | 390      |\n",
      "---------------------------------\n"
     ]
    },
    {
     "name": "stdout",
     "output_type": "stream",
     "text": [
      "---------------------------------\n",
      "| rollout/           |          |\n",
      "|    ep_len_mean     | 1        |\n",
      "|    ep_rew_mean     | 1.08     |\n",
      "| time/              |          |\n",
      "|    episodes        | 500      |\n",
      "|    fps             | 5        |\n",
      "|    time_elapsed    | 83       |\n",
      "|    total_timesteps | 501      |\n",
      "| train/             |          |\n",
      "|    actor_loss      | -1.09    |\n",
      "|    critic_loss     | 0.000143 |\n",
      "|    learning_rate   | 0.001    |\n",
      "|    n_updates       | 400      |\n",
      "---------------------------------\n"
     ]
    },
    {
     "name": "stdout",
     "output_type": "stream",
     "text": [
      "---------------------------------\n",
      "| rollout/           |          |\n",
      "|    ep_len_mean     | 1        |\n",
      "|    ep_rew_mean     | 1.08     |\n",
      "| time/              |          |\n",
      "|    episodes        | 510      |\n",
      "|    fps             | 5        |\n",
      "|    time_elapsed    | 85       |\n",
      "|    total_timesteps | 511      |\n",
      "| train/             |          |\n",
      "|    actor_loss      | -1.08    |\n",
      "|    critic_loss     | 8.65e-05 |\n",
      "|    learning_rate   | 0.001    |\n",
      "|    n_updates       | 410      |\n",
      "---------------------------------\n"
     ]
    },
    {
     "name": "stdout",
     "output_type": "stream",
     "text": [
      "---------------------------------\n",
      "| rollout/           |          |\n",
      "|    ep_len_mean     | 1        |\n",
      "|    ep_rew_mean     | 1.08     |\n",
      "| time/              |          |\n",
      "|    episodes        | 520      |\n",
      "|    fps             | 5        |\n",
      "|    time_elapsed    | 87       |\n",
      "|    total_timesteps | 521      |\n",
      "| train/             |          |\n",
      "|    actor_loss      | -1.09    |\n",
      "|    critic_loss     | 7.8e-05  |\n",
      "|    learning_rate   | 0.001    |\n",
      "|    n_updates       | 420      |\n",
      "---------------------------------\n"
     ]
    },
    {
     "name": "stdout",
     "output_type": "stream",
     "text": [
      "---------------------------------\n",
      "| rollout/           |          |\n",
      "|    ep_len_mean     | 1        |\n",
      "|    ep_rew_mean     | 1.08     |\n",
      "| time/              |          |\n",
      "|    episodes        | 530      |\n",
      "|    fps             | 5        |\n",
      "|    time_elapsed    | 88       |\n",
      "|    total_timesteps | 531      |\n",
      "| train/             |          |\n",
      "|    actor_loss      | -1.09    |\n",
      "|    critic_loss     | 0.000141 |\n",
      "|    learning_rate   | 0.001    |\n",
      "|    n_updates       | 430      |\n",
      "---------------------------------\n"
     ]
    },
    {
     "name": "stdout",
     "output_type": "stream",
     "text": [
      "---------------------------------\n",
      "| rollout/           |          |\n",
      "|    ep_len_mean     | 1        |\n",
      "|    ep_rew_mean     | 1.08     |\n",
      "| time/              |          |\n",
      "|    episodes        | 540      |\n",
      "|    fps             | 5        |\n",
      "|    time_elapsed    | 90       |\n",
      "|    total_timesteps | 541      |\n",
      "| train/             |          |\n",
      "|    actor_loss      | -1.09    |\n",
      "|    critic_loss     | 0.000121 |\n",
      "|    learning_rate   | 0.001    |\n",
      "|    n_updates       | 440      |\n",
      "---------------------------------\n"
     ]
    },
    {
     "name": "stdout",
     "output_type": "stream",
     "text": [
      "---------------------------------\n",
      "| rollout/           |          |\n",
      "|    ep_len_mean     | 1        |\n",
      "|    ep_rew_mean     | 1.08     |\n",
      "| time/              |          |\n",
      "|    episodes        | 550      |\n",
      "|    fps             | 5        |\n",
      "|    time_elapsed    | 92       |\n",
      "|    total_timesteps | 551      |\n",
      "| train/             |          |\n",
      "|    actor_loss      | -1.09    |\n",
      "|    critic_loss     | 8.66e-05 |\n",
      "|    learning_rate   | 0.001    |\n",
      "|    n_updates       | 450      |\n",
      "---------------------------------\n"
     ]
    },
    {
     "name": "stdout",
     "output_type": "stream",
     "text": [
      "---------------------------------\n",
      "| rollout/           |          |\n",
      "|    ep_len_mean     | 1        |\n",
      "|    ep_rew_mean     | 1.08     |\n",
      "| time/              |          |\n",
      "|    episodes        | 560      |\n",
      "|    fps             | 5        |\n",
      "|    time_elapsed    | 94       |\n",
      "|    total_timesteps | 561      |\n",
      "| train/             |          |\n",
      "|    actor_loss      | -1.09    |\n",
      "|    critic_loss     | 0.0001   |\n",
      "|    learning_rate   | 0.001    |\n",
      "|    n_updates       | 460      |\n",
      "---------------------------------\n"
     ]
    },
    {
     "name": "stdout",
     "output_type": "stream",
     "text": [
      "---------------------------------\n",
      "| rollout/           |          |\n",
      "|    ep_len_mean     | 1        |\n",
      "|    ep_rew_mean     | 1.08     |\n",
      "| time/              |          |\n",
      "|    episodes        | 570      |\n",
      "|    fps             | 5        |\n",
      "|    time_elapsed    | 96       |\n",
      "|    total_timesteps | 571      |\n",
      "| train/             |          |\n",
      "|    actor_loss      | -1.08    |\n",
      "|    critic_loss     | 8.66e-05 |\n",
      "|    learning_rate   | 0.001    |\n",
      "|    n_updates       | 470      |\n",
      "---------------------------------\n"
     ]
    },
    {
     "name": "stdout",
     "output_type": "stream",
     "text": [
      "---------------------------------\n",
      "| rollout/           |          |\n",
      "|    ep_len_mean     | 1        |\n",
      "|    ep_rew_mean     | 1.08     |\n",
      "| time/              |          |\n",
      "|    episodes        | 580      |\n",
      "|    fps             | 5        |\n",
      "|    time_elapsed    | 98       |\n",
      "|    total_timesteps | 581      |\n",
      "| train/             |          |\n",
      "|    actor_loss      | -1.09    |\n",
      "|    critic_loss     | 0.000145 |\n",
      "|    learning_rate   | 0.001    |\n",
      "|    n_updates       | 480      |\n",
      "---------------------------------\n"
     ]
    },
    {
     "name": "stdout",
     "output_type": "stream",
     "text": [
      "---------------------------------\n",
      "| rollout/           |          |\n",
      "|    ep_len_mean     | 1        |\n",
      "|    ep_rew_mean     | 1.08     |\n",
      "| time/              |          |\n",
      "|    episodes        | 590      |\n",
      "|    fps             | 5        |\n",
      "|    time_elapsed    | 99       |\n",
      "|    total_timesteps | 591      |\n",
      "| train/             |          |\n",
      "|    actor_loss      | -1.09    |\n",
      "|    critic_loss     | 0.000139 |\n",
      "|    learning_rate   | 0.001    |\n",
      "|    n_updates       | 490      |\n",
      "---------------------------------\n"
     ]
    },
    {
     "name": "stdout",
     "output_type": "stream",
     "text": [
      "---------------------------------\n",
      "| rollout/           |          |\n",
      "|    ep_len_mean     | 1        |\n",
      "|    ep_rew_mean     | 1.08     |\n",
      "| time/              |          |\n",
      "|    episodes        | 600      |\n",
      "|    fps             | 5        |\n",
      "|    time_elapsed    | 101      |\n",
      "|    total_timesteps | 601      |\n",
      "| train/             |          |\n",
      "|    actor_loss      | -1.09    |\n",
      "|    critic_loss     | 0.000304 |\n",
      "|    learning_rate   | 0.001    |\n",
      "|    n_updates       | 500      |\n",
      "---------------------------------\n"
     ]
    },
    {
     "name": "stdout",
     "output_type": "stream",
     "text": [
      "---------------------------------\n",
      "| rollout/           |          |\n",
      "|    ep_len_mean     | 1        |\n",
      "|    ep_rew_mean     | 1.08     |\n",
      "| time/              |          |\n",
      "|    episodes        | 610      |\n",
      "|    fps             | 5        |\n",
      "|    time_elapsed    | 103      |\n",
      "|    total_timesteps | 611      |\n",
      "| train/             |          |\n",
      "|    actor_loss      | -1.09    |\n",
      "|    critic_loss     | 4.54e-05 |\n",
      "|    learning_rate   | 0.001    |\n",
      "|    n_updates       | 510      |\n",
      "---------------------------------\n"
     ]
    },
    {
     "name": "stdout",
     "output_type": "stream",
     "text": [
      "---------------------------------\n",
      "| rollout/           |          |\n",
      "|    ep_len_mean     | 1        |\n",
      "|    ep_rew_mean     | 1.08     |\n",
      "| time/              |          |\n",
      "|    episodes        | 620      |\n",
      "|    fps             | 5        |\n",
      "|    time_elapsed    | 105      |\n",
      "|    total_timesteps | 621      |\n",
      "| train/             |          |\n",
      "|    actor_loss      | -1.09    |\n",
      "|    critic_loss     | 0.000109 |\n",
      "|    learning_rate   | 0.001    |\n",
      "|    n_updates       | 520      |\n",
      "---------------------------------\n"
     ]
    },
    {
     "name": "stdout",
     "output_type": "stream",
     "text": [
      "---------------------------------\n",
      "| rollout/           |          |\n",
      "|    ep_len_mean     | 1        |\n",
      "|    ep_rew_mean     | 1.08     |\n",
      "| time/              |          |\n",
      "|    episodes        | 630      |\n",
      "|    fps             | 5        |\n",
      "|    time_elapsed    | 107      |\n",
      "|    total_timesteps | 631      |\n",
      "| train/             |          |\n",
      "|    actor_loss      | -1.09    |\n",
      "|    critic_loss     | 9.24e-05 |\n",
      "|    learning_rate   | 0.001    |\n",
      "|    n_updates       | 530      |\n",
      "---------------------------------\n"
     ]
    },
    {
     "name": "stdout",
     "output_type": "stream",
     "text": [
      "---------------------------------\n",
      "| rollout/           |          |\n",
      "|    ep_len_mean     | 1        |\n",
      "|    ep_rew_mean     | 1.08     |\n",
      "| time/              |          |\n",
      "|    episodes        | 640      |\n",
      "|    fps             | 5        |\n",
      "|    time_elapsed    | 108      |\n",
      "|    total_timesteps | 641      |\n",
      "| train/             |          |\n",
      "|    actor_loss      | -1.09    |\n",
      "|    critic_loss     | 0.00481  |\n",
      "|    learning_rate   | 0.001    |\n",
      "|    n_updates       | 540      |\n",
      "---------------------------------\n"
     ]
    },
    {
     "name": "stdout",
     "output_type": "stream",
     "text": [
      "---------------------------------\n",
      "| rollout/           |          |\n",
      "|    ep_len_mean     | 1        |\n",
      "|    ep_rew_mean     | 1.08     |\n",
      "| time/              |          |\n",
      "|    episodes        | 650      |\n",
      "|    fps             | 5        |\n",
      "|    time_elapsed    | 110      |\n",
      "|    total_timesteps | 651      |\n",
      "| train/             |          |\n",
      "|    actor_loss      | -1.08    |\n",
      "|    critic_loss     | 0.000113 |\n",
      "|    learning_rate   | 0.001    |\n",
      "|    n_updates       | 550      |\n",
      "---------------------------------\n"
     ]
    },
    {
     "name": "stdout",
     "output_type": "stream",
     "text": [
      "---------------------------------\n",
      "| rollout/           |          |\n",
      "|    ep_len_mean     | 1        |\n",
      "|    ep_rew_mean     | 1.08     |\n",
      "| time/              |          |\n",
      "|    episodes        | 660      |\n",
      "|    fps             | 5        |\n",
      "|    time_elapsed    | 112      |\n",
      "|    total_timesteps | 661      |\n",
      "| train/             |          |\n",
      "|    actor_loss      | -1.08    |\n",
      "|    critic_loss     | 0.000119 |\n",
      "|    learning_rate   | 0.001    |\n",
      "|    n_updates       | 560      |\n",
      "---------------------------------\n"
     ]
    },
    {
     "name": "stdout",
     "output_type": "stream",
     "text": [
      "---------------------------------\n",
      "| rollout/           |          |\n",
      "|    ep_len_mean     | 1        |\n",
      "|    ep_rew_mean     | 1.08     |\n",
      "| time/              |          |\n",
      "|    episodes        | 670      |\n",
      "|    fps             | 5        |\n",
      "|    time_elapsed    | 113      |\n",
      "|    total_timesteps | 671      |\n",
      "| train/             |          |\n",
      "|    actor_loss      | -1.09    |\n",
      "|    critic_loss     | 0.00483  |\n",
      "|    learning_rate   | 0.001    |\n",
      "|    n_updates       | 570      |\n",
      "---------------------------------\n"
     ]
    },
    {
     "name": "stdout",
     "output_type": "stream",
     "text": [
      "---------------------------------\n",
      "| rollout/           |          |\n",
      "|    ep_len_mean     | 1        |\n",
      "|    ep_rew_mean     | 1.08     |\n",
      "| time/              |          |\n",
      "|    episodes        | 680      |\n",
      "|    fps             | 5        |\n",
      "|    time_elapsed    | 115      |\n",
      "|    total_timesteps | 681      |\n",
      "| train/             |          |\n",
      "|    actor_loss      | -1.08    |\n",
      "|    critic_loss     | 0.000299 |\n",
      "|    learning_rate   | 0.001    |\n",
      "|    n_updates       | 580      |\n",
      "---------------------------------\n"
     ]
    },
    {
     "name": "stdout",
     "output_type": "stream",
     "text": [
      "---------------------------------\n",
      "| rollout/           |          |\n",
      "|    ep_len_mean     | 1        |\n",
      "|    ep_rew_mean     | 1.08     |\n",
      "| time/              |          |\n",
      "|    episodes        | 690      |\n",
      "|    fps             | 5        |\n",
      "|    time_elapsed    | 117      |\n",
      "|    total_timesteps | 691      |\n",
      "| train/             |          |\n",
      "|    actor_loss      | -1.08    |\n",
      "|    critic_loss     | 0.000168 |\n",
      "|    learning_rate   | 0.001    |\n",
      "|    n_updates       | 590      |\n",
      "---------------------------------\n"
     ]
    },
    {
     "name": "stdout",
     "output_type": "stream",
     "text": [
      "---------------------------------\n",
      "| rollout/           |          |\n",
      "|    ep_len_mean     | 1        |\n",
      "|    ep_rew_mean     | 1.08     |\n",
      "| time/              |          |\n",
      "|    episodes        | 700      |\n",
      "|    fps             | 5        |\n",
      "|    time_elapsed    | 119      |\n",
      "|    total_timesteps | 701      |\n",
      "| train/             |          |\n",
      "|    actor_loss      | -1.09    |\n",
      "|    critic_loss     | 0.000133 |\n",
      "|    learning_rate   | 0.001    |\n",
      "|    n_updates       | 600      |\n",
      "---------------------------------\n"
     ]
    },
    {
     "name": "stdout",
     "output_type": "stream",
     "text": [
      "---------------------------------\n",
      "| rollout/           |          |\n",
      "|    ep_len_mean     | 1        |\n",
      "|    ep_rew_mean     | 1.08     |\n",
      "| time/              |          |\n",
      "|    episodes        | 710      |\n",
      "|    fps             | 5        |\n",
      "|    time_elapsed    | 120      |\n",
      "|    total_timesteps | 711      |\n",
      "| train/             |          |\n",
      "|    actor_loss      | -1.08    |\n",
      "|    critic_loss     | 0.000318 |\n",
      "|    learning_rate   | 0.001    |\n",
      "|    n_updates       | 610      |\n",
      "---------------------------------\n"
     ]
    },
    {
     "name": "stdout",
     "output_type": "stream",
     "text": [
      "---------------------------------\n",
      "| rollout/           |          |\n",
      "|    ep_len_mean     | 1        |\n",
      "|    ep_rew_mean     | 1.08     |\n",
      "| time/              |          |\n",
      "|    episodes        | 720      |\n",
      "|    fps             | 5        |\n",
      "|    time_elapsed    | 122      |\n",
      "|    total_timesteps | 721      |\n",
      "| train/             |          |\n",
      "|    actor_loss      | -1.09    |\n",
      "|    critic_loss     | 0.000396 |\n",
      "|    learning_rate   | 0.001    |\n",
      "|    n_updates       | 620      |\n",
      "---------------------------------\n"
     ]
    },
    {
     "name": "stdout",
     "output_type": "stream",
     "text": [
      "---------------------------------\n",
      "| rollout/           |          |\n",
      "|    ep_len_mean     | 1        |\n",
      "|    ep_rew_mean     | 1.08     |\n",
      "| time/              |          |\n",
      "|    episodes        | 730      |\n",
      "|    fps             | 5        |\n",
      "|    time_elapsed    | 124      |\n",
      "|    total_timesteps | 731      |\n",
      "| train/             |          |\n",
      "|    actor_loss      | -1.09    |\n",
      "|    critic_loss     | 0.00397  |\n",
      "|    learning_rate   | 0.001    |\n",
      "|    n_updates       | 630      |\n",
      "---------------------------------\n"
     ]
    },
    {
     "name": "stdout",
     "output_type": "stream",
     "text": [
      "---------------------------------\n",
      "| rollout/           |          |\n",
      "|    ep_len_mean     | 1        |\n",
      "|    ep_rew_mean     | 1.08     |\n",
      "| time/              |          |\n",
      "|    episodes        | 740      |\n",
      "|    fps             | 5        |\n",
      "|    time_elapsed    | 126      |\n",
      "|    total_timesteps | 741      |\n",
      "| train/             |          |\n",
      "|    actor_loss      | -1.08    |\n",
      "|    critic_loss     | 0.000161 |\n",
      "|    learning_rate   | 0.001    |\n",
      "|    n_updates       | 640      |\n",
      "---------------------------------\n"
     ]
    },
    {
     "name": "stdout",
     "output_type": "stream",
     "text": [
      "---------------------------------\n",
      "| rollout/           |          |\n",
      "|    ep_len_mean     | 1        |\n",
      "|    ep_rew_mean     | 1.08     |\n",
      "| time/              |          |\n",
      "|    episodes        | 750      |\n",
      "|    fps             | 5        |\n",
      "|    time_elapsed    | 128      |\n",
      "|    total_timesteps | 751      |\n",
      "| train/             |          |\n",
      "|    actor_loss      | -1.09    |\n",
      "|    critic_loss     | 0.000187 |\n",
      "|    learning_rate   | 0.001    |\n",
      "|    n_updates       | 650      |\n",
      "---------------------------------\n"
     ]
    },
    {
     "name": "stdout",
     "output_type": "stream",
     "text": [
      "---------------------------------\n",
      "| rollout/           |          |\n",
      "|    ep_len_mean     | 1        |\n",
      "|    ep_rew_mean     | 1.08     |\n",
      "| time/              |          |\n",
      "|    episodes        | 760      |\n",
      "|    fps             | 5        |\n",
      "|    time_elapsed    | 130      |\n",
      "|    total_timesteps | 761      |\n",
      "| train/             |          |\n",
      "|    actor_loss      | -1.09    |\n",
      "|    critic_loss     | 0.00414  |\n",
      "|    learning_rate   | 0.001    |\n",
      "|    n_updates       | 660      |\n",
      "---------------------------------\n"
     ]
    },
    {
     "name": "stdout",
     "output_type": "stream",
     "text": [
      "---------------------------------\n",
      "| rollout/           |          |\n",
      "|    ep_len_mean     | 1        |\n",
      "|    ep_rew_mean     | 1.08     |\n",
      "| time/              |          |\n",
      "|    episodes        | 770      |\n",
      "|    fps             | 5        |\n",
      "|    time_elapsed    | 132      |\n",
      "|    total_timesteps | 771      |\n",
      "| train/             |          |\n",
      "|    actor_loss      | -1.08    |\n",
      "|    critic_loss     | 0.000264 |\n",
      "|    learning_rate   | 0.001    |\n",
      "|    n_updates       | 670      |\n",
      "---------------------------------\n"
     ]
    },
    {
     "name": "stdout",
     "output_type": "stream",
     "text": [
      "---------------------------------\n",
      "| rollout/           |          |\n",
      "|    ep_len_mean     | 1        |\n",
      "|    ep_rew_mean     | 1.08     |\n",
      "| time/              |          |\n",
      "|    episodes        | 780      |\n",
      "|    fps             | 5        |\n",
      "|    time_elapsed    | 134      |\n",
      "|    total_timesteps | 781      |\n",
      "| train/             |          |\n",
      "|    actor_loss      | -1.09    |\n",
      "|    critic_loss     | 0.00326  |\n",
      "|    learning_rate   | 0.001    |\n",
      "|    n_updates       | 680      |\n",
      "---------------------------------\n"
     ]
    },
    {
     "name": "stdout",
     "output_type": "stream",
     "text": [
      "---------------------------------\n",
      "| rollout/           |          |\n",
      "|    ep_len_mean     | 1        |\n",
      "|    ep_rew_mean     | 1.08     |\n",
      "| time/              |          |\n",
      "|    episodes        | 790      |\n",
      "|    fps             | 5        |\n",
      "|    time_elapsed    | 136      |\n",
      "|    total_timesteps | 791      |\n",
      "| train/             |          |\n",
      "|    actor_loss      | -1.08    |\n",
      "|    critic_loss     | 7.21e-05 |\n",
      "|    learning_rate   | 0.001    |\n",
      "|    n_updates       | 690      |\n",
      "---------------------------------\n"
     ]
    },
    {
     "name": "stdout",
     "output_type": "stream",
     "text": [
      "---------------------------------\n",
      "| rollout/           |          |\n",
      "|    ep_len_mean     | 1        |\n",
      "|    ep_rew_mean     | 1.08     |\n",
      "| time/              |          |\n",
      "|    episodes        | 800      |\n",
      "|    fps             | 5        |\n",
      "|    time_elapsed    | 138      |\n",
      "|    total_timesteps | 801      |\n",
      "| train/             |          |\n",
      "|    actor_loss      | -1.08    |\n",
      "|    critic_loss     | 0.000136 |\n",
      "|    learning_rate   | 0.001    |\n",
      "|    n_updates       | 700      |\n",
      "---------------------------------\n"
     ]
    },
    {
     "name": "stdout",
     "output_type": "stream",
     "text": [
      "---------------------------------\n",
      "| rollout/           |          |\n",
      "|    ep_len_mean     | 1        |\n",
      "|    ep_rew_mean     | 1.08     |\n",
      "| time/              |          |\n",
      "|    episodes        | 810      |\n",
      "|    fps             | 5        |\n",
      "|    time_elapsed    | 139      |\n",
      "|    total_timesteps | 811      |\n",
      "| train/             |          |\n",
      "|    actor_loss      | -1.09    |\n",
      "|    critic_loss     | 0.000117 |\n",
      "|    learning_rate   | 0.001    |\n",
      "|    n_updates       | 710      |\n",
      "---------------------------------\n"
     ]
    },
    {
     "name": "stdout",
     "output_type": "stream",
     "text": [
      "---------------------------------\n",
      "| rollout/           |          |\n",
      "|    ep_len_mean     | 1        |\n",
      "|    ep_rew_mean     | 1.08     |\n",
      "| time/              |          |\n",
      "|    episodes        | 820      |\n",
      "|    fps             | 5        |\n",
      "|    time_elapsed    | 141      |\n",
      "|    total_timesteps | 821      |\n",
      "| train/             |          |\n",
      "|    actor_loss      | -1.08    |\n",
      "|    critic_loss     | 7.15e-05 |\n",
      "|    learning_rate   | 0.001    |\n",
      "|    n_updates       | 720      |\n",
      "---------------------------------\n"
     ]
    },
    {
     "name": "stdout",
     "output_type": "stream",
     "text": [
      "---------------------------------\n",
      "| rollout/           |          |\n",
      "|    ep_len_mean     | 1        |\n",
      "|    ep_rew_mean     | 1.08     |\n",
      "| time/              |          |\n",
      "|    episodes        | 830      |\n",
      "|    fps             | 5        |\n",
      "|    time_elapsed    | 143      |\n",
      "|    total_timesteps | 831      |\n",
      "| train/             |          |\n",
      "|    actor_loss      | -1.08    |\n",
      "|    critic_loss     | 6.05e-05 |\n",
      "|    learning_rate   | 0.001    |\n",
      "|    n_updates       | 730      |\n",
      "---------------------------------\n"
     ]
    },
    {
     "name": "stdout",
     "output_type": "stream",
     "text": [
      "---------------------------------\n",
      "| rollout/           |          |\n",
      "|    ep_len_mean     | 1        |\n",
      "|    ep_rew_mean     | 1.08     |\n",
      "| time/              |          |\n",
      "|    episodes        | 840      |\n",
      "|    fps             | 5        |\n",
      "|    time_elapsed    | 145      |\n",
      "|    total_timesteps | 841      |\n",
      "| train/             |          |\n",
      "|    actor_loss      | -1.08    |\n",
      "|    critic_loss     | 6.84e-05 |\n",
      "|    learning_rate   | 0.001    |\n",
      "|    n_updates       | 740      |\n",
      "---------------------------------\n"
     ]
    },
    {
     "name": "stdout",
     "output_type": "stream",
     "text": [
      "---------------------------------\n",
      "| rollout/           |          |\n",
      "|    ep_len_mean     | 1        |\n",
      "|    ep_rew_mean     | 1.08     |\n",
      "| time/              |          |\n",
      "|    episodes        | 850      |\n",
      "|    fps             | 5        |\n",
      "|    time_elapsed    | 147      |\n",
      "|    total_timesteps | 851      |\n",
      "| train/             |          |\n",
      "|    actor_loss      | -1.08    |\n",
      "|    critic_loss     | 0.000124 |\n",
      "|    learning_rate   | 0.001    |\n",
      "|    n_updates       | 750      |\n",
      "---------------------------------\n"
     ]
    },
    {
     "name": "stdout",
     "output_type": "stream",
     "text": [
      "---------------------------------\n",
      "| rollout/           |          |\n",
      "|    ep_len_mean     | 1        |\n",
      "|    ep_rew_mean     | 1.08     |\n",
      "| time/              |          |\n",
      "|    episodes        | 860      |\n",
      "|    fps             | 5        |\n",
      "|    time_elapsed    | 149      |\n",
      "|    total_timesteps | 861      |\n",
      "| train/             |          |\n",
      "|    actor_loss      | -1.08    |\n",
      "|    critic_loss     | 8.53e-05 |\n",
      "|    learning_rate   | 0.001    |\n",
      "|    n_updates       | 760      |\n",
      "---------------------------------\n"
     ]
    },
    {
     "name": "stdout",
     "output_type": "stream",
     "text": [
      "---------------------------------\n",
      "| rollout/           |          |\n",
      "|    ep_len_mean     | 1        |\n",
      "|    ep_rew_mean     | 1.08     |\n",
      "| time/              |          |\n",
      "|    episodes        | 870      |\n",
      "|    fps             | 5        |\n",
      "|    time_elapsed    | 151      |\n",
      "|    total_timesteps | 871      |\n",
      "| train/             |          |\n",
      "|    actor_loss      | -1.08    |\n",
      "|    critic_loss     | 0.000129 |\n",
      "|    learning_rate   | 0.001    |\n",
      "|    n_updates       | 770      |\n",
      "---------------------------------\n"
     ]
    },
    {
     "name": "stdout",
     "output_type": "stream",
     "text": [
      "---------------------------------\n",
      "| rollout/           |          |\n",
      "|    ep_len_mean     | 1        |\n",
      "|    ep_rew_mean     | 1.08     |\n",
      "| time/              |          |\n",
      "|    episodes        | 880      |\n",
      "|    fps             | 5        |\n",
      "|    time_elapsed    | 153      |\n",
      "|    total_timesteps | 881      |\n",
      "| train/             |          |\n",
      "|    actor_loss      | -1.08    |\n",
      "|    critic_loss     | 8.44e-05 |\n",
      "|    learning_rate   | 0.001    |\n",
      "|    n_updates       | 780      |\n",
      "---------------------------------\n"
     ]
    },
    {
     "name": "stdout",
     "output_type": "stream",
     "text": [
      "---------------------------------\n",
      "| rollout/           |          |\n",
      "|    ep_len_mean     | 1        |\n",
      "|    ep_rew_mean     | 1.08     |\n",
      "| time/              |          |\n",
      "|    episodes        | 890      |\n",
      "|    fps             | 5        |\n",
      "|    time_elapsed    | 154      |\n",
      "|    total_timesteps | 891      |\n",
      "| train/             |          |\n",
      "|    actor_loss      | -1.08    |\n",
      "|    critic_loss     | 6.39e-05 |\n",
      "|    learning_rate   | 0.001    |\n",
      "|    n_updates       | 790      |\n",
      "---------------------------------\n"
     ]
    },
    {
     "name": "stdout",
     "output_type": "stream",
     "text": [
      "---------------------------------\n",
      "| rollout/           |          |\n",
      "|    ep_len_mean     | 1        |\n",
      "|    ep_rew_mean     | 1.08     |\n",
      "| time/              |          |\n",
      "|    episodes        | 900      |\n",
      "|    fps             | 5        |\n",
      "|    time_elapsed    | 156      |\n",
      "|    total_timesteps | 901      |\n",
      "| train/             |          |\n",
      "|    actor_loss      | -1.09    |\n",
      "|    critic_loss     | 3.61e-05 |\n",
      "|    learning_rate   | 0.001    |\n",
      "|    n_updates       | 800      |\n",
      "---------------------------------\n"
     ]
    },
    {
     "name": "stdout",
     "output_type": "stream",
     "text": [
      "---------------------------------\n",
      "| rollout/           |          |\n",
      "|    ep_len_mean     | 1        |\n",
      "|    ep_rew_mean     | 1.08     |\n",
      "| time/              |          |\n",
      "|    episodes        | 910      |\n",
      "|    fps             | 5        |\n",
      "|    time_elapsed    | 158      |\n",
      "|    total_timesteps | 911      |\n",
      "| train/             |          |\n",
      "|    actor_loss      | -1.08    |\n",
      "|    critic_loss     | 8.29e-05 |\n",
      "|    learning_rate   | 0.001    |\n",
      "|    n_updates       | 810      |\n",
      "---------------------------------\n"
     ]
    },
    {
     "name": "stdout",
     "output_type": "stream",
     "text": [
      "---------------------------------\n",
      "| rollout/           |          |\n",
      "|    ep_len_mean     | 1        |\n",
      "|    ep_rew_mean     | 1.08     |\n",
      "| time/              |          |\n",
      "|    episodes        | 920      |\n",
      "|    fps             | 5        |\n",
      "|    time_elapsed    | 160      |\n",
      "|    total_timesteps | 921      |\n",
      "| train/             |          |\n",
      "|    actor_loss      | -1.08    |\n",
      "|    critic_loss     | 1.5e-05  |\n",
      "|    learning_rate   | 0.001    |\n",
      "|    n_updates       | 820      |\n",
      "---------------------------------\n"
     ]
    },
    {
     "name": "stdout",
     "output_type": "stream",
     "text": [
      "---------------------------------\n",
      "| rollout/           |          |\n",
      "|    ep_len_mean     | 1        |\n",
      "|    ep_rew_mean     | 1.08     |\n",
      "| time/              |          |\n",
      "|    episodes        | 930      |\n",
      "|    fps             | 5        |\n",
      "|    time_elapsed    | 162      |\n",
      "|    total_timesteps | 931      |\n",
      "| train/             |          |\n",
      "|    actor_loss      | -1.08    |\n",
      "|    critic_loss     | 0.000208 |\n",
      "|    learning_rate   | 0.001    |\n",
      "|    n_updates       | 830      |\n",
      "---------------------------------\n"
     ]
    },
    {
     "name": "stdout",
     "output_type": "stream",
     "text": [
      "---------------------------------\n",
      "| rollout/           |          |\n",
      "|    ep_len_mean     | 1        |\n",
      "|    ep_rew_mean     | 1.08     |\n",
      "| time/              |          |\n",
      "|    episodes        | 940      |\n",
      "|    fps             | 5        |\n",
      "|    time_elapsed    | 163      |\n",
      "|    total_timesteps | 941      |\n",
      "| train/             |          |\n",
      "|    actor_loss      | -1.08    |\n",
      "|    critic_loss     | 9.61e-05 |\n",
      "|    learning_rate   | 0.001    |\n",
      "|    n_updates       | 840      |\n",
      "---------------------------------\n"
     ]
    },
    {
     "name": "stdout",
     "output_type": "stream",
     "text": [
      "---------------------------------\n",
      "| rollout/           |          |\n",
      "|    ep_len_mean     | 1        |\n",
      "|    ep_rew_mean     | 1.08     |\n",
      "| time/              |          |\n",
      "|    episodes        | 950      |\n",
      "|    fps             | 5        |\n",
      "|    time_elapsed    | 165      |\n",
      "|    total_timesteps | 951      |\n",
      "| train/             |          |\n",
      "|    actor_loss      | -1.09    |\n",
      "|    critic_loss     | 0.00246  |\n",
      "|    learning_rate   | 0.001    |\n",
      "|    n_updates       | 850      |\n",
      "---------------------------------\n"
     ]
    },
    {
     "name": "stdout",
     "output_type": "stream",
     "text": [
      "---------------------------------\n",
      "| rollout/           |          |\n",
      "|    ep_len_mean     | 1        |\n",
      "|    ep_rew_mean     | 1.08     |\n",
      "| time/              |          |\n",
      "|    episodes        | 960      |\n",
      "|    fps             | 5        |\n",
      "|    time_elapsed    | 167      |\n",
      "|    total_timesteps | 961      |\n",
      "| train/             |          |\n",
      "|    actor_loss      | -1.09    |\n",
      "|    critic_loss     | 0.00169  |\n",
      "|    learning_rate   | 0.001    |\n",
      "|    n_updates       | 860      |\n",
      "---------------------------------\n"
     ]
    },
    {
     "name": "stdout",
     "output_type": "stream",
     "text": [
      "---------------------------------\n",
      "| rollout/           |          |\n",
      "|    ep_len_mean     | 1        |\n",
      "|    ep_rew_mean     | 1.08     |\n",
      "| time/              |          |\n",
      "|    episodes        | 970      |\n",
      "|    fps             | 5        |\n",
      "|    time_elapsed    | 168      |\n",
      "|    total_timesteps | 971      |\n",
      "| train/             |          |\n",
      "|    actor_loss      | -1.08    |\n",
      "|    critic_loss     | 9.83e-05 |\n",
      "|    learning_rate   | 0.001    |\n",
      "|    n_updates       | 870      |\n",
      "---------------------------------\n"
     ]
    },
    {
     "name": "stdout",
     "output_type": "stream",
     "text": [
      "---------------------------------\n",
      "| rollout/           |          |\n",
      "|    ep_len_mean     | 1        |\n",
      "|    ep_rew_mean     | 1.08     |\n",
      "| time/              |          |\n",
      "|    episodes        | 980      |\n",
      "|    fps             | 5        |\n",
      "|    time_elapsed    | 170      |\n",
      "|    total_timesteps | 981      |\n",
      "| train/             |          |\n",
      "|    actor_loss      | -1.08    |\n",
      "|    critic_loss     | 0.000391 |\n",
      "|    learning_rate   | 0.001    |\n",
      "|    n_updates       | 880      |\n",
      "---------------------------------\n"
     ]
    },
    {
     "name": "stdout",
     "output_type": "stream",
     "text": [
      "---------------------------------\n",
      "| rollout/           |          |\n",
      "|    ep_len_mean     | 1        |\n",
      "|    ep_rew_mean     | 1.08     |\n",
      "| time/              |          |\n",
      "|    episodes        | 990      |\n",
      "|    fps             | 5        |\n",
      "|    time_elapsed    | 172      |\n",
      "|    total_timesteps | 991      |\n",
      "| train/             |          |\n",
      "|    actor_loss      | -1.08    |\n",
      "|    critic_loss     | 0.00031  |\n",
      "|    learning_rate   | 0.001    |\n",
      "|    n_updates       | 890      |\n",
      "---------------------------------\n"
     ]
    },
    {
     "name": "stdout",
     "output_type": "stream",
     "text": [
      "---------------------------------\n",
      "| rollout/           |          |\n",
      "|    ep_len_mean     | 1        |\n",
      "|    ep_rew_mean     | 1.08     |\n",
      "| time/              |          |\n",
      "|    episodes        | 1000     |\n",
      "|    fps             | 5        |\n",
      "|    time_elapsed    | 174      |\n",
      "|    total_timesteps | 1001     |\n",
      "| train/             |          |\n",
      "|    actor_loss      | -1.09    |\n",
      "|    critic_loss     | 0.00101  |\n",
      "|    learning_rate   | 0.001    |\n",
      "|    n_updates       | 900      |\n",
      "---------------------------------\n"
     ]
    },
    {
     "name": "stdout",
     "output_type": "stream",
     "text": [
      "---------------------------------\n",
      "| rollout/           |          |\n",
      "|    ep_len_mean     | 1        |\n",
      "|    ep_rew_mean     | 1.08     |\n",
      "| time/              |          |\n",
      "|    episodes        | 1010     |\n",
      "|    fps             | 5        |\n",
      "|    time_elapsed    | 176      |\n",
      "|    total_timesteps | 1011     |\n",
      "| train/             |          |\n",
      "|    actor_loss      | -1.08    |\n",
      "|    critic_loss     | 0.000102 |\n",
      "|    learning_rate   | 0.001    |\n",
      "|    n_updates       | 910      |\n",
      "---------------------------------\n"
     ]
    },
    {
     "name": "stdout",
     "output_type": "stream",
     "text": [
      "---------------------------------\n",
      "| rollout/           |          |\n",
      "|    ep_len_mean     | 1        |\n",
      "|    ep_rew_mean     | 1.08     |\n",
      "| time/              |          |\n",
      "|    episodes        | 1020     |\n",
      "|    fps             | 5        |\n",
      "|    time_elapsed    | 177      |\n",
      "|    total_timesteps | 1021     |\n",
      "| train/             |          |\n",
      "|    actor_loss      | -1.09    |\n",
      "|    critic_loss     | 0.000115 |\n",
      "|    learning_rate   | 0.001    |\n",
      "|    n_updates       | 920      |\n",
      "---------------------------------\n"
     ]
    },
    {
     "name": "stdout",
     "output_type": "stream",
     "text": [
      "---------------------------------\n",
      "| rollout/           |          |\n",
      "|    ep_len_mean     | 1        |\n",
      "|    ep_rew_mean     | 1.08     |\n",
      "| time/              |          |\n",
      "|    episodes        | 1030     |\n",
      "|    fps             | 5        |\n",
      "|    time_elapsed    | 179      |\n",
      "|    total_timesteps | 1031     |\n",
      "| train/             |          |\n",
      "|    actor_loss      | -1.08    |\n",
      "|    critic_loss     | 0.00011  |\n",
      "|    learning_rate   | 0.001    |\n",
      "|    n_updates       | 930      |\n",
      "---------------------------------\n"
     ]
    },
    {
     "name": "stdout",
     "output_type": "stream",
     "text": [
      "---------------------------------\n",
      "| rollout/           |          |\n",
      "|    ep_len_mean     | 1        |\n",
      "|    ep_rew_mean     | 1.08     |\n",
      "| time/              |          |\n",
      "|    episodes        | 1040     |\n",
      "|    fps             | 5        |\n",
      "|    time_elapsed    | 181      |\n",
      "|    total_timesteps | 1041     |\n",
      "| train/             |          |\n",
      "|    actor_loss      | -1.08    |\n",
      "|    critic_loss     | 1.88e-05 |\n",
      "|    learning_rate   | 0.001    |\n",
      "|    n_updates       | 940      |\n",
      "---------------------------------\n"
     ]
    },
    {
     "name": "stdout",
     "output_type": "stream",
     "text": [
      "---------------------------------\n",
      "| rollout/           |          |\n",
      "|    ep_len_mean     | 1        |\n",
      "|    ep_rew_mean     | 1.08     |\n",
      "| time/              |          |\n",
      "|    episodes        | 1050     |\n",
      "|    fps             | 5        |\n",
      "|    time_elapsed    | 183      |\n",
      "|    total_timesteps | 1051     |\n",
      "| train/             |          |\n",
      "|    actor_loss      | -1.08    |\n",
      "|    critic_loss     | 6.17e-05 |\n",
      "|    learning_rate   | 0.001    |\n",
      "|    n_updates       | 950      |\n",
      "---------------------------------\n"
     ]
    },
    {
     "name": "stdout",
     "output_type": "stream",
     "text": [
      "---------------------------------\n",
      "| rollout/           |          |\n",
      "|    ep_len_mean     | 1        |\n",
      "|    ep_rew_mean     | 1.08     |\n",
      "| time/              |          |\n",
      "|    episodes        | 1060     |\n",
      "|    fps             | 5        |\n",
      "|    time_elapsed    | 185      |\n",
      "|    total_timesteps | 1061     |\n",
      "| train/             |          |\n",
      "|    actor_loss      | -1.09    |\n",
      "|    critic_loss     | 3.26e-05 |\n",
      "|    learning_rate   | 0.001    |\n",
      "|    n_updates       | 960      |\n",
      "---------------------------------\n"
     ]
    },
    {
     "name": "stdout",
     "output_type": "stream",
     "text": [
      "---------------------------------\n",
      "| rollout/           |          |\n",
      "|    ep_len_mean     | 1        |\n",
      "|    ep_rew_mean     | 1.08     |\n",
      "| time/              |          |\n",
      "|    episodes        | 1070     |\n",
      "|    fps             | 5        |\n",
      "|    time_elapsed    | 187      |\n",
      "|    total_timesteps | 1071     |\n",
      "| train/             |          |\n",
      "|    actor_loss      | -1.08    |\n",
      "|    critic_loss     | 3.79e-05 |\n",
      "|    learning_rate   | 0.001    |\n",
      "|    n_updates       | 970      |\n",
      "---------------------------------\n"
     ]
    },
    {
     "name": "stdout",
     "output_type": "stream",
     "text": [
      "---------------------------------\n",
      "| rollout/           |          |\n",
      "|    ep_len_mean     | 1        |\n",
      "|    ep_rew_mean     | 1.08     |\n",
      "| time/              |          |\n",
      "|    episodes        | 1080     |\n",
      "|    fps             | 5        |\n",
      "|    time_elapsed    | 188      |\n",
      "|    total_timesteps | 1081     |\n",
      "| train/             |          |\n",
      "|    actor_loss      | -1.09    |\n",
      "|    critic_loss     | 5.82e-05 |\n",
      "|    learning_rate   | 0.001    |\n",
      "|    n_updates       | 980      |\n",
      "---------------------------------\n"
     ]
    },
    {
     "name": "stdout",
     "output_type": "stream",
     "text": [
      "---------------------------------\n",
      "| rollout/           |          |\n",
      "|    ep_len_mean     | 1        |\n",
      "|    ep_rew_mean     | 1.08     |\n",
      "| time/              |          |\n",
      "|    episodes        | 1090     |\n",
      "|    fps             | 5        |\n",
      "|    time_elapsed    | 190      |\n",
      "|    total_timesteps | 1091     |\n",
      "| train/             |          |\n",
      "|    actor_loss      | -1.08    |\n",
      "|    critic_loss     | 0.000221 |\n",
      "|    learning_rate   | 0.001    |\n",
      "|    n_updates       | 990      |\n",
      "---------------------------------\n"
     ]
    },
    {
     "name": "stdout",
     "output_type": "stream",
     "text": [
      "---------------------------------\n",
      "| rollout/           |          |\n",
      "|    ep_len_mean     | 1        |\n",
      "|    ep_rew_mean     | 1.08     |\n",
      "| time/              |          |\n",
      "|    episodes        | 1100     |\n",
      "|    fps             | 5        |\n",
      "|    time_elapsed    | 192      |\n",
      "|    total_timesteps | 1101     |\n",
      "| train/             |          |\n",
      "|    actor_loss      | -1.08    |\n",
      "|    critic_loss     | 0.000145 |\n",
      "|    learning_rate   | 0.001    |\n",
      "|    n_updates       | 1000     |\n",
      "---------------------------------\n"
     ]
    },
    {
     "name": "stdout",
     "output_type": "stream",
     "text": [
      "---------------------------------\n",
      "| rollout/           |          |\n",
      "|    ep_len_mean     | 1        |\n",
      "|    ep_rew_mean     | 1.08     |\n",
      "| time/              |          |\n",
      "|    episodes        | 1110     |\n",
      "|    fps             | 5        |\n",
      "|    time_elapsed    | 194      |\n",
      "|    total_timesteps | 1111     |\n",
      "| train/             |          |\n",
      "|    actor_loss      | -1.09    |\n",
      "|    critic_loss     | 0.000102 |\n",
      "|    learning_rate   | 0.001    |\n",
      "|    n_updates       | 1010     |\n",
      "---------------------------------\n"
     ]
    },
    {
     "name": "stdout",
     "output_type": "stream",
     "text": [
      "---------------------------------\n",
      "| rollout/           |          |\n",
      "|    ep_len_mean     | 1        |\n",
      "|    ep_rew_mean     | 1.08     |\n",
      "| time/              |          |\n",
      "|    episodes        | 1120     |\n",
      "|    fps             | 5        |\n",
      "|    time_elapsed    | 196      |\n",
      "|    total_timesteps | 1121     |\n",
      "| train/             |          |\n",
      "|    actor_loss      | -1.08    |\n",
      "|    critic_loss     | 5.59e-05 |\n",
      "|    learning_rate   | 0.001    |\n",
      "|    n_updates       | 1020     |\n",
      "---------------------------------\n"
     ]
    },
    {
     "name": "stdout",
     "output_type": "stream",
     "text": [
      "---------------------------------\n",
      "| rollout/           |          |\n",
      "|    ep_len_mean     | 1        |\n",
      "|    ep_rew_mean     | 1.08     |\n",
      "| time/              |          |\n",
      "|    episodes        | 1130     |\n",
      "|    fps             | 5        |\n",
      "|    time_elapsed    | 197      |\n",
      "|    total_timesteps | 1131     |\n",
      "| train/             |          |\n",
      "|    actor_loss      | -1.08    |\n",
      "|    critic_loss     | 0.000135 |\n",
      "|    learning_rate   | 0.001    |\n",
      "|    n_updates       | 1030     |\n",
      "---------------------------------\n"
     ]
    },
    {
     "name": "stdout",
     "output_type": "stream",
     "text": [
      "---------------------------------\n",
      "| rollout/           |          |\n",
      "|    ep_len_mean     | 1        |\n",
      "|    ep_rew_mean     | 1.08     |\n",
      "| time/              |          |\n",
      "|    episodes        | 1140     |\n",
      "|    fps             | 5        |\n",
      "|    time_elapsed    | 199      |\n",
      "|    total_timesteps | 1141     |\n",
      "| train/             |          |\n",
      "|    actor_loss      | -1.08    |\n",
      "|    critic_loss     | 0.00074  |\n",
      "|    learning_rate   | 0.001    |\n",
      "|    n_updates       | 1040     |\n",
      "---------------------------------\n"
     ]
    },
    {
     "name": "stdout",
     "output_type": "stream",
     "text": [
      "---------------------------------\n",
      "| rollout/           |          |\n",
      "|    ep_len_mean     | 1        |\n",
      "|    ep_rew_mean     | 1.08     |\n",
      "| time/              |          |\n",
      "|    episodes        | 1150     |\n",
      "|    fps             | 5        |\n",
      "|    time_elapsed    | 201      |\n",
      "|    total_timesteps | 1151     |\n",
      "| train/             |          |\n",
      "|    actor_loss      | -1.09    |\n",
      "|    critic_loss     | 2.38e-05 |\n",
      "|    learning_rate   | 0.001    |\n",
      "|    n_updates       | 1050     |\n",
      "---------------------------------\n"
     ]
    },
    {
     "name": "stdout",
     "output_type": "stream",
     "text": [
      "---------------------------------\n",
      "| rollout/           |          |\n",
      "|    ep_len_mean     | 1        |\n",
      "|    ep_rew_mean     | 1.08     |\n",
      "| time/              |          |\n",
      "|    episodes        | 1160     |\n",
      "|    fps             | 5        |\n",
      "|    time_elapsed    | 203      |\n",
      "|    total_timesteps | 1161     |\n",
      "| train/             |          |\n",
      "|    actor_loss      | -1.08    |\n",
      "|    critic_loss     | 3.38e-05 |\n",
      "|    learning_rate   | 0.001    |\n",
      "|    n_updates       | 1060     |\n",
      "---------------------------------\n"
     ]
    },
    {
     "name": "stdout",
     "output_type": "stream",
     "text": [
      "---------------------------------\n",
      "| rollout/           |          |\n",
      "|    ep_len_mean     | 1        |\n",
      "|    ep_rew_mean     | 1.08     |\n",
      "| time/              |          |\n",
      "|    episodes        | 1170     |\n",
      "|    fps             | 5        |\n",
      "|    time_elapsed    | 205      |\n",
      "|    total_timesteps | 1171     |\n",
      "| train/             |          |\n",
      "|    actor_loss      | -1.09    |\n",
      "|    critic_loss     | 3.61e-05 |\n",
      "|    learning_rate   | 0.001    |\n",
      "|    n_updates       | 1070     |\n",
      "---------------------------------\n"
     ]
    },
    {
     "name": "stdout",
     "output_type": "stream",
     "text": [
      "---------------------------------\n",
      "| rollout/           |          |\n",
      "|    ep_len_mean     | 1        |\n",
      "|    ep_rew_mean     | 1.08     |\n",
      "| time/              |          |\n",
      "|    episodes        | 1180     |\n",
      "|    fps             | 5        |\n",
      "|    time_elapsed    | 206      |\n",
      "|    total_timesteps | 1181     |\n",
      "| train/             |          |\n",
      "|    actor_loss      | -1.08    |\n",
      "|    critic_loss     | 1.71e-05 |\n",
      "|    learning_rate   | 0.001    |\n",
      "|    n_updates       | 1080     |\n",
      "---------------------------------\n"
     ]
    },
    {
     "name": "stdout",
     "output_type": "stream",
     "text": [
      "---------------------------------\n",
      "| rollout/           |          |\n",
      "|    ep_len_mean     | 1        |\n",
      "|    ep_rew_mean     | 1.08     |\n",
      "| time/              |          |\n",
      "|    episodes        | 1190     |\n",
      "|    fps             | 5        |\n",
      "|    time_elapsed    | 208      |\n",
      "|    total_timesteps | 1191     |\n",
      "| train/             |          |\n",
      "|    actor_loss      | -1.08    |\n",
      "|    critic_loss     | 3.88e-05 |\n",
      "|    learning_rate   | 0.001    |\n",
      "|    n_updates       | 1090     |\n",
      "---------------------------------\n"
     ]
    },
    {
     "name": "stdout",
     "output_type": "stream",
     "text": [
      "---------------------------------\n",
      "| rollout/           |          |\n",
      "|    ep_len_mean     | 1        |\n",
      "|    ep_rew_mean     | 1.08     |\n",
      "| time/              |          |\n",
      "|    episodes        | 1200     |\n",
      "|    fps             | 5        |\n",
      "|    time_elapsed    | 210      |\n",
      "|    total_timesteps | 1201     |\n",
      "| train/             |          |\n",
      "|    actor_loss      | -1.08    |\n",
      "|    critic_loss     | 6.79e-05 |\n",
      "|    learning_rate   | 0.001    |\n",
      "|    n_updates       | 1100     |\n",
      "---------------------------------\n"
     ]
    },
    {
     "name": "stdout",
     "output_type": "stream",
     "text": [
      "---------------------------------\n",
      "| rollout/           |          |\n",
      "|    ep_len_mean     | 1        |\n",
      "|    ep_rew_mean     | 1.08     |\n",
      "| time/              |          |\n",
      "|    episodes        | 1210     |\n",
      "|    fps             | 5        |\n",
      "|    time_elapsed    | 212      |\n",
      "|    total_timesteps | 1211     |\n",
      "| train/             |          |\n",
      "|    actor_loss      | -1.08    |\n",
      "|    critic_loss     | 4.61e-05 |\n",
      "|    learning_rate   | 0.001    |\n",
      "|    n_updates       | 1110     |\n",
      "---------------------------------\n"
     ]
    },
    {
     "name": "stdout",
     "output_type": "stream",
     "text": [
      "---------------------------------\n",
      "| rollout/           |          |\n",
      "|    ep_len_mean     | 1        |\n",
      "|    ep_rew_mean     | 1.08     |\n",
      "| time/              |          |\n",
      "|    episodes        | 1220     |\n",
      "|    fps             | 5        |\n",
      "|    time_elapsed    | 214      |\n",
      "|    total_timesteps | 1221     |\n",
      "| train/             |          |\n",
      "|    actor_loss      | -1.08    |\n",
      "|    critic_loss     | 0.000104 |\n",
      "|    learning_rate   | 0.001    |\n",
      "|    n_updates       | 1120     |\n",
      "---------------------------------\n"
     ]
    },
    {
     "name": "stdout",
     "output_type": "stream",
     "text": [
      "---------------------------------\n",
      "| rollout/           |          |\n",
      "|    ep_len_mean     | 1        |\n",
      "|    ep_rew_mean     | 1.08     |\n",
      "| time/              |          |\n",
      "|    episodes        | 1230     |\n",
      "|    fps             | 5        |\n",
      "|    time_elapsed    | 216      |\n",
      "|    total_timesteps | 1231     |\n",
      "| train/             |          |\n",
      "|    actor_loss      | -1.08    |\n",
      "|    critic_loss     | 0.000328 |\n",
      "|    learning_rate   | 0.001    |\n",
      "|    n_updates       | 1130     |\n",
      "---------------------------------\n"
     ]
    },
    {
     "name": "stdout",
     "output_type": "stream",
     "text": [
      "---------------------------------\n",
      "| rollout/           |          |\n",
      "|    ep_len_mean     | 1        |\n",
      "|    ep_rew_mean     | 1.08     |\n",
      "| time/              |          |\n",
      "|    episodes        | 1240     |\n",
      "|    fps             | 5        |\n",
      "|    time_elapsed    | 218      |\n",
      "|    total_timesteps | 1241     |\n",
      "| train/             |          |\n",
      "|    actor_loss      | -1.09    |\n",
      "|    critic_loss     | 3.89e-05 |\n",
      "|    learning_rate   | 0.001    |\n",
      "|    n_updates       | 1140     |\n",
      "---------------------------------\n"
     ]
    },
    {
     "name": "stdout",
     "output_type": "stream",
     "text": [
      "---------------------------------\n",
      "| rollout/           |          |\n",
      "|    ep_len_mean     | 1        |\n",
      "|    ep_rew_mean     | 1.08     |\n",
      "| time/              |          |\n",
      "|    episodes        | 1250     |\n",
      "|    fps             | 5        |\n",
      "|    time_elapsed    | 220      |\n",
      "|    total_timesteps | 1251     |\n",
      "| train/             |          |\n",
      "|    actor_loss      | -1.08    |\n",
      "|    critic_loss     | 2.19e-05 |\n",
      "|    learning_rate   | 0.001    |\n",
      "|    n_updates       | 1150     |\n",
      "---------------------------------\n"
     ]
    },
    {
     "name": "stdout",
     "output_type": "stream",
     "text": [
      "---------------------------------\n",
      "| rollout/           |          |\n",
      "|    ep_len_mean     | 1        |\n",
      "|    ep_rew_mean     | 1.08     |\n",
      "| time/              |          |\n",
      "|    episodes        | 1260     |\n",
      "|    fps             | 5        |\n",
      "|    time_elapsed    | 222      |\n",
      "|    total_timesteps | 1261     |\n",
      "| train/             |          |\n",
      "|    actor_loss      | -1.09    |\n",
      "|    critic_loss     | 0.000497 |\n",
      "|    learning_rate   | 0.001    |\n",
      "|    n_updates       | 1160     |\n",
      "---------------------------------\n"
     ]
    },
    {
     "name": "stdout",
     "output_type": "stream",
     "text": [
      "---------------------------------\n",
      "| rollout/           |          |\n",
      "|    ep_len_mean     | 1        |\n",
      "|    ep_rew_mean     | 1.08     |\n",
      "| time/              |          |\n",
      "|    episodes        | 1270     |\n",
      "|    fps             | 5        |\n",
      "|    time_elapsed    | 224      |\n",
      "|    total_timesteps | 1271     |\n",
      "| train/             |          |\n",
      "|    actor_loss      | -1.08    |\n",
      "|    critic_loss     | 3.16e-05 |\n",
      "|    learning_rate   | 0.001    |\n",
      "|    n_updates       | 1170     |\n",
      "---------------------------------\n"
     ]
    },
    {
     "name": "stdout",
     "output_type": "stream",
     "text": [
      "---------------------------------\n",
      "| rollout/           |          |\n",
      "|    ep_len_mean     | 1        |\n",
      "|    ep_rew_mean     | 1.08     |\n",
      "| time/              |          |\n",
      "|    episodes        | 1280     |\n",
      "|    fps             | 5        |\n",
      "|    time_elapsed    | 226      |\n",
      "|    total_timesteps | 1281     |\n",
      "| train/             |          |\n",
      "|    actor_loss      | -1.08    |\n",
      "|    critic_loss     | 0.000114 |\n",
      "|    learning_rate   | 0.001    |\n",
      "|    n_updates       | 1180     |\n",
      "---------------------------------\n"
     ]
    },
    {
     "name": "stdout",
     "output_type": "stream",
     "text": [
      "---------------------------------\n",
      "| rollout/           |          |\n",
      "|    ep_len_mean     | 1        |\n",
      "|    ep_rew_mean     | 1.08     |\n",
      "| time/              |          |\n",
      "|    episodes        | 1290     |\n",
      "|    fps             | 5        |\n",
      "|    time_elapsed    | 227      |\n",
      "|    total_timesteps | 1291     |\n",
      "| train/             |          |\n",
      "|    actor_loss      | -1.08    |\n",
      "|    critic_loss     | 1.73e-05 |\n",
      "|    learning_rate   | 0.001    |\n",
      "|    n_updates       | 1190     |\n",
      "---------------------------------\n"
     ]
    },
    {
     "name": "stdout",
     "output_type": "stream",
     "text": [
      "---------------------------------\n",
      "| rollout/           |          |\n",
      "|    ep_len_mean     | 1        |\n",
      "|    ep_rew_mean     | 1.08     |\n",
      "| time/              |          |\n",
      "|    episodes        | 1300     |\n",
      "|    fps             | 5        |\n",
      "|    time_elapsed    | 229      |\n",
      "|    total_timesteps | 1301     |\n",
      "| train/             |          |\n",
      "|    actor_loss      | -1.08    |\n",
      "|    critic_loss     | 1.13e-05 |\n",
      "|    learning_rate   | 0.001    |\n",
      "|    n_updates       | 1200     |\n",
      "---------------------------------\n"
     ]
    },
    {
     "name": "stdout",
     "output_type": "stream",
     "text": [
      "---------------------------------\n",
      "| rollout/           |          |\n",
      "|    ep_len_mean     | 1        |\n",
      "|    ep_rew_mean     | 1.08     |\n",
      "| time/              |          |\n",
      "|    episodes        | 1310     |\n",
      "|    fps             | 5        |\n",
      "|    time_elapsed    | 231      |\n",
      "|    total_timesteps | 1311     |\n",
      "| train/             |          |\n",
      "|    actor_loss      | -1.08    |\n",
      "|    critic_loss     | 3.74e-05 |\n",
      "|    learning_rate   | 0.001    |\n",
      "|    n_updates       | 1210     |\n",
      "---------------------------------\n"
     ]
    },
    {
     "name": "stdout",
     "output_type": "stream",
     "text": [
      "---------------------------------\n",
      "| rollout/           |          |\n",
      "|    ep_len_mean     | 1        |\n",
      "|    ep_rew_mean     | 1.08     |\n",
      "| time/              |          |\n",
      "|    episodes        | 1320     |\n",
      "|    fps             | 5        |\n",
      "|    time_elapsed    | 233      |\n",
      "|    total_timesteps | 1321     |\n",
      "| train/             |          |\n",
      "|    actor_loss      | -1.08    |\n",
      "|    critic_loss     | 9.79e-06 |\n",
      "|    learning_rate   | 0.001    |\n",
      "|    n_updates       | 1220     |\n",
      "---------------------------------\n"
     ]
    },
    {
     "name": "stdout",
     "output_type": "stream",
     "text": [
      "---------------------------------\n",
      "| rollout/           |          |\n",
      "|    ep_len_mean     | 1        |\n",
      "|    ep_rew_mean     | 1.08     |\n",
      "| time/              |          |\n",
      "|    episodes        | 1330     |\n",
      "|    fps             | 5        |\n",
      "|    time_elapsed    | 235      |\n",
      "|    total_timesteps | 1331     |\n",
      "| train/             |          |\n",
      "|    actor_loss      | -1.09    |\n",
      "|    critic_loss     | 1.38e-05 |\n",
      "|    learning_rate   | 0.001    |\n",
      "|    n_updates       | 1230     |\n",
      "---------------------------------\n"
     ]
    },
    {
     "name": "stdout",
     "output_type": "stream",
     "text": [
      "---------------------------------\n",
      "| rollout/           |          |\n",
      "|    ep_len_mean     | 1        |\n",
      "|    ep_rew_mean     | 1.08     |\n",
      "| time/              |          |\n",
      "|    episodes        | 1340     |\n",
      "|    fps             | 5        |\n",
      "|    time_elapsed    | 237      |\n",
      "|    total_timesteps | 1341     |\n",
      "| train/             |          |\n",
      "|    actor_loss      | -1.09    |\n",
      "|    critic_loss     | 2.08e-05 |\n",
      "|    learning_rate   | 0.001    |\n",
      "|    n_updates       | 1240     |\n",
      "---------------------------------\n"
     ]
    },
    {
     "name": "stdout",
     "output_type": "stream",
     "text": [
      "---------------------------------\n",
      "| rollout/           |          |\n",
      "|    ep_len_mean     | 1        |\n",
      "|    ep_rew_mean     | 1.08     |\n",
      "| time/              |          |\n",
      "|    episodes        | 1350     |\n",
      "|    fps             | 5        |\n",
      "|    time_elapsed    | 238      |\n",
      "|    total_timesteps | 1351     |\n",
      "| train/             |          |\n",
      "|    actor_loss      | -1.08    |\n",
      "|    critic_loss     | 2.41e-05 |\n",
      "|    learning_rate   | 0.001    |\n",
      "|    n_updates       | 1250     |\n",
      "---------------------------------\n"
     ]
    },
    {
     "name": "stdout",
     "output_type": "stream",
     "text": [
      "---------------------------------\n",
      "| rollout/           |          |\n",
      "|    ep_len_mean     | 1        |\n",
      "|    ep_rew_mean     | 1.08     |\n",
      "| time/              |          |\n",
      "|    episodes        | 1360     |\n",
      "|    fps             | 5        |\n",
      "|    time_elapsed    | 240      |\n",
      "|    total_timesteps | 1361     |\n",
      "| train/             |          |\n",
      "|    actor_loss      | -1.08    |\n",
      "|    critic_loss     | 1.17e-05 |\n",
      "|    learning_rate   | 0.001    |\n",
      "|    n_updates       | 1260     |\n",
      "---------------------------------\n"
     ]
    },
    {
     "name": "stdout",
     "output_type": "stream",
     "text": [
      "---------------------------------\n",
      "| rollout/           |          |\n",
      "|    ep_len_mean     | 1        |\n",
      "|    ep_rew_mean     | 1.08     |\n",
      "| time/              |          |\n",
      "|    episodes        | 1370     |\n",
      "|    fps             | 5        |\n",
      "|    time_elapsed    | 242      |\n",
      "|    total_timesteps | 1371     |\n",
      "| train/             |          |\n",
      "|    actor_loss      | -1.08    |\n",
      "|    critic_loss     | 3.39e-05 |\n",
      "|    learning_rate   | 0.001    |\n",
      "|    n_updates       | 1270     |\n",
      "---------------------------------\n"
     ]
    },
    {
     "name": "stdout",
     "output_type": "stream",
     "text": [
      "---------------------------------\n",
      "| rollout/           |          |\n",
      "|    ep_len_mean     | 1        |\n",
      "|    ep_rew_mean     | 1.08     |\n",
      "| time/              |          |\n",
      "|    episodes        | 1380     |\n",
      "|    fps             | 5        |\n",
      "|    time_elapsed    | 244      |\n",
      "|    total_timesteps | 1381     |\n",
      "| train/             |          |\n",
      "|    actor_loss      | -1.08    |\n",
      "|    critic_loss     | 1.71e-05 |\n",
      "|    learning_rate   | 0.001    |\n",
      "|    n_updates       | 1280     |\n",
      "---------------------------------\n"
     ]
    },
    {
     "name": "stdout",
     "output_type": "stream",
     "text": [
      "---------------------------------\n",
      "| rollout/           |          |\n",
      "|    ep_len_mean     | 1        |\n",
      "|    ep_rew_mean     | 1.08     |\n",
      "| time/              |          |\n",
      "|    episodes        | 1390     |\n",
      "|    fps             | 5        |\n",
      "|    time_elapsed    | 246      |\n",
      "|    total_timesteps | 1391     |\n",
      "| train/             |          |\n",
      "|    actor_loss      | -1.08    |\n",
      "|    critic_loss     | 1.42e-05 |\n",
      "|    learning_rate   | 0.001    |\n",
      "|    n_updates       | 1290     |\n",
      "---------------------------------\n"
     ]
    },
    {
     "name": "stdout",
     "output_type": "stream",
     "text": [
      "---------------------------------\n",
      "| rollout/           |          |\n",
      "|    ep_len_mean     | 1        |\n",
      "|    ep_rew_mean     | 1.08     |\n",
      "| time/              |          |\n",
      "|    episodes        | 1400     |\n",
      "|    fps             | 5        |\n",
      "|    time_elapsed    | 248      |\n",
      "|    total_timesteps | 1401     |\n",
      "| train/             |          |\n",
      "|    actor_loss      | -1.08    |\n",
      "|    critic_loss     | 2.44e-05 |\n",
      "|    learning_rate   | 0.001    |\n",
      "|    n_updates       | 1300     |\n",
      "---------------------------------\n"
     ]
    },
    {
     "name": "stdout",
     "output_type": "stream",
     "text": [
      "---------------------------------\n",
      "| rollout/           |          |\n",
      "|    ep_len_mean     | 1        |\n",
      "|    ep_rew_mean     | 1.08     |\n",
      "| time/              |          |\n",
      "|    episodes        | 1410     |\n",
      "|    fps             | 5        |\n",
      "|    time_elapsed    | 249      |\n",
      "|    total_timesteps | 1411     |\n",
      "| train/             |          |\n",
      "|    actor_loss      | -1.08    |\n",
      "|    critic_loss     | 3.6e-05  |\n",
      "|    learning_rate   | 0.001    |\n",
      "|    n_updates       | 1310     |\n",
      "---------------------------------\n"
     ]
    },
    {
     "name": "stdout",
     "output_type": "stream",
     "text": [
      "---------------------------------\n",
      "| rollout/           |          |\n",
      "|    ep_len_mean     | 1        |\n",
      "|    ep_rew_mean     | 1.08     |\n",
      "| time/              |          |\n",
      "|    episodes        | 1420     |\n",
      "|    fps             | 5        |\n",
      "|    time_elapsed    | 251      |\n",
      "|    total_timesteps | 1421     |\n",
      "| train/             |          |\n",
      "|    actor_loss      | -1.08    |\n",
      "|    critic_loss     | 0.000121 |\n",
      "|    learning_rate   | 0.001    |\n",
      "|    n_updates       | 1320     |\n",
      "---------------------------------\n"
     ]
    },
    {
     "name": "stdout",
     "output_type": "stream",
     "text": [
      "---------------------------------\n",
      "| rollout/           |          |\n",
      "|    ep_len_mean     | 1        |\n",
      "|    ep_rew_mean     | 1.08     |\n",
      "| time/              |          |\n",
      "|    episodes        | 1430     |\n",
      "|    fps             | 5        |\n",
      "|    time_elapsed    | 253      |\n",
      "|    total_timesteps | 1431     |\n",
      "| train/             |          |\n",
      "|    actor_loss      | -1.08    |\n",
      "|    critic_loss     | 4.64e-05 |\n",
      "|    learning_rate   | 0.001    |\n",
      "|    n_updates       | 1330     |\n",
      "---------------------------------\n"
     ]
    },
    {
     "name": "stdout",
     "output_type": "stream",
     "text": [
      "---------------------------------\n",
      "| rollout/           |          |\n",
      "|    ep_len_mean     | 1        |\n",
      "|    ep_rew_mean     | 1.08     |\n",
      "| time/              |          |\n",
      "|    episodes        | 1440     |\n",
      "|    fps             | 5        |\n",
      "|    time_elapsed    | 255      |\n",
      "|    total_timesteps | 1441     |\n",
      "| train/             |          |\n",
      "|    actor_loss      | -1.08    |\n",
      "|    critic_loss     | 1.22e-05 |\n",
      "|    learning_rate   | 0.001    |\n",
      "|    n_updates       | 1340     |\n",
      "---------------------------------\n"
     ]
    },
    {
     "name": "stdout",
     "output_type": "stream",
     "text": [
      "---------------------------------\n",
      "| rollout/           |          |\n",
      "|    ep_len_mean     | 1        |\n",
      "|    ep_rew_mean     | 1.08     |\n",
      "| time/              |          |\n",
      "|    episodes        | 1450     |\n",
      "|    fps             | 5        |\n",
      "|    time_elapsed    | 257      |\n",
      "|    total_timesteps | 1451     |\n",
      "| train/             |          |\n",
      "|    actor_loss      | -1.09    |\n",
      "|    critic_loss     | 1.49e-05 |\n",
      "|    learning_rate   | 0.001    |\n",
      "|    n_updates       | 1350     |\n",
      "---------------------------------\n"
     ]
    },
    {
     "name": "stdout",
     "output_type": "stream",
     "text": [
      "---------------------------------\n",
      "| rollout/           |          |\n",
      "|    ep_len_mean     | 1        |\n",
      "|    ep_rew_mean     | 1.08     |\n",
      "| time/              |          |\n",
      "|    episodes        | 1460     |\n",
      "|    fps             | 5        |\n",
      "|    time_elapsed    | 259      |\n",
      "|    total_timesteps | 1461     |\n",
      "| train/             |          |\n",
      "|    actor_loss      | -1.09    |\n",
      "|    critic_loss     | 8.08e-06 |\n",
      "|    learning_rate   | 0.001    |\n",
      "|    n_updates       | 1360     |\n",
      "---------------------------------\n"
     ]
    },
    {
     "name": "stdout",
     "output_type": "stream",
     "text": [
      "---------------------------------\n",
      "| rollout/           |          |\n",
      "|    ep_len_mean     | 1        |\n",
      "|    ep_rew_mean     | 1.08     |\n",
      "| time/              |          |\n",
      "|    episodes        | 1470     |\n",
      "|    fps             | 5        |\n",
      "|    time_elapsed    | 260      |\n",
      "|    total_timesteps | 1471     |\n",
      "| train/             |          |\n",
      "|    actor_loss      | -1.08    |\n",
      "|    critic_loss     | 2.37e-05 |\n",
      "|    learning_rate   | 0.001    |\n",
      "|    n_updates       | 1370     |\n",
      "---------------------------------\n"
     ]
    },
    {
     "name": "stdout",
     "output_type": "stream",
     "text": [
      "---------------------------------\n",
      "| rollout/           |          |\n",
      "|    ep_len_mean     | 1        |\n",
      "|    ep_rew_mean     | 1.08     |\n",
      "| time/              |          |\n",
      "|    episodes        | 1480     |\n",
      "|    fps             | 5        |\n",
      "|    time_elapsed    | 262      |\n",
      "|    total_timesteps | 1481     |\n",
      "| train/             |          |\n",
      "|    actor_loss      | -1.08    |\n",
      "|    critic_loss     | 5.15e-05 |\n",
      "|    learning_rate   | 0.001    |\n",
      "|    n_updates       | 1380     |\n",
      "---------------------------------\n"
     ]
    },
    {
     "name": "stdout",
     "output_type": "stream",
     "text": [
      "---------------------------------\n",
      "| rollout/           |          |\n",
      "|    ep_len_mean     | 1        |\n",
      "|    ep_rew_mean     | 1.08     |\n",
      "| time/              |          |\n",
      "|    episodes        | 1490     |\n",
      "|    fps             | 5        |\n",
      "|    time_elapsed    | 264      |\n",
      "|    total_timesteps | 1491     |\n",
      "| train/             |          |\n",
      "|    actor_loss      | -1.08    |\n",
      "|    critic_loss     | 1.57e-05 |\n",
      "|    learning_rate   | 0.001    |\n",
      "|    n_updates       | 1390     |\n",
      "---------------------------------\n"
     ]
    },
    {
     "name": "stdout",
     "output_type": "stream",
     "text": [
      "---------------------------------\n",
      "| rollout/           |          |\n",
      "|    ep_len_mean     | 1        |\n",
      "|    ep_rew_mean     | 1.08     |\n",
      "| time/              |          |\n",
      "|    episodes        | 1500     |\n",
      "|    fps             | 5        |\n",
      "|    time_elapsed    | 266      |\n",
      "|    total_timesteps | 1501     |\n",
      "| train/             |          |\n",
      "|    actor_loss      | -1.08    |\n",
      "|    critic_loss     | 1.93e-05 |\n",
      "|    learning_rate   | 0.001    |\n",
      "|    n_updates       | 1400     |\n",
      "---------------------------------\n"
     ]
    },
    {
     "name": "stdout",
     "output_type": "stream",
     "text": [
      "---------------------------------\n",
      "| rollout/           |          |\n",
      "|    ep_len_mean     | 1        |\n",
      "|    ep_rew_mean     | 1.08     |\n",
      "| time/              |          |\n",
      "|    episodes        | 1510     |\n",
      "|    fps             | 5        |\n",
      "|    time_elapsed    | 268      |\n",
      "|    total_timesteps | 1511     |\n",
      "| train/             |          |\n",
      "|    actor_loss      | -1.09    |\n",
      "|    critic_loss     | 3.29e-05 |\n",
      "|    learning_rate   | 0.001    |\n",
      "|    n_updates       | 1410     |\n",
      "---------------------------------\n"
     ]
    },
    {
     "name": "stdout",
     "output_type": "stream",
     "text": [
      "---------------------------------\n",
      "| rollout/           |          |\n",
      "|    ep_len_mean     | 1        |\n",
      "|    ep_rew_mean     | 1.08     |\n",
      "| time/              |          |\n",
      "|    episodes        | 1520     |\n",
      "|    fps             | 5        |\n",
      "|    time_elapsed    | 270      |\n",
      "|    total_timesteps | 1521     |\n",
      "| train/             |          |\n",
      "|    actor_loss      | -1.08    |\n",
      "|    critic_loss     | 1.97e-05 |\n",
      "|    learning_rate   | 0.001    |\n",
      "|    n_updates       | 1420     |\n",
      "---------------------------------\n"
     ]
    },
    {
     "name": "stdout",
     "output_type": "stream",
     "text": [
      "---------------------------------\n",
      "| rollout/           |          |\n",
      "|    ep_len_mean     | 1        |\n",
      "|    ep_rew_mean     | 1.08     |\n",
      "| time/              |          |\n",
      "|    episodes        | 1530     |\n",
      "|    fps             | 5        |\n",
      "|    time_elapsed    | 272      |\n",
      "|    total_timesteps | 1531     |\n",
      "| train/             |          |\n",
      "|    actor_loss      | -1.08    |\n",
      "|    critic_loss     | 1.59e-05 |\n",
      "|    learning_rate   | 0.001    |\n",
      "|    n_updates       | 1430     |\n",
      "---------------------------------\n"
     ]
    },
    {
     "name": "stdout",
     "output_type": "stream",
     "text": [
      "---------------------------------\n",
      "| rollout/           |          |\n",
      "|    ep_len_mean     | 1        |\n",
      "|    ep_rew_mean     | 1.08     |\n",
      "| time/              |          |\n",
      "|    episodes        | 1540     |\n",
      "|    fps             | 5        |\n",
      "|    time_elapsed    | 273      |\n",
      "|    total_timesteps | 1541     |\n",
      "| train/             |          |\n",
      "|    actor_loss      | -1.09    |\n",
      "|    critic_loss     | 0.000106 |\n",
      "|    learning_rate   | 0.001    |\n",
      "|    n_updates       | 1440     |\n",
      "---------------------------------\n"
     ]
    },
    {
     "name": "stdout",
     "output_type": "stream",
     "text": [
      "---------------------------------\n",
      "| rollout/           |          |\n",
      "|    ep_len_mean     | 1        |\n",
      "|    ep_rew_mean     | 1.08     |\n",
      "| time/              |          |\n",
      "|    episodes        | 1550     |\n",
      "|    fps             | 5        |\n",
      "|    time_elapsed    | 275      |\n",
      "|    total_timesteps | 1551     |\n",
      "| train/             |          |\n",
      "|    actor_loss      | -1.08    |\n",
      "|    critic_loss     | 2.4e-05  |\n",
      "|    learning_rate   | 0.001    |\n",
      "|    n_updates       | 1450     |\n",
      "---------------------------------\n"
     ]
    },
    {
     "name": "stdout",
     "output_type": "stream",
     "text": [
      "---------------------------------\n",
      "| rollout/           |          |\n",
      "|    ep_len_mean     | 1        |\n",
      "|    ep_rew_mean     | 1.08     |\n",
      "| time/              |          |\n",
      "|    episodes        | 1560     |\n",
      "|    fps             | 5        |\n",
      "|    time_elapsed    | 277      |\n",
      "|    total_timesteps | 1561     |\n",
      "| train/             |          |\n",
      "|    actor_loss      | -1.08    |\n",
      "|    critic_loss     | 9.9e-06  |\n",
      "|    learning_rate   | 0.001    |\n",
      "|    n_updates       | 1460     |\n",
      "---------------------------------\n"
     ]
    },
    {
     "name": "stdout",
     "output_type": "stream",
     "text": [
      "---------------------------------\n",
      "| rollout/           |          |\n",
      "|    ep_len_mean     | 1        |\n",
      "|    ep_rew_mean     | 1.08     |\n",
      "| time/              |          |\n",
      "|    episodes        | 1570     |\n",
      "|    fps             | 5        |\n",
      "|    time_elapsed    | 279      |\n",
      "|    total_timesteps | 1571     |\n",
      "| train/             |          |\n",
      "|    actor_loss      | -1.08    |\n",
      "|    critic_loss     | 0.000134 |\n",
      "|    learning_rate   | 0.001    |\n",
      "|    n_updates       | 1470     |\n",
      "---------------------------------\n"
     ]
    },
    {
     "name": "stdout",
     "output_type": "stream",
     "text": [
      "---------------------------------\n",
      "| rollout/           |          |\n",
      "|    ep_len_mean     | 1        |\n",
      "|    ep_rew_mean     | 1.08     |\n",
      "| time/              |          |\n",
      "|    episodes        | 1580     |\n",
      "|    fps             | 5        |\n",
      "|    time_elapsed    | 281      |\n",
      "|    total_timesteps | 1581     |\n",
      "| train/             |          |\n",
      "|    actor_loss      | -1.09    |\n",
      "|    critic_loss     | 1.09e-05 |\n",
      "|    learning_rate   | 0.001    |\n",
      "|    n_updates       | 1480     |\n",
      "---------------------------------\n"
     ]
    },
    {
     "name": "stdout",
     "output_type": "stream",
     "text": [
      "---------------------------------\n",
      "| rollout/           |          |\n",
      "|    ep_len_mean     | 1        |\n",
      "|    ep_rew_mean     | 1.08     |\n",
      "| time/              |          |\n",
      "|    episodes        | 1590     |\n",
      "|    fps             | 5        |\n",
      "|    time_elapsed    | 283      |\n",
      "|    total_timesteps | 1591     |\n",
      "| train/             |          |\n",
      "|    actor_loss      | -1.08    |\n",
      "|    critic_loss     | 7.01e-05 |\n",
      "|    learning_rate   | 0.001    |\n",
      "|    n_updates       | 1490     |\n",
      "---------------------------------\n"
     ]
    },
    {
     "name": "stdout",
     "output_type": "stream",
     "text": [
      "---------------------------------\n",
      "| rollout/           |          |\n",
      "|    ep_len_mean     | 1        |\n",
      "|    ep_rew_mean     | 1.08     |\n",
      "| time/              |          |\n",
      "|    episodes        | 1600     |\n",
      "|    fps             | 5        |\n",
      "|    time_elapsed    | 285      |\n",
      "|    total_timesteps | 1601     |\n",
      "| train/             |          |\n",
      "|    actor_loss      | -1.09    |\n",
      "|    critic_loss     | 5.15e-05 |\n",
      "|    learning_rate   | 0.001    |\n",
      "|    n_updates       | 1500     |\n",
      "---------------------------------\n"
     ]
    },
    {
     "name": "stdout",
     "output_type": "stream",
     "text": [
      "---------------------------------\n",
      "| rollout/           |          |\n",
      "|    ep_len_mean     | 1        |\n",
      "|    ep_rew_mean     | 1.08     |\n",
      "| time/              |          |\n",
      "|    episodes        | 1610     |\n",
      "|    fps             | 5        |\n",
      "|    time_elapsed    | 287      |\n",
      "|    total_timesteps | 1611     |\n",
      "| train/             |          |\n",
      "|    actor_loss      | -1.09    |\n",
      "|    critic_loss     | 3.36e-05 |\n",
      "|    learning_rate   | 0.001    |\n",
      "|    n_updates       | 1510     |\n",
      "---------------------------------\n"
     ]
    },
    {
     "name": "stdout",
     "output_type": "stream",
     "text": [
      "---------------------------------\n",
      "| rollout/           |          |\n",
      "|    ep_len_mean     | 1        |\n",
      "|    ep_rew_mean     | 1.08     |\n",
      "| time/              |          |\n",
      "|    episodes        | 1620     |\n",
      "|    fps             | 5        |\n",
      "|    time_elapsed    | 289      |\n",
      "|    total_timesteps | 1621     |\n",
      "| train/             |          |\n",
      "|    actor_loss      | -1.09    |\n",
      "|    critic_loss     | 8.47e-05 |\n",
      "|    learning_rate   | 0.001    |\n",
      "|    n_updates       | 1520     |\n",
      "---------------------------------\n"
     ]
    },
    {
     "name": "stdout",
     "output_type": "stream",
     "text": [
      "---------------------------------\n",
      "| rollout/           |          |\n",
      "|    ep_len_mean     | 1        |\n",
      "|    ep_rew_mean     | 1.08     |\n",
      "| time/              |          |\n",
      "|    episodes        | 1630     |\n",
      "|    fps             | 5        |\n",
      "|    time_elapsed    | 291      |\n",
      "|    total_timesteps | 1631     |\n",
      "| train/             |          |\n",
      "|    actor_loss      | -1.09    |\n",
      "|    critic_loss     | 3.83e-05 |\n",
      "|    learning_rate   | 0.001    |\n",
      "|    n_updates       | 1530     |\n",
      "---------------------------------\n"
     ]
    },
    {
     "name": "stdout",
     "output_type": "stream",
     "text": [
      "---------------------------------\n",
      "| rollout/           |          |\n",
      "|    ep_len_mean     | 1        |\n",
      "|    ep_rew_mean     | 1.08     |\n",
      "| time/              |          |\n",
      "|    episodes        | 1640     |\n",
      "|    fps             | 5        |\n",
      "|    time_elapsed    | 292      |\n",
      "|    total_timesteps | 1641     |\n",
      "| train/             |          |\n",
      "|    actor_loss      | -1.09    |\n",
      "|    critic_loss     | 1.87e-05 |\n",
      "|    learning_rate   | 0.001    |\n",
      "|    n_updates       | 1540     |\n",
      "---------------------------------\n"
     ]
    },
    {
     "name": "stdout",
     "output_type": "stream",
     "text": [
      "---------------------------------\n",
      "| rollout/           |          |\n",
      "|    ep_len_mean     | 1        |\n",
      "|    ep_rew_mean     | 1.08     |\n",
      "| time/              |          |\n",
      "|    episodes        | 1650     |\n",
      "|    fps             | 5        |\n",
      "|    time_elapsed    | 294      |\n",
      "|    total_timesteps | 1651     |\n",
      "| train/             |          |\n",
      "|    actor_loss      | -1.09    |\n",
      "|    critic_loss     | 1.9e-05  |\n",
      "|    learning_rate   | 0.001    |\n",
      "|    n_updates       | 1550     |\n",
      "---------------------------------\n"
     ]
    },
    {
     "name": "stdout",
     "output_type": "stream",
     "text": [
      "---------------------------------\n",
      "| rollout/           |          |\n",
      "|    ep_len_mean     | 1        |\n",
      "|    ep_rew_mean     | 1.08     |\n",
      "| time/              |          |\n",
      "|    episodes        | 1660     |\n",
      "|    fps             | 5        |\n",
      "|    time_elapsed    | 296      |\n",
      "|    total_timesteps | 1661     |\n",
      "| train/             |          |\n",
      "|    actor_loss      | -1.08    |\n",
      "|    critic_loss     | 5.8e-06  |\n",
      "|    learning_rate   | 0.001    |\n",
      "|    n_updates       | 1560     |\n",
      "---------------------------------\n"
     ]
    },
    {
     "name": "stdout",
     "output_type": "stream",
     "text": [
      "---------------------------------\n",
      "| rollout/           |          |\n",
      "|    ep_len_mean     | 1        |\n",
      "|    ep_rew_mean     | 1.08     |\n",
      "| time/              |          |\n",
      "|    episodes        | 1670     |\n",
      "|    fps             | 5        |\n",
      "|    time_elapsed    | 298      |\n",
      "|    total_timesteps | 1671     |\n",
      "| train/             |          |\n",
      "|    actor_loss      | -1.08    |\n",
      "|    critic_loss     | 2.87e-05 |\n",
      "|    learning_rate   | 0.001    |\n",
      "|    n_updates       | 1570     |\n",
      "---------------------------------\n"
     ]
    },
    {
     "ename": "KeyboardInterrupt",
     "evalue": "",
     "output_type": "error",
     "traceback": [
      "\u001b[0;31m---------------------------------------------------------------------------\u001b[0m",
      "\u001b[0;31mKeyboardInterrupt\u001b[0m                         Traceback (most recent call last)",
      "\u001b[0;32m/tmp/ipykernel_1246/1220543752.py\u001b[0m in \u001b[0;36m<module>\u001b[0;34m\u001b[0m\n\u001b[1;32m      4\u001b[0m \u001b[0mTIMESTEPS\u001b[0m \u001b[0;34m=\u001b[0m \u001b[0;36m10000\u001b[0m\u001b[0;34m\u001b[0m\u001b[0;34m\u001b[0m\u001b[0m\n\u001b[1;32m      5\u001b[0m \u001b[0mmodel\u001b[0m \u001b[0;34m=\u001b[0m \u001b[0mMODEL_CLASS\u001b[0m\u001b[0;34m(\u001b[0m\u001b[0;34m\"MlpPolicy\"\u001b[0m\u001b[0;34m,\u001b[0m \u001b[0menv\u001b[0m\u001b[0;34m,\u001b[0m \u001b[0mverbose\u001b[0m\u001b[0;34m=\u001b[0m\u001b[0;36m1\u001b[0m\u001b[0;34m,\u001b[0m \u001b[0mtensorboard_log\u001b[0m\u001b[0;34m=\u001b[0m\u001b[0mlogdir\u001b[0m\u001b[0;34m,\u001b[0m \u001b[0maction_noise\u001b[0m\u001b[0;34m=\u001b[0m\u001b[0maction_noise\u001b[0m\u001b[0;34m,\u001b[0m \u001b[0mdevice\u001b[0m\u001b[0;34m=\u001b[0m\u001b[0;34m'cpu'\u001b[0m\u001b[0;34m)\u001b[0m\u001b[0;34m\u001b[0m\u001b[0;34m\u001b[0m\u001b[0m\n\u001b[0;32m----> 6\u001b[0;31m model.learn(total_timesteps=TIMESTEPS, log_interval=10, tb_log_name=MODEL_NAME,\n\u001b[0m\u001b[1;32m      7\u001b[0m              \u001b[0mprogress_bar\u001b[0m\u001b[0;34m=\u001b[0m\u001b[0;32mTrue\u001b[0m\u001b[0;34m,\u001b[0m\u001b[0;34m\u001b[0m\u001b[0;34m\u001b[0m\u001b[0m\n\u001b[1;32m      8\u001b[0m                )\n",
      "\u001b[0;32m~/anaconda3/envs/SB3/lib/python3.9/site-packages/stable_baselines3/td3/td3.py\u001b[0m in \u001b[0;36mlearn\u001b[0;34m(self, total_timesteps, callback, log_interval, tb_log_name, reset_num_timesteps, progress_bar)\u001b[0m\n\u001b[1;32m    220\u001b[0m         \u001b[0mprogress_bar\u001b[0m\u001b[0;34m:\u001b[0m \u001b[0mbool\u001b[0m \u001b[0;34m=\u001b[0m \u001b[0;32mFalse\u001b[0m\u001b[0;34m,\u001b[0m\u001b[0;34m\u001b[0m\u001b[0;34m\u001b[0m\u001b[0m\n\u001b[1;32m    221\u001b[0m     ) -> SelfTD3:\n\u001b[0;32m--> 222\u001b[0;31m         return super().learn(\n\u001b[0m\u001b[1;32m    223\u001b[0m             \u001b[0mtotal_timesteps\u001b[0m\u001b[0;34m=\u001b[0m\u001b[0mtotal_timesteps\u001b[0m\u001b[0;34m,\u001b[0m\u001b[0;34m\u001b[0m\u001b[0;34m\u001b[0m\u001b[0m\n\u001b[1;32m    224\u001b[0m             \u001b[0mcallback\u001b[0m\u001b[0;34m=\u001b[0m\u001b[0mcallback\u001b[0m\u001b[0;34m,\u001b[0m\u001b[0;34m\u001b[0m\u001b[0;34m\u001b[0m\u001b[0m\n",
      "\u001b[0;32m~/anaconda3/envs/SB3/lib/python3.9/site-packages/stable_baselines3/common/off_policy_algorithm.py\u001b[0m in \u001b[0;36mlearn\u001b[0;34m(self, total_timesteps, callback, log_interval, tb_log_name, reset_num_timesteps, progress_bar)\u001b[0m\n\u001b[1;32m    310\u001b[0m \u001b[0;34m\u001b[0m\u001b[0m\n\u001b[1;32m    311\u001b[0m         \u001b[0;32mwhile\u001b[0m \u001b[0mself\u001b[0m\u001b[0;34m.\u001b[0m\u001b[0mnum_timesteps\u001b[0m \u001b[0;34m<\u001b[0m \u001b[0mtotal_timesteps\u001b[0m\u001b[0;34m:\u001b[0m\u001b[0;34m\u001b[0m\u001b[0;34m\u001b[0m\u001b[0m\n\u001b[0;32m--> 312\u001b[0;31m             rollout = self.collect_rollouts(\n\u001b[0m\u001b[1;32m    313\u001b[0m                 \u001b[0mself\u001b[0m\u001b[0;34m.\u001b[0m\u001b[0menv\u001b[0m\u001b[0;34m,\u001b[0m\u001b[0;34m\u001b[0m\u001b[0;34m\u001b[0m\u001b[0m\n\u001b[1;32m    314\u001b[0m                 \u001b[0mtrain_freq\u001b[0m\u001b[0;34m=\u001b[0m\u001b[0mself\u001b[0m\u001b[0;34m.\u001b[0m\u001b[0mtrain_freq\u001b[0m\u001b[0;34m,\u001b[0m\u001b[0;34m\u001b[0m\u001b[0;34m\u001b[0m\u001b[0m\n",
      "\u001b[0;32m~/anaconda3/envs/SB3/lib/python3.9/site-packages/stable_baselines3/common/off_policy_algorithm.py\u001b[0m in \u001b[0;36mcollect_rollouts\u001b[0;34m(self, env, callback, train_freq, replay_buffer, action_noise, learning_starts, log_interval)\u001b[0m\n\u001b[1;32m    542\u001b[0m \u001b[0;34m\u001b[0m\u001b[0m\n\u001b[1;32m    543\u001b[0m             \u001b[0;31m# Rescale and perform action\u001b[0m\u001b[0;34m\u001b[0m\u001b[0;34m\u001b[0m\u001b[0m\n\u001b[0;32m--> 544\u001b[0;31m             \u001b[0mnew_obs\u001b[0m\u001b[0;34m,\u001b[0m \u001b[0mrewards\u001b[0m\u001b[0;34m,\u001b[0m \u001b[0mdones\u001b[0m\u001b[0;34m,\u001b[0m \u001b[0minfos\u001b[0m \u001b[0;34m=\u001b[0m \u001b[0menv\u001b[0m\u001b[0;34m.\u001b[0m\u001b[0mstep\u001b[0m\u001b[0;34m(\u001b[0m\u001b[0mactions\u001b[0m\u001b[0;34m)\u001b[0m\u001b[0;34m\u001b[0m\u001b[0;34m\u001b[0m\u001b[0m\n\u001b[0m\u001b[1;32m    545\u001b[0m \u001b[0;34m\u001b[0m\u001b[0m\n\u001b[1;32m    546\u001b[0m             \u001b[0mself\u001b[0m\u001b[0;34m.\u001b[0m\u001b[0mnum_timesteps\u001b[0m \u001b[0;34m+=\u001b[0m \u001b[0menv\u001b[0m\u001b[0;34m.\u001b[0m\u001b[0mnum_envs\u001b[0m\u001b[0;34m\u001b[0m\u001b[0;34m\u001b[0m\u001b[0m\n",
      "\u001b[0;32m~/anaconda3/envs/SB3/lib/python3.9/site-packages/stable_baselines3/common/vec_env/base_vec_env.py\u001b[0m in \u001b[0;36mstep\u001b[0;34m(self, actions)\u001b[0m\n\u001b[1;32m    186\u001b[0m         \"\"\"\n\u001b[1;32m    187\u001b[0m         \u001b[0mself\u001b[0m\u001b[0;34m.\u001b[0m\u001b[0mstep_async\u001b[0m\u001b[0;34m(\u001b[0m\u001b[0mactions\u001b[0m\u001b[0;34m)\u001b[0m\u001b[0;34m\u001b[0m\u001b[0;34m\u001b[0m\u001b[0m\n\u001b[0;32m--> 188\u001b[0;31m         \u001b[0;32mreturn\u001b[0m \u001b[0mself\u001b[0m\u001b[0;34m.\u001b[0m\u001b[0mstep_wait\u001b[0m\u001b[0;34m(\u001b[0m\u001b[0;34m)\u001b[0m\u001b[0;34m\u001b[0m\u001b[0;34m\u001b[0m\u001b[0m\n\u001b[0m\u001b[1;32m    189\u001b[0m \u001b[0;34m\u001b[0m\u001b[0m\n\u001b[1;32m    190\u001b[0m     \u001b[0;32mdef\u001b[0m \u001b[0mget_images\u001b[0m\u001b[0;34m(\u001b[0m\u001b[0mself\u001b[0m\u001b[0;34m)\u001b[0m \u001b[0;34m->\u001b[0m \u001b[0mSequence\u001b[0m\u001b[0;34m[\u001b[0m\u001b[0mOptional\u001b[0m\u001b[0;34m[\u001b[0m\u001b[0mnp\u001b[0m\u001b[0;34m.\u001b[0m\u001b[0mndarray\u001b[0m\u001b[0;34m]\u001b[0m\u001b[0;34m]\u001b[0m\u001b[0;34m:\u001b[0m\u001b[0;34m\u001b[0m\u001b[0;34m\u001b[0m\u001b[0m\n",
      "\u001b[0;32m~/anaconda3/envs/SB3/lib/python3.9/site-packages/stable_baselines3/common/vec_env/dummy_vec_env.py\u001b[0m in \u001b[0;36mstep_wait\u001b[0;34m(self)\u001b[0m\n\u001b[1;32m     68\u001b[0m                 \u001b[0;31m# save final observation where user can get it, then reset\u001b[0m\u001b[0;34m\u001b[0m\u001b[0;34m\u001b[0m\u001b[0m\n\u001b[1;32m     69\u001b[0m                 \u001b[0mself\u001b[0m\u001b[0;34m.\u001b[0m\u001b[0mbuf_infos\u001b[0m\u001b[0;34m[\u001b[0m\u001b[0menv_idx\u001b[0m\u001b[0;34m]\u001b[0m\u001b[0;34m[\u001b[0m\u001b[0;34m\"terminal_observation\"\u001b[0m\u001b[0;34m]\u001b[0m \u001b[0;34m=\u001b[0m \u001b[0mobs\u001b[0m\u001b[0;34m\u001b[0m\u001b[0;34m\u001b[0m\u001b[0m\n\u001b[0;32m---> 70\u001b[0;31m                 \u001b[0mobs\u001b[0m\u001b[0;34m,\u001b[0m \u001b[0mself\u001b[0m\u001b[0;34m.\u001b[0m\u001b[0mreset_infos\u001b[0m\u001b[0;34m[\u001b[0m\u001b[0menv_idx\u001b[0m\u001b[0;34m]\u001b[0m \u001b[0;34m=\u001b[0m \u001b[0mself\u001b[0m\u001b[0;34m.\u001b[0m\u001b[0menvs\u001b[0m\u001b[0;34m[\u001b[0m\u001b[0menv_idx\u001b[0m\u001b[0;34m]\u001b[0m\u001b[0;34m.\u001b[0m\u001b[0mreset\u001b[0m\u001b[0;34m(\u001b[0m\u001b[0;34m)\u001b[0m\u001b[0;34m\u001b[0m\u001b[0;34m\u001b[0m\u001b[0m\n\u001b[0m\u001b[1;32m     71\u001b[0m             \u001b[0mself\u001b[0m\u001b[0;34m.\u001b[0m\u001b[0m_save_obs\u001b[0m\u001b[0;34m(\u001b[0m\u001b[0menv_idx\u001b[0m\u001b[0;34m,\u001b[0m \u001b[0mobs\u001b[0m\u001b[0;34m)\u001b[0m\u001b[0;34m\u001b[0m\u001b[0;34m\u001b[0m\u001b[0m\n\u001b[1;32m     72\u001b[0m         \u001b[0;32mreturn\u001b[0m \u001b[0;34m(\u001b[0m\u001b[0mself\u001b[0m\u001b[0;34m.\u001b[0m\u001b[0m_obs_from_buf\u001b[0m\u001b[0;34m(\u001b[0m\u001b[0;34m)\u001b[0m\u001b[0;34m,\u001b[0m \u001b[0mnp\u001b[0m\u001b[0;34m.\u001b[0m\u001b[0mcopy\u001b[0m\u001b[0;34m(\u001b[0m\u001b[0mself\u001b[0m\u001b[0;34m.\u001b[0m\u001b[0mbuf_rews\u001b[0m\u001b[0;34m)\u001b[0m\u001b[0;34m,\u001b[0m \u001b[0mnp\u001b[0m\u001b[0;34m.\u001b[0m\u001b[0mcopy\u001b[0m\u001b[0;34m(\u001b[0m\u001b[0mself\u001b[0m\u001b[0;34m.\u001b[0m\u001b[0mbuf_dones\u001b[0m\u001b[0;34m)\u001b[0m\u001b[0;34m,\u001b[0m \u001b[0mdeepcopy\u001b[0m\u001b[0;34m(\u001b[0m\u001b[0mself\u001b[0m\u001b[0;34m.\u001b[0m\u001b[0mbuf_infos\u001b[0m\u001b[0;34m)\u001b[0m\u001b[0;34m)\u001b[0m\u001b[0;34m\u001b[0m\u001b[0;34m\u001b[0m\u001b[0m\n",
      "\u001b[0;32m~/anaconda3/envs/SB3/lib/python3.9/site-packages/stable_baselines3/common/monitor.py\u001b[0m in \u001b[0;36mreset\u001b[0;34m(self, **kwargs)\u001b[0m\n\u001b[1;32m     81\u001b[0m                 \u001b[0;32mraise\u001b[0m \u001b[0mValueError\u001b[0m\u001b[0;34m(\u001b[0m\u001b[0;34mf\"Expected you to pass keyword argument {key} into reset\"\u001b[0m\u001b[0;34m)\u001b[0m\u001b[0;34m\u001b[0m\u001b[0;34m\u001b[0m\u001b[0m\n\u001b[1;32m     82\u001b[0m             \u001b[0mself\u001b[0m\u001b[0;34m.\u001b[0m\u001b[0mcurrent_reset_info\u001b[0m\u001b[0;34m[\u001b[0m\u001b[0mkey\u001b[0m\u001b[0;34m]\u001b[0m \u001b[0;34m=\u001b[0m \u001b[0mvalue\u001b[0m\u001b[0;34m\u001b[0m\u001b[0;34m\u001b[0m\u001b[0m\n\u001b[0;32m---> 83\u001b[0;31m         \u001b[0;32mreturn\u001b[0m \u001b[0mself\u001b[0m\u001b[0;34m.\u001b[0m\u001b[0menv\u001b[0m\u001b[0;34m.\u001b[0m\u001b[0mreset\u001b[0m\u001b[0;34m(\u001b[0m\u001b[0;34m**\u001b[0m\u001b[0mkwargs\u001b[0m\u001b[0;34m)\u001b[0m\u001b[0;34m\u001b[0m\u001b[0;34m\u001b[0m\u001b[0m\n\u001b[0m\u001b[1;32m     84\u001b[0m \u001b[0;34m\u001b[0m\u001b[0m\n\u001b[1;32m     85\u001b[0m     \u001b[0;32mdef\u001b[0m \u001b[0mstep\u001b[0m\u001b[0;34m(\u001b[0m\u001b[0mself\u001b[0m\u001b[0;34m,\u001b[0m \u001b[0maction\u001b[0m\u001b[0;34m:\u001b[0m \u001b[0mActType\u001b[0m\u001b[0;34m)\u001b[0m \u001b[0;34m->\u001b[0m \u001b[0mTuple\u001b[0m\u001b[0;34m[\u001b[0m\u001b[0mObsType\u001b[0m\u001b[0;34m,\u001b[0m \u001b[0mSupportsFloat\u001b[0m\u001b[0;34m,\u001b[0m \u001b[0mbool\u001b[0m\u001b[0;34m,\u001b[0m \u001b[0mbool\u001b[0m\u001b[0;34m,\u001b[0m \u001b[0mDict\u001b[0m\u001b[0;34m[\u001b[0m\u001b[0mstr\u001b[0m\u001b[0;34m,\u001b[0m \u001b[0mAny\u001b[0m\u001b[0;34m]\u001b[0m\u001b[0;34m]\u001b[0m\u001b[0;34m:\u001b[0m\u001b[0;34m\u001b[0m\u001b[0;34m\u001b[0m\u001b[0m\n",
      "\u001b[0;32m~/anaconda3/envs/SB3/lib/python3.9/site-packages/gymnasium/core.py\u001b[0m in \u001b[0;36mreset\u001b[0;34m(self, seed, options)\u001b[0m\n\u001b[1;32m    412\u001b[0m     ) -> tuple[WrapperObsType, dict[str, Any]]:\n\u001b[1;32m    413\u001b[0m         \u001b[0;34m\"\"\"Uses the :meth:`reset` of the :attr:`env` that can be overwritten to change the returned data.\"\"\"\u001b[0m\u001b[0;34m\u001b[0m\u001b[0;34m\u001b[0m\u001b[0m\n\u001b[0;32m--> 414\u001b[0;31m         \u001b[0;32mreturn\u001b[0m \u001b[0mself\u001b[0m\u001b[0;34m.\u001b[0m\u001b[0menv\u001b[0m\u001b[0;34m.\u001b[0m\u001b[0mreset\u001b[0m\u001b[0;34m(\u001b[0m\u001b[0mseed\u001b[0m\u001b[0;34m=\u001b[0m\u001b[0mseed\u001b[0m\u001b[0;34m,\u001b[0m \u001b[0moptions\u001b[0m\u001b[0;34m=\u001b[0m\u001b[0moptions\u001b[0m\u001b[0;34m)\u001b[0m\u001b[0;34m\u001b[0m\u001b[0;34m\u001b[0m\u001b[0m\n\u001b[0m\u001b[1;32m    415\u001b[0m \u001b[0;34m\u001b[0m\u001b[0m\n\u001b[1;32m    416\u001b[0m     \u001b[0;32mdef\u001b[0m \u001b[0mrender\u001b[0m\u001b[0;34m(\u001b[0m\u001b[0mself\u001b[0m\u001b[0;34m)\u001b[0m \u001b[0;34m->\u001b[0m \u001b[0mRenderFrame\u001b[0m \u001b[0;34m|\u001b[0m \u001b[0mlist\u001b[0m\u001b[0;34m[\u001b[0m\u001b[0mRenderFrame\u001b[0m\u001b[0;34m]\u001b[0m \u001b[0;34m|\u001b[0m \u001b[0;32mNone\u001b[0m\u001b[0;34m:\u001b[0m\u001b[0;34m\u001b[0m\u001b[0;34m\u001b[0m\u001b[0m\n",
      "\u001b[0;32m~/anaconda3/envs/SB3/lib/python3.9/site-packages/gymnasium/core.py\u001b[0m in \u001b[0;36mreset\u001b[0;34m(self, seed, options)\u001b[0m\n\u001b[1;32m    460\u001b[0m     ) -> tuple[WrapperObsType, dict[str, Any]]:\n\u001b[1;32m    461\u001b[0m         \u001b[0;34m\"\"\"Modifies the :attr:`env` after calling :meth:`reset`, returning a modified observation using :meth:`self.observation`.\"\"\"\u001b[0m\u001b[0;34m\u001b[0m\u001b[0;34m\u001b[0m\u001b[0m\n\u001b[0;32m--> 462\u001b[0;31m         \u001b[0mobs\u001b[0m\u001b[0;34m,\u001b[0m \u001b[0minfo\u001b[0m \u001b[0;34m=\u001b[0m \u001b[0mself\u001b[0m\u001b[0;34m.\u001b[0m\u001b[0menv\u001b[0m\u001b[0;34m.\u001b[0m\u001b[0mreset\u001b[0m\u001b[0;34m(\u001b[0m\u001b[0mseed\u001b[0m\u001b[0;34m=\u001b[0m\u001b[0mseed\u001b[0m\u001b[0;34m,\u001b[0m \u001b[0moptions\u001b[0m\u001b[0;34m=\u001b[0m\u001b[0moptions\u001b[0m\u001b[0;34m)\u001b[0m\u001b[0;34m\u001b[0m\u001b[0;34m\u001b[0m\u001b[0m\n\u001b[0m\u001b[1;32m    463\u001b[0m         \u001b[0;32mreturn\u001b[0m \u001b[0mself\u001b[0m\u001b[0;34m.\u001b[0m\u001b[0mobservation\u001b[0m\u001b[0;34m(\u001b[0m\u001b[0mobs\u001b[0m\u001b[0;34m)\u001b[0m\u001b[0;34m,\u001b[0m \u001b[0minfo\u001b[0m\u001b[0;34m\u001b[0m\u001b[0;34m\u001b[0m\u001b[0m\n\u001b[1;32m    464\u001b[0m \u001b[0;34m\u001b[0m\u001b[0m\n",
      "\u001b[0;32m~/projects/gym_envs_urdf/urdfenvs/urdf_common/urdf_env.py\u001b[0m in \u001b[0;36mreset\u001b[0;34m(self, seed, options, pos, vel, mount_positions, mount_orientations)\u001b[0m\n\u001b[1;32m    584\u001b[0m         \u001b[0;32mfor\u001b[0m \u001b[0mi\u001b[0m\u001b[0;34m,\u001b[0m \u001b[0mrobot\u001b[0m \u001b[0;32min\u001b[0m \u001b[0menumerate\u001b[0m\u001b[0;34m(\u001b[0m\u001b[0mself\u001b[0m\u001b[0;34m.\u001b[0m\u001b[0m_robots\u001b[0m\u001b[0;34m)\u001b[0m\u001b[0;34m:\u001b[0m\u001b[0;34m\u001b[0m\u001b[0;34m\u001b[0m\u001b[0m\n\u001b[1;32m    585\u001b[0m             \u001b[0mchecked_position\u001b[0m\u001b[0;34m,\u001b[0m \u001b[0mchecked_velocity\u001b[0m \u001b[0;34m=\u001b[0m \u001b[0mrobot\u001b[0m\u001b[0;34m.\u001b[0m\u001b[0mcheck_state\u001b[0m\u001b[0;34m(\u001b[0m\u001b[0mpos\u001b[0m\u001b[0;34m[\u001b[0m\u001b[0mi\u001b[0m\u001b[0;34m]\u001b[0m\u001b[0;34m,\u001b[0m \u001b[0mvel\u001b[0m\u001b[0;34m[\u001b[0m\u001b[0mi\u001b[0m\u001b[0;34m]\u001b[0m\u001b[0;34m)\u001b[0m\u001b[0;34m\u001b[0m\u001b[0;34m\u001b[0m\u001b[0m\n\u001b[0;32m--> 586\u001b[0;31m             robot.reset(\n\u001b[0m\u001b[1;32m    587\u001b[0m                 \u001b[0mpos\u001b[0m\u001b[0;34m=\u001b[0m\u001b[0mchecked_position\u001b[0m\u001b[0;34m,\u001b[0m\u001b[0;34m\u001b[0m\u001b[0;34m\u001b[0m\u001b[0m\n\u001b[1;32m    588\u001b[0m                 \u001b[0mvel\u001b[0m\u001b[0;34m=\u001b[0m\u001b[0mchecked_velocity\u001b[0m\u001b[0;34m,\u001b[0m\u001b[0;34m\u001b[0m\u001b[0;34m\u001b[0m\u001b[0m\n",
      "\u001b[0;32m~/projects/gym_envs_urdf/urdfenvs/urdf_common/holonomic_robot.py\u001b[0m in \u001b[0;36mreset\u001b[0;34m(self, pos, vel, mount_position, mount_orientation)\u001b[0m\n\u001b[1;32m     18\u001b[0m         \u001b[0;32mif\u001b[0m \u001b[0mhasattr\u001b[0m\u001b[0;34m(\u001b[0m\u001b[0mself\u001b[0m\u001b[0;34m,\u001b[0m \u001b[0;34m\"_robot\"\u001b[0m\u001b[0;34m)\u001b[0m\u001b[0;34m:\u001b[0m\u001b[0;34m\u001b[0m\u001b[0;34m\u001b[0m\u001b[0m\n\u001b[1;32m     19\u001b[0m             \u001b[0mp\u001b[0m\u001b[0;34m.\u001b[0m\u001b[0mremoveBody\u001b[0m\u001b[0;34m(\u001b[0m\u001b[0mself\u001b[0m\u001b[0;34m.\u001b[0m\u001b[0m_robot\u001b[0m\u001b[0;34m)\u001b[0m\u001b[0;34m\u001b[0m\u001b[0;34m\u001b[0m\u001b[0m\n\u001b[0;32m---> 20\u001b[0;31m         self._robot = p.loadURDF(\n\u001b[0m\u001b[1;32m     21\u001b[0m             \u001b[0mfileName\u001b[0m\u001b[0;34m=\u001b[0m\u001b[0mself\u001b[0m\u001b[0;34m.\u001b[0m\u001b[0m_urdf_file\u001b[0m\u001b[0;34m,\u001b[0m\u001b[0;34m\u001b[0m\u001b[0;34m\u001b[0m\u001b[0m\n\u001b[1;32m     22\u001b[0m             \u001b[0mbasePosition\u001b[0m\u001b[0;34m=\u001b[0m\u001b[0mmount_position\u001b[0m\u001b[0;34m.\u001b[0m\u001b[0mtolist\u001b[0m\u001b[0;34m(\u001b[0m\u001b[0;34m)\u001b[0m\u001b[0;34m,\u001b[0m\u001b[0;34m\u001b[0m\u001b[0;34m\u001b[0m\u001b[0m\n",
      "\u001b[0;31mKeyboardInterrupt\u001b[0m: "
     ]
    }
   ],
   "source": [
    "n_actions = env.action_space.shape[-1]\n",
    "action_noise = NormalActionNoise(mean=np.zeros(n_actions), sigma=0.1 * np.ones(n_actions))\n",
    "\n",
    "TIMESTEPS = 10000\n",
    "model = MODEL_CLASS(\"MlpPolicy\", env, verbose=1, tensorboard_log=logdir, action_noise=action_noise, device='cpu')\n",
    "model.learn(total_timesteps=TIMESTEPS, log_interval=10, tb_log_name=MODEL_NAME,\n",
    "             progress_bar=True,\n",
    "               )\n",
    "model.save(f\"{MODEL_NAME}-model\")"
   ]
  },
  {
   "cell_type": "code",
   "execution_count": null,
   "metadata": {},
   "outputs": [
    {
     "name": "stdout",
     "output_type": "stream",
     "text": [
      "numActiveThreads = 0\n",
      "stopping threads\n",
      "Thread with taskId 0 exiting\n",
      "Thread TERMINATED\n",
      "destroy semaphore\n",
      "semaphore destroyed\n",
      "destroy main semaphore\n",
      "main semaphore destroyed\n",
      "finished\n",
      "numActiveThreads = 0\n",
      "btShutDownExampleBrowser stopping threads\n",
      "Thread with taskId 0 exiting\n",
      "Thread TERMINATED\n",
      "destroy semaphore\n",
      "semaphore destroyed\n",
      "destroy main semaphore\n",
      "main semaphore destroyed\n"
     ]
    }
   ],
   "source": [
    "env.close()"
   ]
  }
 ],
 "metadata": {
  "kernelspec": {
   "display_name": "SB3",
   "language": "python",
   "name": "python3"
  },
  "language_info": {
   "codemirror_mode": {
    "name": "ipython",
    "version": 3
   },
   "file_extension": ".py",
   "mimetype": "text/x-python",
   "name": "python",
   "nbconvert_exporter": "python",
   "pygments_lexer": "ipython3",
   "version": "3.9.13"
  },
  "orig_nbformat": 4
 },
 "nbformat": 4,
 "nbformat_minor": 2
}
